{
 "cells": [
  {
   "cell_type": "markdown",
   "metadata": {},
   "source": [
    "## Table List in Dataset"
   ]
  },
  {
   "cell_type": "markdown",
   "metadata": {},
   "source": [
    "<img src=\"images/field_list_sample_snowflake.png\">"
   ]
  },
  {
   "cell_type": "markdown",
   "metadata": {},
   "source": [
    "## Import Library"
   ]
  },
  {
   "cell_type": "code",
   "execution_count": null,
   "id": "48344089",
   "metadata": {},
   "outputs": [],
   "source": [
    "# Import Library\n",
    "import pandas as pd\n",
    "import os\n",
    "\n",
    "pd.options.mode.chained_assignment = None\n",
    "pd.options.display.float_format = '{:.2f}'.format"
   ]
  },
  {
   "cell_type": "markdown",
   "id": "ecf65191",
   "metadata": {},
   "source": [
    "## Read Data"
   ]
  },
  {
   "cell_type": "code",
   "execution_count": null,
   "id": "0abd26ed",
   "metadata": {
    "collapsed": true
   },
   "outputs": [],
   "source": [
    "# Read raw data from csv\n",
    "data_dir = \"data\"# Add path to folder contained dataset file\n",
    "customer_df = pd.read_csv(f\"{data_dir}/CUSTOMER.csv\") \n",
    "lineitem_df = pd.read_csv(f\"{data_dir}/LINEITEM.csv\")\n",
    "nation_df = pd.read_csv(f\"{data_dir}/NATION.csv\")\n",
    "order_df = pd.read_csv(f\"{data_dir}/ORDER.csv\")\n",
    "part_df = pd.read_csv(f\"{data_dir}/PART.csv\")\n",
    "partsupp_df = pd.read_csv(f\"{data_dir}/PARTSUPP.csv\")\n",
    "region_df = pd.read_csv(f\"{data_dir}/REGION.csv\")\n",
    "supplier_df = pd.read_csv(f\"{data_dir}/SUPPLIER.csv\")"
   ]
  },
  {
   "cell_type": "markdown",
   "id": "cf84218a",
   "metadata": {},
   "source": [
    "## Data Exploration"
   ]
  },
  {
   "cell_type": "markdown",
   "id": "fc04373f",
   "metadata": {},
   "source": [
    "#### Lineitem"
   ]
  },
  {
   "cell_type": "markdown",
   "id": "deacee93",
   "metadata": {},
   "source": [
    "`DataFrame.info()`\n",
    "> A method to prints a summary of the DataFrame including:\n",
    "> - Indexes\n",
    "> - Columns\n",
    "> - Non-null values\n",
    "> - Data types \n",
    "> - Memory usage"
   ]
  },
  {
   "cell_type": "code",
   "execution_count": null,
   "id": "4c6cfb9f",
   "metadata": {},
   "outputs": [],
   "source": [
    "# Display a summary info of Lineitem.\n",
    "lineitem_df.info()"
   ]
  },
  {
   "cell_type": "markdown",
   "id": "defda4a2",
   "metadata": {},
   "source": [
    "`DataFrame.describe()`\n",
    "> A method to display descriptive statistics (such as `count`, `mean`, `std`, `min`, `max`, `percentiles` for numeric data) of the DataFrame.\n",
    "\n",
    "`DataFrame.apply(func, axis=0)` \n",
    "> A method to apply a function along an axis (either `axis=0`: DataFrame’s index (default) or `axis=1`: the DataFrame’s columns) of the DataFrame."
   ]
  },
  {
   "cell_type": "code",
   "execution_count": null,
   "id": "a1c0f13d",
   "metadata": {},
   "outputs": [],
   "source": [
    "# Display the descriptive statistics of Lineitem\n",
    "lineitem_df.describe()"
   ]
  },
  {
   "cell_type": "markdown",
   "id": "c49acddb",
   "metadata": {},
   "source": [
    "`DataFrame.head(n=5)`\n",
    "> A method to return the first n rows (default=5) for the object based on position."
   ]
  },
  {
   "cell_type": "code",
   "execution_count": null,
   "id": "ad1b8565",
   "metadata": {
    "scrolled": true
   },
   "outputs": [],
   "source": [
    "# Display sample of Lineitem.\n",
    "lineitem_df.head()"
   ]
  },
  {
   "cell_type": "markdown",
   "id": "b8546380",
   "metadata": {},
   "source": [
    "#### Order"
   ]
  },
  {
   "cell_type": "code",
   "execution_count": null,
   "id": "441ba1c3",
   "metadata": {},
   "outputs": [],
   "source": [
    "# Display a summary info of Order.\n",
    "order_df.info()"
   ]
  },
  {
   "cell_type": "code",
   "execution_count": null,
   "id": "4bd5a18e",
   "metadata": {},
   "outputs": [],
   "source": [
    "# Display the descriptive statistics of Order\n",
    "order_df.describe()"
   ]
  },
  {
   "cell_type": "code",
   "execution_count": null,
   "id": "21c11785",
   "metadata": {},
   "outputs": [],
   "source": [
    "# Display sample of Order\n",
    "order_df.head()"
   ]
  },
  {
   "cell_type": "markdown",
   "id": "c2f2bf12",
   "metadata": {},
   "source": [
    "#### Customer & Supplier"
   ]
  },
  {
   "cell_type": "code",
   "execution_count": null,
   "id": "80ffc45b",
   "metadata": {},
   "outputs": [],
   "source": [
    "# Explore data for other table\n",
    "print(\"Customer\")\n",
    "customer_df.info()\n",
    "\n",
    "print(\"\\nSupplier\")\n",
    "supplier_df.info()"
   ]
  },
  {
   "cell_type": "code",
   "execution_count": null,
   "id": "9acb502e",
   "metadata": {},
   "outputs": [],
   "source": [
    "customer_df.describe()"
   ]
  },
  {
   "cell_type": "code",
   "execution_count": null,
   "id": "6cab98d5",
   "metadata": {},
   "outputs": [],
   "source": [
    "supplier_df.describe()"
   ]
  },
  {
   "cell_type": "code",
   "execution_count": null,
   "id": "855db286",
   "metadata": {},
   "outputs": [],
   "source": [
    "customer_df.head()"
   ]
  },
  {
   "cell_type": "code",
   "execution_count": null,
   "id": "719ba485",
   "metadata": {},
   "outputs": [],
   "source": [
    "supplier_df.head()"
   ]
  },
  {
   "cell_type": "markdown",
   "id": "87af0d30",
   "metadata": {},
   "source": [
    "#### Entity Relationship"
   ]
  },
  {
   "cell_type": "markdown",
   "id": "72e659c9",
   "metadata": {},
   "source": [
    "<img src=\"images/dataset_entity_relationship.png\">"
   ]
  },
  {
   "cell_type": "markdown",
   "id": "75adc881",
   "metadata": {},
   "source": [
    "## Data Cleansing"
   ]
  },
  {
   "cell_type": "markdown",
   "id": "87ab11ff",
   "metadata": {},
   "source": [
    "#### Business logic for LineItem table's field\n",
    "- Shouldn't be any duplicate row (reference by value in all column) >> Move duplicate column cleansing activity to top\n",
    "- L_QUANTITY should have value more than 0, not be decimal number, not be negative value and should not contain NaN value\n",
    "- L_LINENUMBER should have value more than 0, not be decimal number, not be negative value and not contain NaN value\n",
    "- L_LINESTATUS should contain only \"F\", \"O\" status and should not contain NaN value >> *To be check, didn't cleaned in this lab*\n",
    "- L_SHIPMODE should not contain NaN value and only value list below allowed >> *To be check, didn't cleaned in this lab*\n",
    "    - TRUCK\n",
    "    - AIR\n",
    "    - MAIL\n",
    "    - SHIP\n",
    "    - RAIL\n",
    "    - FOB\n",
    "    - REG AIR"
   ]
  },
  {
   "cell_type": "markdown",
   "id": "b2d2a55e",
   "metadata": {},
   "source": [
    "#### Lineitem"
   ]
  },
  {
   "cell_type": "code",
   "execution_count": null,
   "id": "07d304c9",
   "metadata": {
    "scrolled": true
   },
   "outputs": [],
   "source": [
    "# Show duplicate record\n",
    "lineitem_df[lineitem_df.duplicated(keep=False)].sort_values(lineitem_df.columns.tolist())"
   ]
  },
  {
   "cell_type": "code",
   "execution_count": null,
   "id": "b0980c28",
   "metadata": {
    "collapsed": true,
    "jupyter": {
     "outputs_hidden": true
    }
   },
   "outputs": [],
   "source": [
    "# Remove duplicate records\n",
    "lineitem_df = lineitem_df.drop_duplicates()"
   ]
  },
  {
   "cell_type": "code",
   "execution_count": null,
   "id": "e0170966",
   "metadata": {
    "collapsed": true,
    "jupyter": {
     "outputs_hidden": true
    }
   },
   "outputs": [],
   "source": [
    "# Drop records that contains nan\n",
    "lineitem_df = lineitem_df.dropna(subset=['L_LINENUMBER','L_QUANTITY','L_LINESTATUS','L_SHIPMODE'])\n",
    "\n",
    "# There are some other method to deal with na by filling the records with other value\n",
    "#lineitem_df['L_LINENUMBER'] = lineitem_df['L_LINENUMBER'].ffill()\n",
    "#lineitem_df['L_QUANTITY'] = lineitem_df['L_QUANTITY'].bfill()\n",
    "#lineitem_df['L_LINESTATUS'] = lineitem_df['L_LINESTATUS'].fillna(lineitem_df['L_LINESTATUS'].mode())\n",
    "#lineitem_df['L_SHIPMODE'] = lineitem_df['L_SHIPMODE'].fillna(lineitem_df['L_SHIPMODE'].mode())"
   ]
  },
  {
   "cell_type": "code",
   "execution_count": null,
   "id": "da4ed8c8",
   "metadata": {
    "collapsed": true,
    "jupyter": {
     "outputs_hidden": true
    }
   },
   "outputs": [],
   "source": [
    "# Convert decimal to integer (cut decimal) and inverse negative\n",
    "lineitem_df['L_LINENUMBER'] = lineitem_df['L_LINENUMBER'].astype(int) \n",
    "lineitem_df['L_LINENUMBER'] = lineitem_df['L_LINENUMBER'].abs() # For more clarification ask business for clarification - abs, outlier, drop"
   ]
  },
  {
   "cell_type": "code",
   "execution_count": null,
   "id": "9ef52fd1",
   "metadata": {
    "collapsed": true,
    "jupyter": {
     "outputs_hidden": true
    }
   },
   "outputs": [],
   "source": [
    "# LineNumber should not contain 0\n",
    "lineitem_df = lineitem_df[lineitem_df['L_LINENUMBER']!=0].copy()"
   ]
  },
  {
   "cell_type": "code",
   "execution_count": null,
   "id": "1410a26d",
   "metadata": {
    "collapsed": true,
    "jupyter": {
     "outputs_hidden": true
    }
   },
   "outputs": [],
   "source": [
    "# Convert decimal to integer (cut decimal) and inverse negative\n",
    "lineitem_df['L_QUANTITY'] = lineitem_df['L_QUANTITY'].astype(int)\n",
    "lineitem_df['L_QUANTITY'] = lineitem_df['L_QUANTITY'].abs() # For more clarification ask business for clarification - abs, outlier, drop"
   ]
  },
  {
   "cell_type": "code",
   "execution_count": null,
   "id": "6ad7ba79",
   "metadata": {
    "collapsed": true,
    "jupyter": {
     "outputs_hidden": true
    }
   },
   "outputs": [],
   "source": [
    "# Quantity should have value more than 0\n",
    "lineitem_df = lineitem_df[lineitem_df['L_QUANTITY']!=0].copy()"
   ]
  },
  {
   "cell_type": "code",
   "execution_count": null,
   "id": "7382761e",
   "metadata": {},
   "outputs": [],
   "source": [
    "# Show number of record group by each value\n",
    "lineitem_df['L_LINESTATUS'].value_counts()"
   ]
  },
  {
   "cell_type": "code",
   "execution_count": null,
   "id": "f5bbe8a8",
   "metadata": {},
   "outputs": [],
   "source": [
    "# Replace out-of-scope row with correct value for LINESTATUS column\n",
    "lineitem_df.loc[(lineitem_df['L_LINESTATUS'].str.contains('F')) & ~(lineitem_df['L_LINESTATUS'].str.contains('O')), 'L_LINESTATUS'] = 'F'\n",
    "lineitem_df.loc[(lineitem_df['L_LINESTATUS'].str.contains('O')) & ~(lineitem_df['L_LINESTATUS'].str.contains('F')), 'L_LINESTATUS'] = 'O'"
   ]
  },
  {
   "cell_type": "code",
   "execution_count": null,
   "id": "cb9ef75d",
   "metadata": {},
   "outputs": [],
   "source": [
    "# Remove any leftover out-of-scope value for LINESTATUS column\n",
    "lineitem_df = lineitem_df[lineitem_df['L_LINESTATUS'].isin(['F','O'])]"
   ]
  },
  {
   "cell_type": "code",
   "execution_count": null,
   "id": "f30519e9",
   "metadata": {},
   "outputs": [],
   "source": [
    "# Show number of record group by each value\n",
    "lineitem_df['L_SHIPMODE'].value_counts()"
   ]
  },
  {
   "cell_type": "code",
   "execution_count": null,
   "id": "e964e488",
   "metadata": {},
   "outputs": [],
   "source": [
    "# Remove out-of-scope row for LINESTATUS column\n",
    "lineitem_df = lineitem_df[lineitem_df['L_SHIPMODE'].isin(['TRUCK', 'AIR', 'MAIL', 'SHIP', 'RAIL', 'FOB', 'REG AIR'])]"
   ]
  },
  {
   "cell_type": "markdown",
   "id": "44631341",
   "metadata": {},
   "source": [
    "#### Business logic for Order table's field\n",
    "- Shouldn't be any duplicate row (reference by value in all column)\n",
    "- O_ORDERSTATUS should contain only \"F\", \"O\" and \"P\" status and not contain NaN value\n",
    "- O_ORDERDATE valid order year should in between 1992-1998 and should not contain NaN value\n",
    "- O_ORDERPRIORITY should not contain NaN value and only value list below allowed\n",
    "    \n",
    "    - 1-URGENT\n",
    "    - 2-HIGH\n",
    "    - 3-MEDIUM\n",
    "    - 4-LOW\n",
    "    - 5-NOT SPECIFIED \n"
   ]
  },
  {
   "cell_type": "markdown",
   "id": "f912a9db",
   "metadata": {},
   "source": [
    "#### Order"
   ]
  },
  {
   "cell_type": "code",
   "execution_count": null,
   "id": "fb94dd94",
   "metadata": {},
   "outputs": [],
   "source": [
    "# Show duplicate records\n",
    "order_df[order_df.duplicated(keep=False)].sort_values(order_df.columns.tolist())"
   ]
  },
  {
   "cell_type": "code",
   "execution_count": null,
   "id": "7e05ae95",
   "metadata": {
    "collapsed": true
   },
   "outputs": [],
   "source": [
    "# Remove duplicate records\n",
    "order_df = order_df.drop_duplicates()"
   ]
  },
  {
   "cell_type": "code",
   "execution_count": null,
   "id": "ee95d84a",
   "metadata": {},
   "outputs": [],
   "source": [
    "# Drop nan records\n",
    "order_df = order_df.dropna(subset=['O_ORDERSTATUS', 'O_ORDERPRIORITY','O_ORDERDATE'])"
   ]
  },
  {
   "cell_type": "code",
   "execution_count": null,
   "id": "7ea10d39",
   "metadata": {
    "scrolled": true
   },
   "outputs": [],
   "source": [
    "# Show number of record group by each value\n",
    "order_df['O_ORDERPRIORITY'].value_counts()"
   ]
  },
  {
   "cell_type": "code",
   "execution_count": null,
   "id": "02f1d85e",
   "metadata": {
    "collapsed": true,
    "jupyter": {
     "outputs_hidden": true
    }
   },
   "outputs": [],
   "source": [
    "# Fix records with typo\n",
    "order_df.loc[order_df['O_ORDERPRIORITY'].str.contains('1'),'O_ORDERPRIORITY'] = '1-URGENT'\n",
    "order_df.loc[order_df['O_ORDERPRIORITY'].str.contains('2'),'O_ORDERPRIORITY'] = '2-HIGH'\n",
    "order_df.loc[order_df['O_ORDERPRIORITY'].str.contains('3'),'O_ORDERPRIORITY'] = '3-MEDIUM'\n",
    "order_df.loc[order_df['O_ORDERPRIORITY'].str.contains('4'),'O_ORDERPRIORITY'] = '4-LOW'\n",
    "order_df.loc[order_df['O_ORDERPRIORITY'].str.contains('5'),'O_ORDERPRIORITY'] = '5-NOT SPECIFIED'"
   ]
  },
  {
   "cell_type": "code",
   "execution_count": null,
   "id": "f9f7e121",
   "metadata": {
    "collapsed": true,
    "jupyter": {
     "outputs_hidden": true
    }
   },
   "outputs": [],
   "source": [
    "# Remove any leftover records with typo\n",
    "order_df = order_df[order_df['O_ORDERPRIORITY'].isin(['1-URGENT','2-HIGH','3-MEDIUM','4-LOW','5-NOT SPECIFIED'])]"
   ]
  },
  {
   "cell_type": "code",
   "execution_count": null,
   "id": "c5698532",
   "metadata": {},
   "outputs": [],
   "source": [
    "# Show number of record group by each value\n",
    "order_df['O_ORDERSTATUS'].value_counts()"
   ]
  },
  {
   "cell_type": "code",
   "execution_count": null,
   "id": "21597f43",
   "metadata": {
    "collapsed": true,
    "jupyter": {
     "outputs_hidden": true
    },
    "scrolled": true
   },
   "outputs": [],
   "source": [
    "# Fix records with typo\n",
    "order_df.loc[(order_df['O_ORDERSTATUS'].str.contains('F')) & ~(order_df['O_ORDERSTATUS'].str.contains('O|P')), 'O_ORDERSTATUS'] = 'F'\n",
    "order_df.loc[(order_df['O_ORDERSTATUS'].str.contains('O')) & ~(order_df['O_ORDERSTATUS'].str.contains('F|P')), 'O_ORDERSTATUS'] = 'O'\n",
    "order_df.loc[(order_df['O_ORDERSTATUS'].str.contains('P')) & ~(order_df['O_ORDERSTATUS'].str.contains('F|O')), 'O_ORDERSTATUS'] = 'P'"
   ]
  },
  {
   "cell_type": "code",
   "execution_count": null,
   "id": "b548b0fe",
   "metadata": {
    "collapsed": true,
    "jupyter": {
     "outputs_hidden": true
    }
   },
   "outputs": [],
   "source": [
    "# Remove any leftover records with typo\n",
    "order_df = order_df[order_df['O_ORDERSTATUS'].isin(['F','O','P'])]"
   ]
  },
  {
   "cell_type": "code",
   "execution_count": null,
   "id": "69d9cd5e",
   "metadata": {
    "collapsed": true
   },
   "outputs": [],
   "source": [
    "# Extract day, month and year from ORDERDATE (datetime format)\n",
    "order_df['O_ORDERDATE'] = pd.to_datetime(order_df['O_ORDERDATE'])\n",
    "\n",
    "order_df['O_ORDERYEAR'] = order_df['O_ORDERDATE'].dt.year\n",
    "order_df['O_ORDERDAY'] = order_df['O_ORDERDATE'].dt.day\n",
    "order_df['O_ORDERMONTH'] = order_df['O_ORDERDATE'].dt.month"
   ]
  },
  {
   "cell_type": "code",
   "execution_count": null,
   "id": "70c965d5",
   "metadata": {},
   "outputs": [],
   "source": [
    "# Show number of record group by year\n",
    "order_df['O_ORDERYEAR'].value_counts()"
   ]
  },
  {
   "cell_type": "code",
   "execution_count": null,
   "id": "7e94414c",
   "metadata": {},
   "outputs": [],
   "source": [
    "# Remove invalid order year\n",
    "order_df = order_df[order_df['O_ORDERYEAR'].between(1992, 1998)]\n",
    "\n",
    "#order_df = order_df[order_df['O_ORDERYEAR'].ge(1992) & order_df['O_ORDERYEAR'].le(1998)]\n",
    "#order_df = order_df[(order_df['O_ORDERYEAR'] >= 1992) & (order_df['O_ORDERYEAR'] <= 1998)]"
   ]
  },
  {
   "cell_type": "markdown",
   "id": "4ee24779",
   "metadata": {},
   "source": [
    "## Data Validation"
   ]
  },
  {
   "cell_type": "markdown",
   "id": "0adbe88a",
   "metadata": {},
   "source": [
    "#### LineItem"
   ]
  },
  {
   "cell_type": "code",
   "execution_count": null,
   "id": "3d86fc3d",
   "metadata": {},
   "outputs": [],
   "source": [
    "# Show dataframe information\n",
    "lineitem_df.info()"
   ]
  },
  {
   "cell_type": "code",
   "execution_count": null,
   "id": "386bef95",
   "metadata": {},
   "outputs": [],
   "source": [
    "# Check duplicate row\n",
    "lineitem_duplicate_check = lineitem_df.duplicated().sum()\n",
    "\n",
    "print(\"LineItem dataset contain \" + str(lineitem_duplicate_check) + \" duplicate rows\")"
   ]
  },
  {
   "cell_type": "code",
   "execution_count": null,
   "id": "7d59bcd1",
   "metadata": {},
   "outputs": [],
   "source": [
    "# Check NaN value in specific column\n",
    "quantity_nan_check = lineitem_df['L_QUANTITY'].isnull().sum()\n",
    "linenumber_nan_check = lineitem_df['L_LINENUMBER'].isnull().sum()\n",
    "linestatus_nan_check = lineitem_df['L_LINESTATUS'].isnull().sum()\n",
    "shipmode_nan_check = lineitem_df['L_SHIPMODE'].isnull().sum()\n",
    "\n",
    "print(\"L_QUANTITY have \" + str(quantity_nan_check) + \" NaN row\")\n",
    "print(\"L_LINENUMBER have \" + str(linenumber_nan_check) + \" NaN row\")\n",
    "print(\"L_LINESTATUS have \" + str(linestatus_nan_check) + \" NaN row\")\n",
    "print(\"L_SHIPMODE have \" + str(shipmode_nan_check) + \" NaN row\")"
   ]
  },
  {
   "cell_type": "code",
   "execution_count": null,
   "id": "73190eb1",
   "metadata": {},
   "outputs": [],
   "source": [
    "# Check 0 or negative value in specific column\n",
    "quantity_negativeorzero_check = len(lineitem_df[lineitem_df['L_QUANTITY']<=0])\n",
    "linenumber_negativeorzero_check = len(lineitem_df[lineitem_df['L_LINENUMBER']<=0])\n",
    "\n",
    "print(\"L_QUANTITY contain \" + str(quantity_negativeorzero_check) + \" rows zero or negative value\")\n",
    "print(\"L_LINENUMBER contain \" + str(linenumber_negativeorzero_check) + \" rows zero or negative value\")"
   ]
  },
  {
   "cell_type": "code",
   "execution_count": null,
   "id": "d3229dee",
   "metadata": {},
   "outputs": [],
   "source": [
    "# Check out-of-scope value in specific\n",
    "linestatus_outofscope_check = len(lineitem_df[~lineitem_df['L_LINESTATUS'].isin(['F', 'O'])])\n",
    "shipmode_outofscope_check = len(lineitem_df[~lineitem_df['L_SHIPMODE'].isin(['TRUCK', 'AIR', 'MAIL', 'SHIP', 'RAIL', 'FOB', 'REG AIR'])])\n",
    "\n",
    "print(\"L_LINESTATUS contain \" + str(linestatus_outofscope_check) + \" rows out-of-scope value\")\n",
    "print(\"L_SHIPMODE contain \" + str(shipmode_outofscope_check) + \" rows out-of-scope value\")"
   ]
  },
  {
   "cell_type": "markdown",
   "id": "e7d9121f",
   "metadata": {},
   "source": [
    "#### Order"
   ]
  },
  {
   "cell_type": "code",
   "execution_count": null,
   "id": "fd968aa9",
   "metadata": {},
   "outputs": [],
   "source": [
    "# Show dataframe information\n",
    "order_df.info()"
   ]
  },
  {
   "cell_type": "code",
   "execution_count": null,
   "id": "ed7b572e",
   "metadata": {},
   "outputs": [],
   "source": [
    "# Check duplicate row\n",
    "order_duplicate_check = order_df.duplicated().sum()\n",
    "\n",
    "print(f\"LineItem dataset contain {str(order_duplicate_check)} duplicate rows\")"
   ]
  },
  {
   "cell_type": "code",
   "execution_count": null,
   "id": "121f262a",
   "metadata": {},
   "outputs": [],
   "source": [
    "# Check NaN value in specific column\n",
    "orderstatus_nan_check = order_df['O_ORDERSTATUS'].isnull().sum()\n",
    "orderdate_nan_check = order_df['O_ORDERDATE'].isnull().sum()\n",
    "orderpriority_nan_check = order_df['O_ORDERPRIORITY'].isnull().sum()\n",
    "\n",
    "print(\"O_ORDERSTATUS have \" + str(orderstatus_nan_check) + \" NaN row\")\n",
    "print(\"O_ORDERDATE have \" + str(orderdate_nan_check) + \" NaN row\")\n",
    "print(\"O_ORDERPRIORITY have \" + str(orderpriority_nan_check) + \" NaN row\")"
   ]
  },
  {
   "cell_type": "code",
   "execution_count": null,
   "id": "a3676d66",
   "metadata": {},
   "outputs": [],
   "source": [
    "# Check out-of-scope value in specific column\n",
    "orderstatus_outofscope_check = len(order_df[~order_df['O_ORDERSTATUS'].isin(['F', 'O', 'P'])])\n",
    "orderpriotity_outofscope_check = len(order_df[~order_df['O_ORDERPRIORITY'].isin(['1-URGENT', '2-HIGH', '3-MEDIUM', '4-LOW', '5-NOT SPECIFIED'])])\n",
    "\n",
    "print(\"O_ORDERSTATUS contain \" + str(orderstatus_outofscope_check) + \" rows out-of-scope value\")\n",
    "print(\"O_ORDERPRIORITY contain \" + str(orderpriotity_outofscope_check) + \" rows out-of-scope value\")"
   ]
  },
  {
   "cell_type": "code",
   "execution_count": null,
   "id": "3dedb462",
   "metadata": {},
   "outputs": [],
   "source": [
    "# Check valid year for date column\n",
    "orderdate_valid_year_check = len(order_df[~order_df['O_ORDERYEAR'].between(1992,1998)])\n",
    "\n",
    "print(\"O_ORDERDATE contain \" + str(orderdate_valid_year_check) + \" invalid year (not in 1992-1998)\")"
   ]
  },
  {
   "cell_type": "markdown",
   "id": "93115e78",
   "metadata": {},
   "source": [
    "## Data Manipulation"
   ]
  },
  {
   "cell_type": "markdown",
   "id": "41134dcb",
   "metadata": {},
   "source": [
    "### Denomalization"
   ]
  },
  {
   "cell_type": "markdown",
   "id": "d459c7b2",
   "metadata": {},
   "source": [
    "<img src=\"images/data_manipulation_denormalization.png\">"
   ]
  },
  {
   "cell_type": "markdown",
   "id": "23e2e3cf",
   "metadata": {},
   "source": [
    "- Order < Customer < Nation < Region\n",
    "- Supplier < Nation < Region\n",
    "- LineItem\n",
    "- PartSupp\n",
    "- Part"
   ]
  },
  {
   "cell_type": "markdown",
   "id": "73aa6178",
   "metadata": {},
   "source": [
    "### Join Data"
   ]
  },
  {
   "cell_type": "markdown",
   "id": "c034e7fd",
   "metadata": {},
   "source": [
    "#### Join Nation with Region"
   ]
  },
  {
   "cell_type": "code",
   "execution_count": null,
   "id": "6a46c5be",
   "metadata": {
    "collapsed": true,
    "jupyter": {
     "outputs_hidden": true
    }
   },
   "outputs": [],
   "source": [
    "NR = pd.merge(left=nation_df,\n",
    "               right=region_df,\n",
    "               left_on='N_REGIONKEY',\n",
    "               right_on='R_REGIONKEY',\n",
    "               how='left')\n",
    "\n",
    "NR = NR[['N_NATIONKEY','N_NAME','R_NAME']]\n",
    "NR = NR.rename(columns={\"N_NAME\": \"N_NATION\", \n",
    "                          \"R_NAME\": \"N_REGION\"})"
   ]
  },
  {
   "cell_type": "code",
   "execution_count": null,
   "id": "d3318e2a",
   "metadata": {},
   "outputs": [],
   "source": [
    "NR.info()"
   ]
  },
  {
   "cell_type": "code",
   "execution_count": null,
   "id": "53da58e1",
   "metadata": {},
   "outputs": [],
   "source": [
    "NR.head()"
   ]
  },
  {
   "cell_type": "code",
   "execution_count": null,
   "id": "bf31fea0",
   "metadata": {},
   "outputs": [],
   "source": [
    "# Compare data between header table and joined dataframe\n",
    "print(\"Number of row in header table (Nation) before join : \" + str(len(nation_df)))\n",
    "print(\"Number of row after joined : \" + str(len(NR)))\n"
   ]
  },
  {
   "cell_type": "markdown",
   "id": "d6cc3356",
   "metadata": {},
   "source": [
    "#### Join Customer with Nation and Region"
   ]
  },
  {
   "cell_type": "code",
   "execution_count": null,
   "id": "90d32ddc",
   "metadata": {
    "collapsed": true,
    "jupyter": {
     "outputs_hidden": true
    },
    "scrolled": true
   },
   "outputs": [],
   "source": [
    "CNR = pd.merge(left=customer_df,\n",
    "                 right=NR,\n",
    "                 left_on='C_NATIONKEY',\n",
    "                 right_on='N_NATIONKEY',\n",
    "                 how='left')\n",
    "\n",
    "CNR = CNR.drop(['N_NATIONKEY','C_COMMENT'],axis=1)\n",
    "CNR = CNR.rename(columns={\"N_NATION\": \"C_NATION\",\n",
    "                              \"N_REGION\": \"C_REGION\"})"
   ]
  },
  {
   "cell_type": "code",
   "execution_count": null,
   "id": "0150cdee",
   "metadata": {},
   "outputs": [],
   "source": [
    "CNR.info()"
   ]
  },
  {
   "cell_type": "code",
   "execution_count": null,
   "id": "6798535a",
   "metadata": {},
   "outputs": [],
   "source": [
    "CNR.head()"
   ]
  },
  {
   "cell_type": "code",
   "execution_count": null,
   "id": "3ba36959",
   "metadata": {},
   "outputs": [],
   "source": [
    "# Compare data between header table and joined dataframe\n",
    "print(\"Number of row in header table (Customer) before join : \" + str(len(customer_df)))\n",
    "print(\"Number of row after joined : \" + str(len(CNR)))"
   ]
  },
  {
   "cell_type": "markdown",
   "id": "a8643d7a",
   "metadata": {},
   "source": [
    "#### Join Order with Customer, Nation and Region"
   ]
  },
  {
   "cell_type": "code",
   "execution_count": null,
   "id": "82426157",
   "metadata": {
    "collapsed": true,
    "jupyter": {
     "outputs_hidden": true
    },
    "scrolled": true
   },
   "outputs": [],
   "source": [
    "OCNR = pd.merge(left=order_df,\n",
    "                right=CNR,\n",
    "                left_on=\"O_CUSTKEY\",\n",
    "                right_on=\"C_CUSTKEY\",\n",
    "                how='left')\n",
    "\n",
    "OCNR = OCNR.drop(['C_CUSTKEY'],axis=1)"
   ]
  },
  {
   "cell_type": "code",
   "execution_count": null,
   "id": "8457abc4",
   "metadata": {},
   "outputs": [],
   "source": [
    "OCNR.info()"
   ]
  },
  {
   "cell_type": "code",
   "execution_count": null,
   "id": "909f6a1e",
   "metadata": {},
   "outputs": [],
   "source": [
    "OCNR.head()"
   ]
  },
  {
   "cell_type": "code",
   "execution_count": null,
   "id": "c6e76b2e",
   "metadata": {},
   "outputs": [],
   "source": [
    "# Compare data between header table and joined dataframe\n",
    "print(\"Number of row in header table (Order) before join : \" + str(len(order_df)))\n",
    "print(\"Number of row after joined : \" + str(len(OCNR)))"
   ]
  },
  {
   "cell_type": "markdown",
   "id": "5d305723",
   "metadata": {},
   "source": [
    "#### Join Supplier with Nation and Region"
   ]
  },
  {
   "cell_type": "code",
   "execution_count": null,
   "id": "d68f583d",
   "metadata": {
    "collapsed": true,
    "jupyter": {
     "outputs_hidden": true
    }
   },
   "outputs": [],
   "source": [
    "SNR = pd.merge(left=supplier_df,\n",
    "                         right=NR,\n",
    "                         left_on='S_NATIONKEY',\n",
    "                         right_on='N_NATIONKEY',\n",
    "                         how='left')\n",
    "\n",
    "#SNR = SNR[['S_SUPPKEY','S_NAME','S_ACCTBAL','NATION','REGION']]\n",
    "SNR = SNR.drop(['N_NATIONKEY'],axis=1)\n",
    "SNR = SNR.rename(columns={\"N_NATION\": \"S_NATION\",\n",
    "                              \"N_REGION\": \"S_REGION\"})"
   ]
  },
  {
   "cell_type": "code",
   "execution_count": null,
   "id": "b482c050",
   "metadata": {},
   "outputs": [],
   "source": [
    "SNR.info()"
   ]
  },
  {
   "cell_type": "code",
   "execution_count": null,
   "id": "eab3c0b3",
   "metadata": {},
   "outputs": [],
   "source": [
    "SNR.head()"
   ]
  },
  {
   "cell_type": "code",
   "execution_count": null,
   "id": "f06ac738",
   "metadata": {},
   "outputs": [],
   "source": [
    "# Compare data between header table and joined dataframe\n",
    "print(\"Number of row in header table (Supplier) before join : \" + str(len(supplier_df)))\n",
    "print(\"Number of row after joined : \" + str(len(SNR)))"
   ]
  },
  {
   "cell_type": "markdown",
   "id": "899c8646",
   "metadata": {},
   "source": [
    "### Feature Creation"
   ]
  },
  {
   "cell_type": "code",
   "execution_count": null,
   "id": "cb13d8c6",
   "metadata": {
    "collapsed": true
   },
   "outputs": [],
   "source": [
    "# Calculate lead day\n",
    "OCNR['LEADDAY'] = OCNR.sort_values(['C_NAME','O_ORDERDATE']).groupby(['C_NAME'],sort=False)['O_ORDERDATE'].diff()"
   ]
  },
  {
   "cell_type": "code",
   "execution_count": null,
   "id": "6c9d68a5",
   "metadata": {
    "collapsed": true
   },
   "outputs": [],
   "source": [
    "# Extract day from lead day column\n",
    "OCNR['LEADDAY'] = OCNR['LEADDAY'].dt.days"
   ]
  },
  {
   "cell_type": "code",
   "execution_count": null,
   "id": "bf10cf0f",
   "metadata": {},
   "outputs": [],
   "source": [
    "OCNR = OCNR.dropna(subset=['LEADDAY'])"
   ]
  },
  {
   "cell_type": "code",
   "execution_count": null,
   "id": "8570e7d0",
   "metadata": {},
   "outputs": [],
   "source": [
    "OCNR['LEADDAY'].value_counts()"
   ]
  },
  {
   "cell_type": "markdown",
   "metadata": {},
   "source": [
    "## Analytics Product development"
   ]
  },
  {
   "cell_type": "markdown",
   "metadata": {},
   "source": [
    "### Download Data for visualization in next lab"
   ]
  },
  {
   "cell_type": "code",
   "execution_count": null,
   "metadata": {
    "collapsed": true,
    "jupyter": {
     "outputs_hidden": true
    }
   },
   "outputs": [],
   "source": [
    "#Create output folder if not exist\n",
    "if not os.path.exists(\"clean_data\"):\n",
    "    os.makedirs(\"clean_data\")\n",
    "\n",
    "data_dir = \"clean_data\"\n",
    "\n",
    "#Download modeled data into clean data folder\n",
    "OCNR.to_csv(f\"{data_dir}/OCNR.csv\")\n",
    "SNR.to_csv(f\"{data_dir}/SNR.csv\")\n",
    "lineitem_df.to_csv(f\"{data_dir}/L.csv\")\n",
    "part_df.to_csv(f\"{data_dir}/P.csv\")\n",
    "partsupp_df.to_csv(f\"{data_dir}/PS.csv\")"
   ]
  }
 ],
 "metadata": {
  "kernelspec": {
   "display_name": "em_bootcathon_env",
   "language": "python",
   "name": "python3"
  },
  "language_info": {
   "codemirror_mode": {
    "name": "ipython",
    "version": 3
   },
   "file_extension": ".py",
   "mimetype": "text/x-python",
   "name": "python",
   "nbconvert_exporter": "python",
   "pygments_lexer": "ipython3",
   "version": "3.10.14"
  }
 },
 "nbformat": 4,
 "nbformat_minor": 5
}
