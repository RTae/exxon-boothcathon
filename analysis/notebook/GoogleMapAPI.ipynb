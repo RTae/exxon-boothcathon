{
 "cells": [
  {
   "cell_type": "markdown",
   "metadata": {},
   "source": [
    "# Setup"
   ]
  },
  {
   "cell_type": "code",
   "execution_count": 20,
   "metadata": {},
   "outputs": [],
   "source": [
    "import pandas as pd\n",
    "import numpy as np\n",
    "import seaborn as sb\n",
    "import matplotlib.pyplot as plt\n",
    "from thefuzz import fuzz\n",
    "from thefuzz import process\n",
    "import requests\n",
    "import google.auth\n",
    "from google.auth.transport.requests import AuthorizedSession"
   ]
  },
  {
   "cell_type": "markdown",
   "metadata": {},
   "source": []
  },
  {
   "cell_type": "markdown",
   "metadata": {},
   "source": [
    "### Try request data"
   ]
  },
  {
   "cell_type": "code",
   "execution_count": 73,
   "metadata": {},
   "outputs": [
    {
     "name": "stderr",
     "output_type": "stream",
     "text": [
      "/Users/coffeewmilk/Projects/exxon-boothcathon/analysis/venv/lib/python3.9/site-packages/google/auth/_default.py:76: UserWarning: Your application has authenticated using end user credentials from Google Cloud SDK without a quota project. You might receive a \"quota exceeded\" or \"API not enabled\" error. See the following page for troubleshooting: https://cloud.google.com/docs/authentication/adc-troubleshooting/user-creds. \n",
      "  warnings.warn(_CLOUD_SDK_CREDENTIALS_WARNING)\n"
     ]
    }
   ],
   "source": [
    "credentials, project = google.auth.default()\n",
    "auth_req = google.auth.transport.requests.Request()\n",
    "credentials.refresh(auth_req)\n",
    "\n",
    "url = \"https://places.googleapis.com/v1/places:searchText\"\n",
    "headers = {\"Content-Type\": \"application/json\",\n",
    "           \"Authorization\": f\"Bearer {credentials.token}\",\n",
    "           \"X-Goog-User-Project\": project,\n",
    "           \"X-Goog-FieldMask\": \"places.displayName\"}\n",
    "body = {\"textQuery\" : \"น้ำมันเครื่อง, Bangkok\"}\n",
    "\n",
    "response = requests.post(url, headers=headers, json=body)"
   ]
  },
  {
   "cell_type": "code",
   "execution_count": 74,
   "metadata": {},
   "outputs": [
    {
     "data": {
      "text/plain": [
       "{'places': [{'displayName': {'text': 'ง่วนฮงล้ง วรจักร (ออยสแควร์ Oilsquare) l คลังน้ำมันเครื่องรถยนต์ และอุตสาหกรรม',\n",
       "    'languageCode': 'th'}},\n",
       "  {'displayName': {'text': 'Thai Motor Oil', 'languageCode': 'th'}},\n",
       "  {'displayName': {'text': 'ออยสแควร์ ประชาชื่น 33 l คลังน้ำมันเครื่องรถยนต์และอุตสาหกรรม จากวรจักร',\n",
       "    'languageCode': 'en'}},\n",
       "  {'displayName': {'text': '7KAR สาขาประเสริฐมนูกิจ 29',\n",
       "    'languageCode': 'en'}},\n",
       "  {'displayName': {'text': 'ลีโอออยล์ (LEO OIL)', 'languageCode': 'th'}},\n",
       "  {'displayName': {'text': 'Fast2Fly', 'languageCode': 'en'}},\n",
       "  {'displayName': {'text': 'Kun Charoen Shop', 'languageCode': 'en'}},\n",
       "  {'displayName': {'text': 'ศูนย์เปลี่ยนน้ำมันเครื่อง Pro Serv',\n",
       "    'languageCode': 'th'}},\n",
       "  {'displayName': {'text': 'ProServ เปลื่ยนน้ำมันเครื่อง',\n",
       "    'languageCode': 'th'}},\n",
       "  {'displayName': {'text': 'ศูนย์เปลียนนำ้มันเครื่อง Esso',\n",
       "    'languageCode': 'th'}},\n",
       "  {'displayName': {'text': 'VOLTRONIC THAILAND', 'languageCode': 'th'}},\n",
       "  {'displayName': {'text': 'Liqui Moly Thonburi', 'languageCode': 'th'}},\n",
       "  {'displayName': {'text': 'วรรณรุ่งโรจน์ เทรดดิ้ง สายน้ำมันเพาเวอร์ คุณภาพดี ราคาถูก',\n",
       "    'languageCode': 'th'}},\n",
       "  {'displayName': {'text': 'Welloil Service Center', 'languageCode': 'en'}},\n",
       "  {'displayName': {'text': 'Shell', 'languageCode': 'en'}},\n",
       "  {'displayName': {'text': 'น้ำมันเครื่องห้วยขวาง EZI Qfit เกรดส่งออก ราคาโรงงาน คุณภาพสูงราคาถูก',\n",
       "    'languageCode': 'th'}},\n",
       "  {'displayName': {'text': 'FIT Auto', 'languageCode': 'th'}},\n",
       "  {'displayName': {'text': 'My Car Repair - Rama IX', 'languageCode': 'en'}},\n",
       "  {'displayName': {'text': 'Beluga Performance ศูนย์บริการ Honda ระบบเครื่องยนต์ ช่วงล่าง เปลี่ยนน้ำมันเครื่อง',\n",
       "    'languageCode': 'th'}},\n",
       "  {'displayName': {'text': 'Prannok Parts', 'languageCode': 'en'}}]}"
      ]
     },
     "execution_count": 74,
     "metadata": {},
     "output_type": "execute_result"
    }
   ],
   "source": [
    "response.json()"
   ]
  },
  {
   "cell_type": "code",
   "execution_count": 64,
   "metadata": {},
   "outputs": [
    {
     "data": {
      "text/plain": [
       "'ya29.a0AXooCguRSS-oGw2MNkEfQ4IEr_gaPk3Ppo-4pbuggX7aq4QS9Co0dh8iTdpGE0q0wQbbPwx8yCnjTtJxi3RRTnoO_9ZXAvUFu3jbp5cP02vHyTwg8v6HpG1_v1TTEPRh1R12NPc6BeXks4zvQR9qbWoXkCyUKWmNiftlEkcaCgYKAdASARESFQHGX2MiTYOtcpdW4ea8acw00mDv7w0174'"
      ]
     },
     "execution_count": 64,
     "metadata": {},
     "output_type": "execute_result"
    }
   ],
   "source": []
  },
  {
   "cell_type": "code",
   "execution_count": null,
   "metadata": {},
   "outputs": [],
   "source": []
  }
 ],
 "metadata": {
  "kernelspec": {
   "display_name": "venv",
   "language": "python",
   "name": "python3"
  },
  "language_info": {
   "codemirror_mode": {
    "name": "ipython",
    "version": 3
   },
   "file_extension": ".py",
   "mimetype": "text/x-python",
   "name": "python",
   "nbconvert_exporter": "python",
   "pygments_lexer": "ipython3",
   "version": "3.9.6"
  }
 },
 "nbformat": 4,
 "nbformat_minor": 2
}
