{
 "cells": [
  {
   "cell_type": "markdown",
   "metadata": {},
   "source": [
    "## Table List in Dataset"
   ]
  },
  {
   "cell_type": "markdown",
   "metadata": {},
   "source": [
    "<img src=\"images/field_list_sample_snowflake.png\">"
   ]
  },
  {
   "cell_type": "markdown",
   "metadata": {},
   "source": [
    "## Import Library"
   ]
  },
  {
   "cell_type": "code",
   "execution_count": 1,
   "id": "48344089",
   "metadata": {},
   "outputs": [],
   "source": [
    "# Import Library\n",
    "import pandas as pd\n",
    "import os\n",
    "\n",
    "pd.options.mode.chained_assignment = None\n",
    "pd.options.display.float_format = '{:.2f}'.format"
   ]
  },
  {
   "cell_type": "markdown",
   "id": "ecf65191",
   "metadata": {},
   "source": [
    "## Read Data"
   ]
  },
  {
   "cell_type": "code",
   "execution_count": 2,
   "id": "0abd26ed",
   "metadata": {
    "collapsed": true
   },
   "outputs": [],
   "source": [
    "# Read raw data from csv\n",
    "data_dir = \"data\"# Add path to folder contained dataset file\n",
    "customer_df = pd.read_csv(f\"{data_dir}/CUSTOMER.csv\") \n",
    "lineitem_df = pd.read_csv(f\"{data_dir}/LINEITEM.csv\")\n",
    "nation_df = pd.read_csv(f\"{data_dir}/NATION.csv\")\n",
    "order_df = pd.read_csv(f\"{data_dir}/ORDER.csv\")\n",
    "part_df = pd.read_csv(f\"{data_dir}/PART.csv\")\n",
    "partsupp_df = pd.read_csv(f\"{data_dir}/PARTSUPP.csv\")\n",
    "region_df = pd.read_csv(f\"{data_dir}/REGION.csv\")\n",
    "supplier_df = pd.read_csv(f\"{data_dir}/SUPPLIER.csv\")"
   ]
  },
  {
   "cell_type": "markdown",
   "id": "cf84218a",
   "metadata": {},
   "source": [
    "## Data Exploration"
   ]
  },
  {
   "cell_type": "markdown",
   "id": "fc04373f",
   "metadata": {},
   "source": [
    "#### Lineitem"
   ]
  },
  {
   "cell_type": "markdown",
   "id": "deacee93",
   "metadata": {},
   "source": [
    "`DataFrame.info()`\n",
    "> A method to prints a summary of the DataFrame including:\n",
    "> - Indexes\n",
    "> - Columns\n",
    "> - Non-null values\n",
    "> - Data types \n",
    "> - Memory usage"
   ]
  },
  {
   "cell_type": "code",
   "execution_count": 3,
   "id": "4c6cfb9f",
   "metadata": {},
   "outputs": [
    {
     "name": "stdout",
     "output_type": "stream",
     "text": [
      "<class 'pandas.core.frame.DataFrame'>\n",
      "RangeIndex: 1101003 entries, 0 to 1101002\n",
      "Data columns (total 16 columns):\n",
      " #   Column           Non-Null Count    Dtype  \n",
      "---  ------           --------------    -----  \n",
      " 0   L_ORDERKEY       1101003 non-null  int64  \n",
      " 1   L_PARTKEY        1101003 non-null  int64  \n",
      " 2   L_SUPPKEY        1101003 non-null  int64  \n",
      " 3   L_LINENUMBER     1040966 non-null  float64\n",
      " 4   L_QUANTITY       1041041 non-null  float64\n",
      " 5   L_EXTENDEDPRICE  1101003 non-null  float64\n",
      " 6   L_DISCOUNT       1101003 non-null  float64\n",
      " 7   L_TAX            1101003 non-null  float64\n",
      " 8   L_RETURNFLAG     1101003 non-null  object \n",
      " 9   L_LINESTATUS     1040971 non-null  object \n",
      " 10  L_SHIPDATE       1101003 non-null  object \n",
      " 11  L_COMMITDATE     1101003 non-null  object \n",
      " 12  L_RECEIPTDATE    1101003 non-null  object \n",
      " 13  L_SHIPINSTRUCT   1101003 non-null  object \n",
      " 14  L_SHIPMODE       1041013 non-null  object \n",
      " 15  L_COMMENT        0 non-null        float64\n",
      "dtypes: float64(6), int64(3), object(7)\n",
      "memory usage: 134.4+ MB\n"
     ]
    }
   ],
   "source": [
    "# Display a summary info of Lineitem.\n",
    "lineitem_df.info()"
   ]
  },
  {
   "cell_type": "markdown",
   "id": "defda4a2",
   "metadata": {},
   "source": [
    "`DataFrame.describe()`\n",
    "> A method to display descriptive statistics (such as `count`, `mean`, `std`, `min`, `max`, `percentiles` for numeric data) of the DataFrame.\n",
    "\n",
    "`DataFrame.apply(func, axis=0)` \n",
    "> A method to apply a function along an axis (either `axis=0`: DataFrame’s index (default) or `axis=1`: the DataFrame’s columns) of the DataFrame."
   ]
  },
  {
   "cell_type": "code",
   "execution_count": 4,
   "id": "a1c0f13d",
   "metadata": {},
   "outputs": [
    {
     "data": {
      "text/html": [
       "<div>\n",
       "<style scoped>\n",
       "    .dataframe tbody tr th:only-of-type {\n",
       "        vertical-align: middle;\n",
       "    }\n",
       "\n",
       "    .dataframe tbody tr th {\n",
       "        vertical-align: top;\n",
       "    }\n",
       "\n",
       "    .dataframe thead th {\n",
       "        text-align: right;\n",
       "    }\n",
       "</style>\n",
       "<table border=\"1\" class=\"dataframe\">\n",
       "  <thead>\n",
       "    <tr style=\"text-align: right;\">\n",
       "      <th></th>\n",
       "      <th>L_ORDERKEY</th>\n",
       "      <th>L_PARTKEY</th>\n",
       "      <th>L_SUPPKEY</th>\n",
       "      <th>L_LINENUMBER</th>\n",
       "      <th>L_QUANTITY</th>\n",
       "      <th>L_EXTENDEDPRICE</th>\n",
       "      <th>L_DISCOUNT</th>\n",
       "      <th>L_TAX</th>\n",
       "      <th>L_COMMENT</th>\n",
       "    </tr>\n",
       "  </thead>\n",
       "  <tbody>\n",
       "    <tr>\n",
       "      <th>count</th>\n",
       "      <td>1101003.00</td>\n",
       "      <td>1101003.00</td>\n",
       "      <td>1101003.00</td>\n",
       "      <td>1040966.00</td>\n",
       "      <td>1041041.00</td>\n",
       "      <td>1101003.00</td>\n",
       "      <td>1101003.00</td>\n",
       "      <td>1101003.00</td>\n",
       "      <td>0.00</td>\n",
       "    </tr>\n",
       "    <tr>\n",
       "      <th>mean</th>\n",
       "      <td>2409702.13</td>\n",
       "      <td>100026.85</td>\n",
       "      <td>5004.23</td>\n",
       "      <td>2.85</td>\n",
       "      <td>24.24</td>\n",
       "      <td>38274.48</td>\n",
       "      <td>0.05</td>\n",
       "      <td>0.04</td>\n",
       "      <td>NaN</td>\n",
       "    </tr>\n",
       "    <tr>\n",
       "      <th>std</th>\n",
       "      <td>1750970.18</td>\n",
       "      <td>57750.00</td>\n",
       "      <td>2888.58</td>\n",
       "      <td>1.92</td>\n",
       "      <td>16.03</td>\n",
       "      <td>23292.35</td>\n",
       "      <td>0.03</td>\n",
       "      <td>0.03</td>\n",
       "      <td>NaN</td>\n",
       "    </tr>\n",
       "    <tr>\n",
       "      <th>min</th>\n",
       "      <td>600001.00</td>\n",
       "      <td>1.00</td>\n",
       "      <td>1.00</td>\n",
       "      <td>-7.00</td>\n",
       "      <td>-50.00</td>\n",
       "      <td>905.00</td>\n",
       "      <td>0.00</td>\n",
       "      <td>0.00</td>\n",
       "      <td>NaN</td>\n",
       "    </tr>\n",
       "    <tr>\n",
       "      <th>25%</th>\n",
       "      <td>862338.00</td>\n",
       "      <td>50024.50</td>\n",
       "      <td>2503.00</td>\n",
       "      <td>1.00</td>\n",
       "      <td>12.00</td>\n",
       "      <td>18785.25</td>\n",
       "      <td>0.02</td>\n",
       "      <td>0.02</td>\n",
       "      <td>NaN</td>\n",
       "    </tr>\n",
       "    <tr>\n",
       "      <th>50%</th>\n",
       "      <td>1124898.00</td>\n",
       "      <td>99939.00</td>\n",
       "      <td>5006.00</td>\n",
       "      <td>3.00</td>\n",
       "      <td>25.00</td>\n",
       "      <td>36718.08</td>\n",
       "      <td>0.05</td>\n",
       "      <td>0.04</td>\n",
       "      <td>NaN</td>\n",
       "    </tr>\n",
       "    <tr>\n",
       "      <th>75%</th>\n",
       "      <td>4386467.00</td>\n",
       "      <td>150109.00</td>\n",
       "      <td>7508.00</td>\n",
       "      <td>4.00</td>\n",
       "      <td>38.00</td>\n",
       "      <td>55201.00</td>\n",
       "      <td>0.08</td>\n",
       "      <td>0.06</td>\n",
       "      <td>NaN</td>\n",
       "    </tr>\n",
       "    <tr>\n",
       "      <th>max</th>\n",
       "      <td>4648738.00</td>\n",
       "      <td>200000.00</td>\n",
       "      <td>10000.00</td>\n",
       "      <td>7.70</td>\n",
       "      <td>54.92</td>\n",
       "      <td>104899.50</td>\n",
       "      <td>0.10</td>\n",
       "      <td>0.08</td>\n",
       "      <td>NaN</td>\n",
       "    </tr>\n",
       "  </tbody>\n",
       "</table>\n",
       "</div>"
      ],
      "text/plain": [
       "       L_ORDERKEY  L_PARTKEY  L_SUPPKEY  L_LINENUMBER  L_QUANTITY  \\\n",
       "count  1101003.00 1101003.00 1101003.00    1040966.00  1041041.00   \n",
       "mean   2409702.13  100026.85    5004.23          2.85       24.24   \n",
       "std    1750970.18   57750.00    2888.58          1.92       16.03   \n",
       "min     600001.00       1.00       1.00         -7.00      -50.00   \n",
       "25%     862338.00   50024.50    2503.00          1.00       12.00   \n",
       "50%    1124898.00   99939.00    5006.00          3.00       25.00   \n",
       "75%    4386467.00  150109.00    7508.00          4.00       38.00   \n",
       "max    4648738.00  200000.00   10000.00          7.70       54.92   \n",
       "\n",
       "       L_EXTENDEDPRICE  L_DISCOUNT      L_TAX  L_COMMENT  \n",
       "count       1101003.00  1101003.00 1101003.00       0.00  \n",
       "mean          38274.48        0.05       0.04        NaN  \n",
       "std           23292.35        0.03       0.03        NaN  \n",
       "min             905.00        0.00       0.00        NaN  \n",
       "25%           18785.25        0.02       0.02        NaN  \n",
       "50%           36718.08        0.05       0.04        NaN  \n",
       "75%           55201.00        0.08       0.06        NaN  \n",
       "max          104899.50        0.10       0.08        NaN  "
      ]
     },
     "execution_count": 4,
     "metadata": {},
     "output_type": "execute_result"
    }
   ],
   "source": [
    "# Display the descriptive statistics of Lineitem\n",
    "lineitem_df.describe()"
   ]
  },
  {
   "cell_type": "markdown",
   "id": "c49acddb",
   "metadata": {},
   "source": [
    "`DataFrame.head(n=5)`\n",
    "> A method to return the first n rows (default=5) for the object based on position."
   ]
  },
  {
   "cell_type": "code",
   "execution_count": 5,
   "id": "ad1b8565",
   "metadata": {
    "scrolled": true
   },
   "outputs": [
    {
     "data": {
      "text/html": [
       "<div>\n",
       "<style scoped>\n",
       "    .dataframe tbody tr th:only-of-type {\n",
       "        vertical-align: middle;\n",
       "    }\n",
       "\n",
       "    .dataframe tbody tr th {\n",
       "        vertical-align: top;\n",
       "    }\n",
       "\n",
       "    .dataframe thead th {\n",
       "        text-align: right;\n",
       "    }\n",
       "</style>\n",
       "<table border=\"1\" class=\"dataframe\">\n",
       "  <thead>\n",
       "    <tr style=\"text-align: right;\">\n",
       "      <th></th>\n",
       "      <th>L_ORDERKEY</th>\n",
       "      <th>L_PARTKEY</th>\n",
       "      <th>L_SUPPKEY</th>\n",
       "      <th>L_LINENUMBER</th>\n",
       "      <th>L_QUANTITY</th>\n",
       "      <th>L_EXTENDEDPRICE</th>\n",
       "      <th>L_DISCOUNT</th>\n",
       "      <th>L_TAX</th>\n",
       "      <th>L_RETURNFLAG</th>\n",
       "      <th>L_LINESTATUS</th>\n",
       "      <th>L_SHIPDATE</th>\n",
       "      <th>L_COMMITDATE</th>\n",
       "      <th>L_RECEIPTDATE</th>\n",
       "      <th>L_SHIPINSTRUCT</th>\n",
       "      <th>L_SHIPMODE</th>\n",
       "      <th>L_COMMENT</th>\n",
       "    </tr>\n",
       "  </thead>\n",
       "  <tbody>\n",
       "    <tr>\n",
       "      <th>0</th>\n",
       "      <td>600001</td>\n",
       "      <td>112520</td>\n",
       "      <td>7543</td>\n",
       "      <td>1.00</td>\n",
       "      <td>27.00</td>\n",
       "      <td>41378.04</td>\n",
       "      <td>0.10</td>\n",
       "      <td>0.00</td>\n",
       "      <td>N</td>\n",
       "      <td>O</td>\n",
       "      <td>1995-11-28</td>\n",
       "      <td>1995-12-06</td>\n",
       "      <td>1995-12-06</td>\n",
       "      <td>TAKE BACK RETURN</td>\n",
       "      <td>AIR</td>\n",
       "      <td>NaN</td>\n",
       "    </tr>\n",
       "    <tr>\n",
       "      <th>1</th>\n",
       "      <td>600001</td>\n",
       "      <td>114063</td>\n",
       "      <td>1597</td>\n",
       "      <td>2.00</td>\n",
       "      <td>8.00</td>\n",
       "      <td>8616.48</td>\n",
       "      <td>0.06</td>\n",
       "      <td>0.00</td>\n",
       "      <td>N</td>\n",
       "      <td>O</td>\n",
       "      <td>1996-02-10</td>\n",
       "      <td>1995-12-13</td>\n",
       "      <td>1996-02-29</td>\n",
       "      <td>NONE</td>\n",
       "      <td>FOB</td>\n",
       "      <td>NaN</td>\n",
       "    </tr>\n",
       "    <tr>\n",
       "      <th>2</th>\n",
       "      <td>600001</td>\n",
       "      <td>46739</td>\n",
       "      <td>4252</td>\n",
       "      <td>3.00</td>\n",
       "      <td>20.00</td>\n",
       "      <td>33714.60</td>\n",
       "      <td>0.02</td>\n",
       "      <td>0.05</td>\n",
       "      <td>N</td>\n",
       "      <td>O</td>\n",
       "      <td>1995-12-09</td>\n",
       "      <td>1996-01-10</td>\n",
       "      <td>1995-12-16</td>\n",
       "      <td>TAKE BACK RETURN</td>\n",
       "      <td>REG AIR</td>\n",
       "      <td>NaN</td>\n",
       "    </tr>\n",
       "    <tr>\n",
       "      <th>3</th>\n",
       "      <td>600002</td>\n",
       "      <td>79540</td>\n",
       "      <td>7062</td>\n",
       "      <td>1.00</td>\n",
       "      <td>30.00</td>\n",
       "      <td>45586.20</td>\n",
       "      <td>0.09</td>\n",
       "      <td>0.01</td>\n",
       "      <td>R</td>\n",
       "      <td>F</td>\n",
       "      <td>1992-09-20</td>\n",
       "      <td>1992-09-29</td>\n",
       "      <td>1992-10-15</td>\n",
       "      <td>NONE</td>\n",
       "      <td>AIR</td>\n",
       "      <td>NaN</td>\n",
       "    </tr>\n",
       "    <tr>\n",
       "      <th>4</th>\n",
       "      <td>600002</td>\n",
       "      <td>24776</td>\n",
       "      <td>4777</td>\n",
       "      <td>2.00</td>\n",
       "      <td>8.00</td>\n",
       "      <td>13606.16</td>\n",
       "      <td>0.01</td>\n",
       "      <td>0.05</td>\n",
       "      <td>A</td>\n",
       "      <td>F</td>\n",
       "      <td>1992-10-01</td>\n",
       "      <td>1992-09-01</td>\n",
       "      <td>1992-10-05</td>\n",
       "      <td>COLLECT COD</td>\n",
       "      <td>AIR</td>\n",
       "      <td>NaN</td>\n",
       "    </tr>\n",
       "  </tbody>\n",
       "</table>\n",
       "</div>"
      ],
      "text/plain": [
       "   L_ORDERKEY  L_PARTKEY  L_SUPPKEY  L_LINENUMBER  L_QUANTITY  \\\n",
       "0      600001     112520       7543          1.00       27.00   \n",
       "1      600001     114063       1597          2.00        8.00   \n",
       "2      600001      46739       4252          3.00       20.00   \n",
       "3      600002      79540       7062          1.00       30.00   \n",
       "4      600002      24776       4777          2.00        8.00   \n",
       "\n",
       "   L_EXTENDEDPRICE  L_DISCOUNT  L_TAX L_RETURNFLAG L_LINESTATUS  L_SHIPDATE  \\\n",
       "0         41378.04        0.10   0.00            N            O  1995-11-28   \n",
       "1          8616.48        0.06   0.00            N            O  1996-02-10   \n",
       "2         33714.60        0.02   0.05            N            O  1995-12-09   \n",
       "3         45586.20        0.09   0.01            R            F  1992-09-20   \n",
       "4         13606.16        0.01   0.05            A            F  1992-10-01   \n",
       "\n",
       "  L_COMMITDATE L_RECEIPTDATE    L_SHIPINSTRUCT L_SHIPMODE  L_COMMENT  \n",
       "0   1995-12-06    1995-12-06  TAKE BACK RETURN        AIR        NaN  \n",
       "1   1995-12-13    1996-02-29              NONE        FOB        NaN  \n",
       "2   1996-01-10    1995-12-16  TAKE BACK RETURN    REG AIR        NaN  \n",
       "3   1992-09-29    1992-10-15              NONE        AIR        NaN  \n",
       "4   1992-09-01    1992-10-05       COLLECT COD        AIR        NaN  "
      ]
     },
     "execution_count": 5,
     "metadata": {},
     "output_type": "execute_result"
    }
   ],
   "source": [
    "# Display sample of Lineitem.\n",
    "lineitem_df.head()"
   ]
  },
  {
   "cell_type": "markdown",
   "id": "b8546380",
   "metadata": {},
   "source": [
    "#### Order"
   ]
  },
  {
   "cell_type": "code",
   "execution_count": 6,
   "id": "441ba1c3",
   "metadata": {},
   "outputs": [
    {
     "name": "stdout",
     "output_type": "stream",
     "text": [
      "<class 'pandas.core.frame.DataFrame'>\n",
      "RangeIndex: 1101003 entries, 0 to 1101002\n",
      "Data columns (total 9 columns):\n",
      " #   Column           Non-Null Count    Dtype  \n",
      "---  ------           --------------    -----  \n",
      " 0   O_ORDERKEY       1101003 non-null  int64  \n",
      " 1   O_CUSTKEY        1101003 non-null  int64  \n",
      " 2   O_ORDERSTATUS    1041071 non-null  object \n",
      " 3   O_TOTALPRICE     1101003 non-null  float64\n",
      " 4   O_ORDERDATE      1040885 non-null  object \n",
      " 5   O_ORDERPRIORITY  1040964 non-null  object \n",
      " 6   O_CLERK          1101003 non-null  object \n",
      " 7   O_SHIPPRIORITY   1101003 non-null  int64  \n",
      " 8   O_COMMENT        1101003 non-null  object \n",
      "dtypes: float64(1), int64(3), object(5)\n",
      "memory usage: 75.6+ MB\n"
     ]
    }
   ],
   "source": [
    "# Display a summary info of Order.\n",
    "order_df.info()"
   ]
  },
  {
   "cell_type": "code",
   "execution_count": 7,
   "id": "4bd5a18e",
   "metadata": {},
   "outputs": [
    {
     "data": {
      "text/html": [
       "<div>\n",
       "<style scoped>\n",
       "    .dataframe tbody tr th:only-of-type {\n",
       "        vertical-align: middle;\n",
       "    }\n",
       "\n",
       "    .dataframe tbody tr th {\n",
       "        vertical-align: top;\n",
       "    }\n",
       "\n",
       "    .dataframe thead th {\n",
       "        text-align: right;\n",
       "    }\n",
       "</style>\n",
       "<table border=\"1\" class=\"dataframe\">\n",
       "  <thead>\n",
       "    <tr style=\"text-align: right;\">\n",
       "      <th></th>\n",
       "      <th>O_ORDERKEY</th>\n",
       "      <th>O_CUSTKEY</th>\n",
       "      <th>O_TOTALPRICE</th>\n",
       "      <th>O_SHIPPRIORITY</th>\n",
       "    </tr>\n",
       "  </thead>\n",
       "  <tbody>\n",
       "    <tr>\n",
       "      <th>count</th>\n",
       "      <td>1101003.00</td>\n",
       "      <td>1101003.00</td>\n",
       "      <td>1101003.00</td>\n",
       "      <td>1101003.00</td>\n",
       "    </tr>\n",
       "    <tr>\n",
       "      <th>mean</th>\n",
       "      <td>3386487.56</td>\n",
       "      <td>75061.23</td>\n",
       "      <td>151246.98</td>\n",
       "      <td>0.00</td>\n",
       "    </tr>\n",
       "    <tr>\n",
       "      <th>std</th>\n",
       "      <td>1350322.80</td>\n",
       "      <td>43310.85</td>\n",
       "      <td>88633.10</td>\n",
       "      <td>0.00</td>\n",
       "    </tr>\n",
       "    <tr>\n",
       "      <th>min</th>\n",
       "      <td>1200001.00</td>\n",
       "      <td>1.00</td>\n",
       "      <td>857.71</td>\n",
       "      <td>0.00</td>\n",
       "    </tr>\n",
       "    <tr>\n",
       "      <th>25%</th>\n",
       "      <td>2248385.50</td>\n",
       "      <td>37558.00</td>\n",
       "      <td>77939.32</td>\n",
       "      <td>0.00</td>\n",
       "    </tr>\n",
       "    <tr>\n",
       "      <th>50%</th>\n",
       "      <td>3302247.00</td>\n",
       "      <td>75088.00</td>\n",
       "      <td>144423.40</td>\n",
       "      <td>0.00</td>\n",
       "    </tr>\n",
       "    <tr>\n",
       "      <th>75%</th>\n",
       "      <td>4350945.50</td>\n",
       "      <td>112609.00</td>\n",
       "      <td>215546.05</td>\n",
       "      <td>0.00</td>\n",
       "    </tr>\n",
       "    <tr>\n",
       "      <th>max</th>\n",
       "      <td>6000000.00</td>\n",
       "      <td>149999.00</td>\n",
       "      <td>555285.16</td>\n",
       "      <td>0.00</td>\n",
       "    </tr>\n",
       "  </tbody>\n",
       "</table>\n",
       "</div>"
      ],
      "text/plain": [
       "       O_ORDERKEY  O_CUSTKEY  O_TOTALPRICE  O_SHIPPRIORITY\n",
       "count  1101003.00 1101003.00    1101003.00      1101003.00\n",
       "mean   3386487.56   75061.23     151246.98            0.00\n",
       "std    1350322.80   43310.85      88633.10            0.00\n",
       "min    1200001.00       1.00        857.71            0.00\n",
       "25%    2248385.50   37558.00      77939.32            0.00\n",
       "50%    3302247.00   75088.00     144423.40            0.00\n",
       "75%    4350945.50  112609.00     215546.05            0.00\n",
       "max    6000000.00  149999.00     555285.16            0.00"
      ]
     },
     "execution_count": 7,
     "metadata": {},
     "output_type": "execute_result"
    }
   ],
   "source": [
    "# Display the descriptive statistics of Order\n",
    "order_df.describe()"
   ]
  },
  {
   "cell_type": "code",
   "execution_count": 8,
   "id": "21c11785",
   "metadata": {},
   "outputs": [
    {
     "data": {
      "text/html": [
       "<div>\n",
       "<style scoped>\n",
       "    .dataframe tbody tr th:only-of-type {\n",
       "        vertical-align: middle;\n",
       "    }\n",
       "\n",
       "    .dataframe tbody tr th {\n",
       "        vertical-align: top;\n",
       "    }\n",
       "\n",
       "    .dataframe thead th {\n",
       "        text-align: right;\n",
       "    }\n",
       "</style>\n",
       "<table border=\"1\" class=\"dataframe\">\n",
       "  <thead>\n",
       "    <tr style=\"text-align: right;\">\n",
       "      <th></th>\n",
       "      <th>O_ORDERKEY</th>\n",
       "      <th>O_CUSTKEY</th>\n",
       "      <th>O_ORDERSTATUS</th>\n",
       "      <th>O_TOTALPRICE</th>\n",
       "      <th>O_ORDERDATE</th>\n",
       "      <th>O_ORDERPRIORITY</th>\n",
       "      <th>O_CLERK</th>\n",
       "      <th>O_SHIPPRIORITY</th>\n",
       "      <th>O_COMMENT</th>\n",
       "    </tr>\n",
       "  </thead>\n",
       "  <tbody>\n",
       "    <tr>\n",
       "      <th>0</th>\n",
       "      <td>4200001</td>\n",
       "      <td>13726</td>\n",
       "      <td>F</td>\n",
       "      <td>99406.41</td>\n",
       "      <td>1994-02-21</td>\n",
       "      <td>NaN</td>\n",
       "      <td>Clerk#000000128</td>\n",
       "      <td>0</td>\n",
       "      <td>comment</td>\n",
       "    </tr>\n",
       "    <tr>\n",
       "      <th>1</th>\n",
       "      <td>4200002</td>\n",
       "      <td>129376</td>\n",
       "      <td>O</td>\n",
       "      <td>256838.41</td>\n",
       "      <td>1997-04-14</td>\n",
       "      <td>4-NOT SPECIFIED</td>\n",
       "      <td>Clerk#000000281</td>\n",
       "      <td>0</td>\n",
       "      <td>comment</td>\n",
       "    </tr>\n",
       "    <tr>\n",
       "      <th>2</th>\n",
       "      <td>4200003</td>\n",
       "      <td>141613</td>\n",
       "      <td>O</td>\n",
       "      <td>150849.49</td>\n",
       "      <td>1997-11-24</td>\n",
       "      <td>4-NOT SPECIFIED</td>\n",
       "      <td>Clerk#000000585</td>\n",
       "      <td>0</td>\n",
       "      <td>comment</td>\n",
       "    </tr>\n",
       "    <tr>\n",
       "      <th>3</th>\n",
       "      <td>4200004</td>\n",
       "      <td>23515</td>\n",
       "      <td>O</td>\n",
       "      <td>178688.27</td>\n",
       "      <td>1996-12-09</td>\n",
       "      <td>NaN</td>\n",
       "      <td>Clerk#000000632</td>\n",
       "      <td>0</td>\n",
       "      <td>comment</td>\n",
       "    </tr>\n",
       "    <tr>\n",
       "      <th>4</th>\n",
       "      <td>4200005</td>\n",
       "      <td>97687</td>\n",
       "      <td>O</td>\n",
       "      <td>261742.31</td>\n",
       "      <td>NaN</td>\n",
       "      <td>2-HIGH</td>\n",
       "      <td>Clerk#000000562</td>\n",
       "      <td>0</td>\n",
       "      <td>comment</td>\n",
       "    </tr>\n",
       "  </tbody>\n",
       "</table>\n",
       "</div>"
      ],
      "text/plain": [
       "   O_ORDERKEY  O_CUSTKEY O_ORDERSTATUS  O_TOTALPRICE O_ORDERDATE  \\\n",
       "0     4200001      13726             F      99406.41  1994-02-21   \n",
       "1     4200002     129376             O     256838.41  1997-04-14   \n",
       "2     4200003     141613             O     150849.49  1997-11-24   \n",
       "3     4200004      23515             O     178688.27  1996-12-09   \n",
       "4     4200005      97687             O     261742.31         NaN   \n",
       "\n",
       "   O_ORDERPRIORITY          O_CLERK  O_SHIPPRIORITY O_COMMENT  \n",
       "0              NaN  Clerk#000000128               0   comment  \n",
       "1  4-NOT SPECIFIED  Clerk#000000281               0   comment  \n",
       "2  4-NOT SPECIFIED  Clerk#000000585               0   comment  \n",
       "3              NaN  Clerk#000000632               0   comment  \n",
       "4           2-HIGH  Clerk#000000562               0   comment  "
      ]
     },
     "execution_count": 8,
     "metadata": {},
     "output_type": "execute_result"
    }
   ],
   "source": [
    "# Display sample of Order\n",
    "order_df.head()"
   ]
  },
  {
   "cell_type": "markdown",
   "id": "c2f2bf12",
   "metadata": {},
   "source": [
    "#### Customer & Supplier"
   ]
  },
  {
   "cell_type": "code",
   "execution_count": 9,
   "id": "80ffc45b",
   "metadata": {},
   "outputs": [
    {
     "name": "stdout",
     "output_type": "stream",
     "text": [
      "Customer\n",
      "<class 'pandas.core.frame.DataFrame'>\n",
      "RangeIndex: 150000 entries, 0 to 149999\n",
      "Data columns (total 8 columns):\n",
      " #   Column        Non-Null Count   Dtype  \n",
      "---  ------        --------------   -----  \n",
      " 0   C_CUSTKEY     150000 non-null  int64  \n",
      " 1   C_NAME        150000 non-null  object \n",
      " 2   C_ADDRESS     150000 non-null  object \n",
      " 3   C_NATIONKEY   150000 non-null  int64  \n",
      " 4   C_PHONE       150000 non-null  object \n",
      " 5   C_ACCTBAL     150000 non-null  float64\n",
      " 6   C_MKTSEGMENT  150000 non-null  object \n",
      " 7   C_COMMENT     0 non-null       float64\n",
      "dtypes: float64(2), int64(2), object(4)\n",
      "memory usage: 9.2+ MB\n",
      "\n",
      "Supplier\n",
      "<class 'pandas.core.frame.DataFrame'>\n",
      "RangeIndex: 10000 entries, 0 to 9999\n",
      "Data columns (total 7 columns):\n",
      " #   Column       Non-Null Count  Dtype  \n",
      "---  ------       --------------  -----  \n",
      " 0   S_SUPPKEY    10000 non-null  int64  \n",
      " 1   S_NAME       10000 non-null  object \n",
      " 2   S_ADDRESS    10000 non-null  object \n",
      " 3   S_NATIONKEY  10000 non-null  int64  \n",
      " 4   S_PHONE      10000 non-null  object \n",
      " 5   S_ACCTBAL    10000 non-null  float64\n",
      " 6   S_COMMENT    10000 non-null  object \n",
      "dtypes: float64(1), int64(2), object(4)\n",
      "memory usage: 547.0+ KB\n"
     ]
    }
   ],
   "source": [
    "# Explore data for other table\n",
    "print(\"Customer\")\n",
    "customer_df.info()\n",
    "\n",
    "print(\"\\nSupplier\")\n",
    "supplier_df.info()"
   ]
  },
  {
   "cell_type": "code",
   "execution_count": 10,
   "id": "9acb502e",
   "metadata": {},
   "outputs": [
    {
     "data": {
      "text/html": [
       "<div>\n",
       "<style scoped>\n",
       "    .dataframe tbody tr th:only-of-type {\n",
       "        vertical-align: middle;\n",
       "    }\n",
       "\n",
       "    .dataframe tbody tr th {\n",
       "        vertical-align: top;\n",
       "    }\n",
       "\n",
       "    .dataframe thead th {\n",
       "        text-align: right;\n",
       "    }\n",
       "</style>\n",
       "<table border=\"1\" class=\"dataframe\">\n",
       "  <thead>\n",
       "    <tr style=\"text-align: right;\">\n",
       "      <th></th>\n",
       "      <th>C_CUSTKEY</th>\n",
       "      <th>C_NATIONKEY</th>\n",
       "      <th>C_ACCTBAL</th>\n",
       "      <th>C_COMMENT</th>\n",
       "    </tr>\n",
       "  </thead>\n",
       "  <tbody>\n",
       "    <tr>\n",
       "      <th>count</th>\n",
       "      <td>150000.00</td>\n",
       "      <td>150000.00</td>\n",
       "      <td>150000.00</td>\n",
       "      <td>0.00</td>\n",
       "    </tr>\n",
       "    <tr>\n",
       "      <th>mean</th>\n",
       "      <td>75000.50</td>\n",
       "      <td>12.01</td>\n",
       "      <td>4495.51</td>\n",
       "      <td>NaN</td>\n",
       "    </tr>\n",
       "    <tr>\n",
       "      <th>std</th>\n",
       "      <td>43301.41</td>\n",
       "      <td>7.21</td>\n",
       "      <td>3174.32</td>\n",
       "      <td>NaN</td>\n",
       "    </tr>\n",
       "    <tr>\n",
       "      <th>min</th>\n",
       "      <td>1.00</td>\n",
       "      <td>0.00</td>\n",
       "      <td>-999.99</td>\n",
       "      <td>NaN</td>\n",
       "    </tr>\n",
       "    <tr>\n",
       "      <th>25%</th>\n",
       "      <td>37500.75</td>\n",
       "      <td>6.00</td>\n",
       "      <td>1757.62</td>\n",
       "      <td>NaN</td>\n",
       "    </tr>\n",
       "    <tr>\n",
       "      <th>50%</th>\n",
       "      <td>75000.50</td>\n",
       "      <td>12.00</td>\n",
       "      <td>4477.30</td>\n",
       "      <td>NaN</td>\n",
       "    </tr>\n",
       "    <tr>\n",
       "      <th>75%</th>\n",
       "      <td>112500.25</td>\n",
       "      <td>18.00</td>\n",
       "      <td>7246.32</td>\n",
       "      <td>NaN</td>\n",
       "    </tr>\n",
       "    <tr>\n",
       "      <th>max</th>\n",
       "      <td>150000.00</td>\n",
       "      <td>24.00</td>\n",
       "      <td>9999.99</td>\n",
       "      <td>NaN</td>\n",
       "    </tr>\n",
       "  </tbody>\n",
       "</table>\n",
       "</div>"
      ],
      "text/plain": [
       "       C_CUSTKEY  C_NATIONKEY  C_ACCTBAL  C_COMMENT\n",
       "count  150000.00    150000.00  150000.00       0.00\n",
       "mean    75000.50        12.01    4495.51        NaN\n",
       "std     43301.41         7.21    3174.32        NaN\n",
       "min         1.00         0.00    -999.99        NaN\n",
       "25%     37500.75         6.00    1757.62        NaN\n",
       "50%     75000.50        12.00    4477.30        NaN\n",
       "75%    112500.25        18.00    7246.32        NaN\n",
       "max    150000.00        24.00    9999.99        NaN"
      ]
     },
     "execution_count": 10,
     "metadata": {},
     "output_type": "execute_result"
    }
   ],
   "source": [
    "customer_df.describe()"
   ]
  },
  {
   "cell_type": "code",
   "execution_count": 11,
   "id": "6cab98d5",
   "metadata": {},
   "outputs": [
    {
     "data": {
      "text/html": [
       "<div>\n",
       "<style scoped>\n",
       "    .dataframe tbody tr th:only-of-type {\n",
       "        vertical-align: middle;\n",
       "    }\n",
       "\n",
       "    .dataframe tbody tr th {\n",
       "        vertical-align: top;\n",
       "    }\n",
       "\n",
       "    .dataframe thead th {\n",
       "        text-align: right;\n",
       "    }\n",
       "</style>\n",
       "<table border=\"1\" class=\"dataframe\">\n",
       "  <thead>\n",
       "    <tr style=\"text-align: right;\">\n",
       "      <th></th>\n",
       "      <th>S_SUPPKEY</th>\n",
       "      <th>S_NATIONKEY</th>\n",
       "      <th>S_ACCTBAL</th>\n",
       "    </tr>\n",
       "  </thead>\n",
       "  <tbody>\n",
       "    <tr>\n",
       "      <th>count</th>\n",
       "      <td>10000.00</td>\n",
       "      <td>10000.00</td>\n",
       "      <td>10000.00</td>\n",
       "    </tr>\n",
       "    <tr>\n",
       "      <th>mean</th>\n",
       "      <td>5000.50</td>\n",
       "      <td>11.94</td>\n",
       "      <td>4510.35</td>\n",
       "    </tr>\n",
       "    <tr>\n",
       "      <th>std</th>\n",
       "      <td>2886.90</td>\n",
       "      <td>7.24</td>\n",
       "      <td>3168.08</td>\n",
       "    </tr>\n",
       "    <tr>\n",
       "      <th>min</th>\n",
       "      <td>1.00</td>\n",
       "      <td>0.00</td>\n",
       "      <td>-998.22</td>\n",
       "    </tr>\n",
       "    <tr>\n",
       "      <th>25%</th>\n",
       "      <td>2500.75</td>\n",
       "      <td>6.00</td>\n",
       "      <td>1770.72</td>\n",
       "    </tr>\n",
       "    <tr>\n",
       "      <th>50%</th>\n",
       "      <td>5000.50</td>\n",
       "      <td>12.00</td>\n",
       "      <td>4541.07</td>\n",
       "    </tr>\n",
       "    <tr>\n",
       "      <th>75%</th>\n",
       "      <td>7500.25</td>\n",
       "      <td>18.00</td>\n",
       "      <td>7270.64</td>\n",
       "    </tr>\n",
       "    <tr>\n",
       "      <th>max</th>\n",
       "      <td>10000.00</td>\n",
       "      <td>24.00</td>\n",
       "      <td>9999.72</td>\n",
       "    </tr>\n",
       "  </tbody>\n",
       "</table>\n",
       "</div>"
      ],
      "text/plain": [
       "       S_SUPPKEY  S_NATIONKEY  S_ACCTBAL\n",
       "count   10000.00     10000.00   10000.00\n",
       "mean     5000.50        11.94    4510.35\n",
       "std      2886.90         7.24    3168.08\n",
       "min         1.00         0.00    -998.22\n",
       "25%      2500.75         6.00    1770.72\n",
       "50%      5000.50        12.00    4541.07\n",
       "75%      7500.25        18.00    7270.64\n",
       "max     10000.00        24.00    9999.72"
      ]
     },
     "execution_count": 11,
     "metadata": {},
     "output_type": "execute_result"
    }
   ],
   "source": [
    "supplier_df.describe()"
   ]
  },
  {
   "cell_type": "code",
   "execution_count": 12,
   "id": "855db286",
   "metadata": {},
   "outputs": [
    {
     "data": {
      "text/html": [
       "<div>\n",
       "<style scoped>\n",
       "    .dataframe tbody tr th:only-of-type {\n",
       "        vertical-align: middle;\n",
       "    }\n",
       "\n",
       "    .dataframe tbody tr th {\n",
       "        vertical-align: top;\n",
       "    }\n",
       "\n",
       "    .dataframe thead th {\n",
       "        text-align: right;\n",
       "    }\n",
       "</style>\n",
       "<table border=\"1\" class=\"dataframe\">\n",
       "  <thead>\n",
       "    <tr style=\"text-align: right;\">\n",
       "      <th></th>\n",
       "      <th>C_CUSTKEY</th>\n",
       "      <th>C_NAME</th>\n",
       "      <th>C_ADDRESS</th>\n",
       "      <th>C_NATIONKEY</th>\n",
       "      <th>C_PHONE</th>\n",
       "      <th>C_ACCTBAL</th>\n",
       "      <th>C_MKTSEGMENT</th>\n",
       "      <th>C_COMMENT</th>\n",
       "    </tr>\n",
       "  </thead>\n",
       "  <tbody>\n",
       "    <tr>\n",
       "      <th>0</th>\n",
       "      <td>60001</td>\n",
       "      <td>Customer#000060001</td>\n",
       "      <td>9Ii4zQn9cX</td>\n",
       "      <td>14</td>\n",
       "      <td>24-678-784-9652</td>\n",
       "      <td>9957.56</td>\n",
       "      <td>HOUSEHOLD</td>\n",
       "      <td>NaN</td>\n",
       "    </tr>\n",
       "    <tr>\n",
       "      <th>1</th>\n",
       "      <td>60002</td>\n",
       "      <td>Customer#000060002</td>\n",
       "      <td>ThGBMjDwKzkoOxhz</td>\n",
       "      <td>15</td>\n",
       "      <td>25-782-500-8435</td>\n",
       "      <td>742.46</td>\n",
       "      <td>BUILDING</td>\n",
       "      <td>NaN</td>\n",
       "    </tr>\n",
       "    <tr>\n",
       "      <th>2</th>\n",
       "      <td>60003</td>\n",
       "      <td>Customer#000060003</td>\n",
       "      <td>Ed hbPtTXMTAsgGhCr4HuTzKMd2</td>\n",
       "      <td>16</td>\n",
       "      <td>26-859-847-7640</td>\n",
       "      <td>2526.92</td>\n",
       "      <td>BUILDING</td>\n",
       "      <td>NaN</td>\n",
       "    </tr>\n",
       "    <tr>\n",
       "      <th>3</th>\n",
       "      <td>60004</td>\n",
       "      <td>Customer#000060004</td>\n",
       "      <td>NivCT2RVaavlyUnKwBjDyMvB42WayXCnky</td>\n",
       "      <td>10</td>\n",
       "      <td>20-573-674-7999</td>\n",
       "      <td>7975.22</td>\n",
       "      <td>AUTOMOBILE</td>\n",
       "      <td>NaN</td>\n",
       "    </tr>\n",
       "    <tr>\n",
       "      <th>4</th>\n",
       "      <td>60005</td>\n",
       "      <td>Customer#000060005</td>\n",
       "      <td>1F3KM3ccEXEtI B22XmCMOWJMl</td>\n",
       "      <td>12</td>\n",
       "      <td>22-741-208-1316</td>\n",
       "      <td>2504.74</td>\n",
       "      <td>MACHINERY</td>\n",
       "      <td>NaN</td>\n",
       "    </tr>\n",
       "  </tbody>\n",
       "</table>\n",
       "</div>"
      ],
      "text/plain": [
       "   C_CUSTKEY              C_NAME                           C_ADDRESS  \\\n",
       "0      60001  Customer#000060001                          9Ii4zQn9cX   \n",
       "1      60002  Customer#000060002                    ThGBMjDwKzkoOxhz   \n",
       "2      60003  Customer#000060003         Ed hbPtTXMTAsgGhCr4HuTzKMd2   \n",
       "3      60004  Customer#000060004  NivCT2RVaavlyUnKwBjDyMvB42WayXCnky   \n",
       "4      60005  Customer#000060005          1F3KM3ccEXEtI B22XmCMOWJMl   \n",
       "\n",
       "   C_NATIONKEY          C_PHONE  C_ACCTBAL C_MKTSEGMENT  C_COMMENT  \n",
       "0           14  24-678-784-9652    9957.56    HOUSEHOLD        NaN  \n",
       "1           15  25-782-500-8435     742.46     BUILDING        NaN  \n",
       "2           16  26-859-847-7640    2526.92     BUILDING        NaN  \n",
       "3           10  20-573-674-7999    7975.22   AUTOMOBILE        NaN  \n",
       "4           12  22-741-208-1316    2504.74    MACHINERY        NaN  "
      ]
     },
     "execution_count": 12,
     "metadata": {},
     "output_type": "execute_result"
    }
   ],
   "source": [
    "customer_df.head()"
   ]
  },
  {
   "cell_type": "code",
   "execution_count": 13,
   "id": "719ba485",
   "metadata": {},
   "outputs": [
    {
     "data": {
      "text/html": [
       "<div>\n",
       "<style scoped>\n",
       "    .dataframe tbody tr th:only-of-type {\n",
       "        vertical-align: middle;\n",
       "    }\n",
       "\n",
       "    .dataframe tbody tr th {\n",
       "        vertical-align: top;\n",
       "    }\n",
       "\n",
       "    .dataframe thead th {\n",
       "        text-align: right;\n",
       "    }\n",
       "</style>\n",
       "<table border=\"1\" class=\"dataframe\">\n",
       "  <thead>\n",
       "    <tr style=\"text-align: right;\">\n",
       "      <th></th>\n",
       "      <th>S_SUPPKEY</th>\n",
       "      <th>S_NAME</th>\n",
       "      <th>S_ADDRESS</th>\n",
       "      <th>S_NATIONKEY</th>\n",
       "      <th>S_PHONE</th>\n",
       "      <th>S_ACCTBAL</th>\n",
       "      <th>S_COMMENT</th>\n",
       "    </tr>\n",
       "  </thead>\n",
       "  <tbody>\n",
       "    <tr>\n",
       "      <th>0</th>\n",
       "      <td>1</td>\n",
       "      <td>Supplier#000000001</td>\n",
       "      <td>N kD4on9OM Ipw3,gf0JBoQDd7tgrzrddZ</td>\n",
       "      <td>17</td>\n",
       "      <td>27-918-335-1736</td>\n",
       "      <td>5755.94</td>\n",
       "      <td>each slyly above the careful</td>\n",
       "    </tr>\n",
       "    <tr>\n",
       "      <th>1</th>\n",
       "      <td>2</td>\n",
       "      <td>Supplier#000000002</td>\n",
       "      <td>89eJ5ksX3ImxJQBvxObC,</td>\n",
       "      <td>5</td>\n",
       "      <td>15-679-861-2259</td>\n",
       "      <td>4032.68</td>\n",
       "      <td>slyly bold instructions. idle dependen</td>\n",
       "    </tr>\n",
       "    <tr>\n",
       "      <th>2</th>\n",
       "      <td>3</td>\n",
       "      <td>Supplier#000000003</td>\n",
       "      <td>q1,G3Pj6OjIuUYfUoH18BFTKP5aU9bEV3</td>\n",
       "      <td>1</td>\n",
       "      <td>11-383-516-1199</td>\n",
       "      <td>4192.40</td>\n",
       "      <td>blithely silent requests after the express dep...</td>\n",
       "    </tr>\n",
       "    <tr>\n",
       "      <th>3</th>\n",
       "      <td>4</td>\n",
       "      <td>Supplier#000000004</td>\n",
       "      <td>Bk7ah4CK8SYQTepEmvMkkgMwg</td>\n",
       "      <td>15</td>\n",
       "      <td>25-843-787-7479</td>\n",
       "      <td>4641.08</td>\n",
       "      <td>riously even requests above the exp</td>\n",
       "    </tr>\n",
       "    <tr>\n",
       "      <th>4</th>\n",
       "      <td>5</td>\n",
       "      <td>Supplier#000000005</td>\n",
       "      <td>Gcdm2rJRzl5qlTVzc</td>\n",
       "      <td>11</td>\n",
       "      <td>21-151-690-3663</td>\n",
       "      <td>-283.84</td>\n",
       "      <td>. slyly regular pinto bea</td>\n",
       "    </tr>\n",
       "  </tbody>\n",
       "</table>\n",
       "</div>"
      ],
      "text/plain": [
       "   S_SUPPKEY              S_NAME                            S_ADDRESS  \\\n",
       "0          1  Supplier#000000001   N kD4on9OM Ipw3,gf0JBoQDd7tgrzrddZ   \n",
       "1          2  Supplier#000000002                89eJ5ksX3ImxJQBvxObC,   \n",
       "2          3  Supplier#000000003    q1,G3Pj6OjIuUYfUoH18BFTKP5aU9bEV3   \n",
       "3          4  Supplier#000000004            Bk7ah4CK8SYQTepEmvMkkgMwg   \n",
       "4          5  Supplier#000000005                    Gcdm2rJRzl5qlTVzc   \n",
       "\n",
       "   S_NATIONKEY          S_PHONE  S_ACCTBAL  \\\n",
       "0           17  27-918-335-1736    5755.94   \n",
       "1            5  15-679-861-2259    4032.68   \n",
       "2            1  11-383-516-1199    4192.40   \n",
       "3           15  25-843-787-7479    4641.08   \n",
       "4           11  21-151-690-3663    -283.84   \n",
       "\n",
       "                                           S_COMMENT  \n",
       "0                       each slyly above the careful  \n",
       "1             slyly bold instructions. idle dependen  \n",
       "2  blithely silent requests after the express dep...  \n",
       "3                riously even requests above the exp  \n",
       "4                          . slyly regular pinto bea  "
      ]
     },
     "execution_count": 13,
     "metadata": {},
     "output_type": "execute_result"
    }
   ],
   "source": [
    "supplier_df.head()"
   ]
  },
  {
   "cell_type": "markdown",
   "id": "87af0d30",
   "metadata": {},
   "source": [
    "#### Entity Relationship"
   ]
  },
  {
   "cell_type": "markdown",
   "id": "72e659c9",
   "metadata": {},
   "source": [
    "<img src=\"images/dataset_entity_relationship.png\">"
   ]
  },
  {
   "cell_type": "markdown",
   "id": "75adc881",
   "metadata": {},
   "source": [
    "## Data Cleansing"
   ]
  },
  {
   "cell_type": "markdown",
   "id": "87ab11ff",
   "metadata": {},
   "source": [
    "#### Business logic for LineItem table's field\n",
    "- Shouldn't be any duplicate row (reference by value in all column) >> Move duplicate column cleansing activity to top\n",
    "- L_QUANTITY should have value more than 0, not be decimal number, not be negative value and should not contain NaN value\n",
    "- L_LINENUMBER should have value more than 0, not be decimal number, not be negative value and not contain NaN value\n",
    "- L_LINESTATUS should contain only \"F\", \"O\" status and should not contain NaN value >> *To be check, didn't cleaned in this lab*\n",
    "- L_SHIPMODE should not contain NaN value and only value list below allowed >> *To be check, didn't cleaned in this lab*\n",
    "    - TRUCK\n",
    "    - AIR\n",
    "    - MAIL\n",
    "    - SHIP\n",
    "    - RAIL\n",
    "    - FOB\n",
    "    - REG AIR"
   ]
  },
  {
   "cell_type": "markdown",
   "id": "b2d2a55e",
   "metadata": {},
   "source": [
    "#### Lineitem"
   ]
  },
  {
   "cell_type": "code",
   "execution_count": 14,
   "id": "07d304c9",
   "metadata": {
    "scrolled": true
   },
   "outputs": [
    {
     "data": {
      "text/html": [
       "<div>\n",
       "<style scoped>\n",
       "    .dataframe tbody tr th:only-of-type {\n",
       "        vertical-align: middle;\n",
       "    }\n",
       "\n",
       "    .dataframe tbody tr th {\n",
       "        vertical-align: top;\n",
       "    }\n",
       "\n",
       "    .dataframe thead th {\n",
       "        text-align: right;\n",
       "    }\n",
       "</style>\n",
       "<table border=\"1\" class=\"dataframe\">\n",
       "  <thead>\n",
       "    <tr style=\"text-align: right;\">\n",
       "      <th></th>\n",
       "      <th>L_ORDERKEY</th>\n",
       "      <th>L_PARTKEY</th>\n",
       "      <th>L_SUPPKEY</th>\n",
       "      <th>L_LINENUMBER</th>\n",
       "      <th>L_QUANTITY</th>\n",
       "      <th>L_EXTENDEDPRICE</th>\n",
       "      <th>L_DISCOUNT</th>\n",
       "      <th>L_TAX</th>\n",
       "      <th>L_RETURNFLAG</th>\n",
       "      <th>L_LINESTATUS</th>\n",
       "      <th>L_SHIPDATE</th>\n",
       "      <th>L_COMMITDATE</th>\n",
       "      <th>L_RECEIPTDATE</th>\n",
       "      <th>L_SHIPINSTRUCT</th>\n",
       "      <th>L_SHIPMODE</th>\n",
       "      <th>L_COMMENT</th>\n",
       "    </tr>\n",
       "  </thead>\n",
       "  <tbody>\n",
       "    <tr>\n",
       "      <th>69</th>\n",
       "      <td>600065</td>\n",
       "      <td>20667</td>\n",
       "      <td>3170</td>\n",
       "      <td>NaN</td>\n",
       "      <td>27.00</td>\n",
       "      <td>42866.82</td>\n",
       "      <td>0.01</td>\n",
       "      <td>0.02</td>\n",
       "      <td>R</td>\n",
       "      <td>F</td>\n",
       "      <td>1993-12-06</td>\n",
       "      <td>1993-10-24</td>\n",
       "      <td>1993-12-25</td>\n",
       "      <td>DELIVER IN PERSON</td>\n",
       "      <td>TRUCK</td>\n",
       "      <td>NaN</td>\n",
       "    </tr>\n",
       "    <tr>\n",
       "      <th>70</th>\n",
       "      <td>600065</td>\n",
       "      <td>20667</td>\n",
       "      <td>3170</td>\n",
       "      <td>NaN</td>\n",
       "      <td>27.00</td>\n",
       "      <td>42866.82</td>\n",
       "      <td>0.01</td>\n",
       "      <td>0.02</td>\n",
       "      <td>R</td>\n",
       "      <td>F</td>\n",
       "      <td>1993-12-06</td>\n",
       "      <td>1993-10-24</td>\n",
       "      <td>1993-12-25</td>\n",
       "      <td>DELIVER IN PERSON</td>\n",
       "      <td>TRUCK</td>\n",
       "      <td>NaN</td>\n",
       "    </tr>\n",
       "    <tr>\n",
       "      <th>86</th>\n",
       "      <td>600071</td>\n",
       "      <td>158959</td>\n",
       "      <td>3990</td>\n",
       "      <td>2.00</td>\n",
       "      <td>37.00</td>\n",
       "      <td>74664.15</td>\n",
       "      <td>0.06</td>\n",
       "      <td>0.07</td>\n",
       "      <td>R</td>\n",
       "      <td>F</td>\n",
       "      <td>1992-09-19</td>\n",
       "      <td>1992-08-29</td>\n",
       "      <td>1992-10-16</td>\n",
       "      <td>TAKE BACK RETURN</td>\n",
       "      <td>FOFOB</td>\n",
       "      <td>NaN</td>\n",
       "    </tr>\n",
       "    <tr>\n",
       "      <th>87</th>\n",
       "      <td>600071</td>\n",
       "      <td>158959</td>\n",
       "      <td>3990</td>\n",
       "      <td>2.00</td>\n",
       "      <td>37.00</td>\n",
       "      <td>74664.15</td>\n",
       "      <td>0.06</td>\n",
       "      <td>0.07</td>\n",
       "      <td>R</td>\n",
       "      <td>F</td>\n",
       "      <td>1992-09-19</td>\n",
       "      <td>1992-08-29</td>\n",
       "      <td>1992-10-16</td>\n",
       "      <td>TAKE BACK RETURN</td>\n",
       "      <td>FOFOB</td>\n",
       "      <td>NaN</td>\n",
       "    </tr>\n",
       "    <tr>\n",
       "      <th>129</th>\n",
       "      <td>600128</td>\n",
       "      <td>149878</td>\n",
       "      <td>4907</td>\n",
       "      <td>2.00</td>\n",
       "      <td>-39.00</td>\n",
       "      <td>75186.93</td>\n",
       "      <td>0.09</td>\n",
       "      <td>0.07</td>\n",
       "      <td>N</td>\n",
       "      <td>O</td>\n",
       "      <td>1996-03-27</td>\n",
       "      <td>1996-02-03</td>\n",
       "      <td>1996-04-25</td>\n",
       "      <td>DELIVER IN PERSON</td>\n",
       "      <td>RAIL</td>\n",
       "      <td>NaN</td>\n",
       "    </tr>\n",
       "    <tr>\n",
       "      <th>...</th>\n",
       "      <td>...</td>\n",
       "      <td>...</td>\n",
       "      <td>...</td>\n",
       "      <td>...</td>\n",
       "      <td>...</td>\n",
       "      <td>...</td>\n",
       "      <td>...</td>\n",
       "      <td>...</td>\n",
       "      <td>...</td>\n",
       "      <td>...</td>\n",
       "      <td>...</td>\n",
       "      <td>...</td>\n",
       "      <td>...</td>\n",
       "      <td>...</td>\n",
       "      <td>...</td>\n",
       "      <td>...</td>\n",
       "    </tr>\n",
       "    <tr>\n",
       "      <th>1100952</th>\n",
       "      <td>4648677</td>\n",
       "      <td>48705</td>\n",
       "      <td>3714</td>\n",
       "      <td>7.00</td>\n",
       "      <td>37.00</td>\n",
       "      <td>61186.90</td>\n",
       "      <td>0.08</td>\n",
       "      <td>0.05</td>\n",
       "      <td>A</td>\n",
       "      <td>F</td>\n",
       "      <td>1992-09-18</td>\n",
       "      <td>1992-10-03</td>\n",
       "      <td>1992-09-24</td>\n",
       "      <td>NONE</td>\n",
       "      <td>FOB</td>\n",
       "      <td>NaN</td>\n",
       "    </tr>\n",
       "    <tr>\n",
       "      <th>1100996</th>\n",
       "      <td>4648737</td>\n",
       "      <td>8444</td>\n",
       "      <td>5945</td>\n",
       "      <td>3.00</td>\n",
       "      <td>10.00</td>\n",
       "      <td>13524.40</td>\n",
       "      <td>0.05</td>\n",
       "      <td>0.02</td>\n",
       "      <td>R</td>\n",
       "      <td>F</td>\n",
       "      <td>1993-01-25</td>\n",
       "      <td>1993-01-11</td>\n",
       "      <td>1993-02-13</td>\n",
       "      <td>TAKE BACK RETURN</td>\n",
       "      <td>NaN</td>\n",
       "      <td>NaN</td>\n",
       "    </tr>\n",
       "    <tr>\n",
       "      <th>1100997</th>\n",
       "      <td>4648737</td>\n",
       "      <td>8444</td>\n",
       "      <td>5945</td>\n",
       "      <td>3.00</td>\n",
       "      <td>10.00</td>\n",
       "      <td>13524.40</td>\n",
       "      <td>0.05</td>\n",
       "      <td>0.02</td>\n",
       "      <td>R</td>\n",
       "      <td>F</td>\n",
       "      <td>1993-01-25</td>\n",
       "      <td>1993-01-11</td>\n",
       "      <td>1993-02-13</td>\n",
       "      <td>TAKE BACK RETURN</td>\n",
       "      <td>NaN</td>\n",
       "      <td>NaN</td>\n",
       "    </tr>\n",
       "    <tr>\n",
       "      <th>1100993</th>\n",
       "      <td>4648737</td>\n",
       "      <td>9990</td>\n",
       "      <td>7491</td>\n",
       "      <td>1.00</td>\n",
       "      <td>43.00</td>\n",
       "      <td>81699.57</td>\n",
       "      <td>0.07</td>\n",
       "      <td>0.04</td>\n",
       "      <td>A</td>\n",
       "      <td>NaN</td>\n",
       "      <td>1993-01-17</td>\n",
       "      <td>1993-01-23</td>\n",
       "      <td>1993-01-24</td>\n",
       "      <td>TAKE BACK RETURN</td>\n",
       "      <td>TRUCK</td>\n",
       "      <td>NaN</td>\n",
       "    </tr>\n",
       "    <tr>\n",
       "      <th>1100994</th>\n",
       "      <td>4648737</td>\n",
       "      <td>9990</td>\n",
       "      <td>7491</td>\n",
       "      <td>1.00</td>\n",
       "      <td>43.00</td>\n",
       "      <td>81699.57</td>\n",
       "      <td>0.07</td>\n",
       "      <td>0.04</td>\n",
       "      <td>A</td>\n",
       "      <td>NaN</td>\n",
       "      <td>1993-01-17</td>\n",
       "      <td>1993-01-23</td>\n",
       "      <td>1993-01-24</td>\n",
       "      <td>TAKE BACK RETURN</td>\n",
       "      <td>TRUCK</td>\n",
       "      <td>NaN</td>\n",
       "    </tr>\n",
       "  </tbody>\n",
       "</table>\n",
       "<p>104856 rows × 16 columns</p>\n",
       "</div>"
      ],
      "text/plain": [
       "         L_ORDERKEY  L_PARTKEY  L_SUPPKEY  L_LINENUMBER  L_QUANTITY  \\\n",
       "69           600065      20667       3170           NaN       27.00   \n",
       "70           600065      20667       3170           NaN       27.00   \n",
       "86           600071     158959       3990          2.00       37.00   \n",
       "87           600071     158959       3990          2.00       37.00   \n",
       "129          600128     149878       4907          2.00      -39.00   \n",
       "...             ...        ...        ...           ...         ...   \n",
       "1100952     4648677      48705       3714          7.00       37.00   \n",
       "1100996     4648737       8444       5945          3.00       10.00   \n",
       "1100997     4648737       8444       5945          3.00       10.00   \n",
       "1100993     4648737       9990       7491          1.00       43.00   \n",
       "1100994     4648737       9990       7491          1.00       43.00   \n",
       "\n",
       "         L_EXTENDEDPRICE  L_DISCOUNT  L_TAX L_RETURNFLAG L_LINESTATUS  \\\n",
       "69              42866.82        0.01   0.02            R            F   \n",
       "70              42866.82        0.01   0.02            R            F   \n",
       "86              74664.15        0.06   0.07            R            F   \n",
       "87              74664.15        0.06   0.07            R            F   \n",
       "129             75186.93        0.09   0.07            N            O   \n",
       "...                  ...         ...    ...          ...          ...   \n",
       "1100952         61186.90        0.08   0.05            A            F   \n",
       "1100996         13524.40        0.05   0.02            R            F   \n",
       "1100997         13524.40        0.05   0.02            R            F   \n",
       "1100993         81699.57        0.07   0.04            A          NaN   \n",
       "1100994         81699.57        0.07   0.04            A          NaN   \n",
       "\n",
       "         L_SHIPDATE L_COMMITDATE L_RECEIPTDATE     L_SHIPINSTRUCT L_SHIPMODE  \\\n",
       "69       1993-12-06   1993-10-24    1993-12-25  DELIVER IN PERSON      TRUCK   \n",
       "70       1993-12-06   1993-10-24    1993-12-25  DELIVER IN PERSON      TRUCK   \n",
       "86       1992-09-19   1992-08-29    1992-10-16   TAKE BACK RETURN      FOFOB   \n",
       "87       1992-09-19   1992-08-29    1992-10-16   TAKE BACK RETURN      FOFOB   \n",
       "129      1996-03-27   1996-02-03    1996-04-25  DELIVER IN PERSON       RAIL   \n",
       "...             ...          ...           ...                ...        ...   \n",
       "1100952  1992-09-18   1992-10-03    1992-09-24               NONE        FOB   \n",
       "1100996  1993-01-25   1993-01-11    1993-02-13   TAKE BACK RETURN        NaN   \n",
       "1100997  1993-01-25   1993-01-11    1993-02-13   TAKE BACK RETURN        NaN   \n",
       "1100993  1993-01-17   1993-01-23    1993-01-24   TAKE BACK RETURN      TRUCK   \n",
       "1100994  1993-01-17   1993-01-23    1993-01-24   TAKE BACK RETURN      TRUCK   \n",
       "\n",
       "         L_COMMENT  \n",
       "69             NaN  \n",
       "70             NaN  \n",
       "86             NaN  \n",
       "87             NaN  \n",
       "129            NaN  \n",
       "...            ...  \n",
       "1100952        NaN  \n",
       "1100996        NaN  \n",
       "1100997        NaN  \n",
       "1100993        NaN  \n",
       "1100994        NaN  \n",
       "\n",
       "[104856 rows x 16 columns]"
      ]
     },
     "execution_count": 14,
     "metadata": {},
     "output_type": "execute_result"
    }
   ],
   "source": [
    "# Show duplicate record\n",
    "lineitem_df[lineitem_df.duplicated(keep=False)].sort_values(lineitem_df.columns.tolist())"
   ]
  },
  {
   "cell_type": "code",
   "execution_count": 15,
   "id": "b0980c28",
   "metadata": {
    "collapsed": true,
    "jupyter": {
     "outputs_hidden": true
    }
   },
   "outputs": [],
   "source": [
    "# Remove duplicate records\n",
    "lineitem_df = lineitem_df.drop_duplicates()"
   ]
  },
  {
   "cell_type": "code",
   "execution_count": 16,
   "id": "e0170966",
   "metadata": {
    "collapsed": true,
    "jupyter": {
     "outputs_hidden": true
    }
   },
   "outputs": [],
   "source": [
    "# Drop records that contains nan\n",
    "lineitem_df = lineitem_df.dropna(subset=['L_LINENUMBER','L_QUANTITY','L_LINESTATUS','L_SHIPMODE'])\n",
    "\n",
    "# There are some other method to deal with na by filling the records with other value\n",
    "#lineitem_df['L_LINENUMBER'] = lineitem_df['L_LINENUMBER'].ffill()\n",
    "#lineitem_df['L_QUANTITY'] = lineitem_df['L_QUANTITY'].bfill()\n",
    "#lineitem_df['L_LINESTATUS'] = lineitem_df['L_LINESTATUS'].fillna(lineitem_df['L_LINESTATUS'].mode())\n",
    "#lineitem_df['L_SHIPMODE'] = lineitem_df['L_SHIPMODE'].fillna(lineitem_df['L_SHIPMODE'].mode())"
   ]
  },
  {
   "cell_type": "code",
   "execution_count": 17,
   "id": "da4ed8c8",
   "metadata": {
    "collapsed": true,
    "jupyter": {
     "outputs_hidden": true
    }
   },
   "outputs": [],
   "source": [
    "# Convert decimal to integer (cut decimal) and inverse negative\n",
    "lineitem_df['L_LINENUMBER'] = lineitem_df['L_LINENUMBER'].astype(int) \n",
    "lineitem_df['L_LINENUMBER'] = lineitem_df['L_LINENUMBER'].abs() # For more clarification ask business for clarification - abs, outlier, drop"
   ]
  },
  {
   "cell_type": "code",
   "execution_count": 18,
   "id": "9ef52fd1",
   "metadata": {
    "collapsed": true,
    "jupyter": {
     "outputs_hidden": true
    }
   },
   "outputs": [],
   "source": [
    "# LineNumber should not contain 0\n",
    "lineitem_df = lineitem_df[lineitem_df['L_LINENUMBER']!=0].copy()"
   ]
  },
  {
   "cell_type": "code",
   "execution_count": 19,
   "id": "1410a26d",
   "metadata": {
    "collapsed": true,
    "jupyter": {
     "outputs_hidden": true
    }
   },
   "outputs": [],
   "source": [
    "# Convert decimal to integer (cut decimal) and inverse negative\n",
    "lineitem_df['L_QUANTITY'] = lineitem_df['L_QUANTITY'].astype(int)\n",
    "lineitem_df['L_QUANTITY'] = lineitem_df['L_QUANTITY'].abs() # For more clarification ask business for clarification - abs, outlier, drop"
   ]
  },
  {
   "cell_type": "code",
   "execution_count": 20,
   "id": "6ad7ba79",
   "metadata": {
    "collapsed": true,
    "jupyter": {
     "outputs_hidden": true
    }
   },
   "outputs": [],
   "source": [
    "# Quantity should have value more than 0\n",
    "lineitem_df = lineitem_df[lineitem_df['L_QUANTITY']!=0].copy()"
   ]
  },
  {
   "cell_type": "code",
   "execution_count": 21,
   "id": "7382761e",
   "metadata": {},
   "outputs": [
    {
     "data": {
      "text/plain": [
       "L_LINESTATUS\n",
       "O     398144\n",
       "F     397370\n",
       "QF       238\n",
       "PO       228\n",
       "FO       225\n",
       "       ...  \n",
       "iF       175\n",
       "LO       174\n",
       "VO       174\n",
       "YF       170\n",
       "tF       167\n",
       "Name: count, Length: 106, dtype: int64"
      ]
     },
     "execution_count": 21,
     "metadata": {},
     "output_type": "execute_result"
    }
   ],
   "source": [
    "# Show number of record group by each value\n",
    "lineitem_df['L_LINESTATUS'].value_counts()"
   ]
  },
  {
   "cell_type": "code",
   "execution_count": 22,
   "id": "f5bbe8a8",
   "metadata": {},
   "outputs": [],
   "source": [
    "# Replace out-of-scope row with correct value for LINESTATUS column\n",
    "lineitem_df.loc[(lineitem_df['L_LINESTATUS'].str.contains('F')) & ~(lineitem_df['L_LINESTATUS'].str.contains('O')), 'L_LINESTATUS'] = 'F'\n",
    "lineitem_df.loc[(lineitem_df['L_LINESTATUS'].str.contains('O')) & ~(lineitem_df['L_LINESTATUS'].str.contains('F')), 'L_LINESTATUS'] = 'O'"
   ]
  },
  {
   "cell_type": "code",
   "execution_count": 23,
   "id": "cb9ef75d",
   "metadata": {},
   "outputs": [],
   "source": [
    "# Remove any leftover out-of-scope value for LINESTATUS column\n",
    "lineitem_df = lineitem_df[lineitem_df['L_LINESTATUS'].isin(['F','O'])]"
   ]
  },
  {
   "cell_type": "code",
   "execution_count": 24,
   "id": "f30519e9",
   "metadata": {},
   "outputs": [
    {
     "data": {
      "text/plain": [
       "L_SHIPMODE\n",
       "AIR         111416\n",
       "RAIL        111035\n",
       "TRUCK       110915\n",
       "SHIP        110593\n",
       "REG AIR     110549\n",
       "             ...  \n",
       "REG AIVR         3\n",
       "RvEG AIR         3\n",
       "REG nAIR         2\n",
       "RyEG AIR         2\n",
       "NREG AIR         2\n",
       "Name: count, Length: 1572, dtype: int64"
      ]
     },
     "execution_count": 24,
     "metadata": {},
     "output_type": "execute_result"
    }
   ],
   "source": [
    "# Show number of record group by each value\n",
    "lineitem_df['L_SHIPMODE'].value_counts()"
   ]
  },
  {
   "cell_type": "code",
   "execution_count": 25,
   "id": "e964e488",
   "metadata": {},
   "outputs": [],
   "source": [
    "# Remove out-of-scope row for LINESTATUS column\n",
    "lineitem_df = lineitem_df[lineitem_df['L_SHIPMODE'].isin(['TRUCK', 'AIR', 'MAIL', 'SHIP', 'RAIL', 'FOB', 'REG AIR'])]"
   ]
  },
  {
   "cell_type": "markdown",
   "id": "44631341",
   "metadata": {},
   "source": [
    "#### Business logic for Order table's field\n",
    "- Shouldn't be any duplicate row (reference by value in all column)\n",
    "- O_ORDERSTATUS should contain only \"F\", \"O\" and \"P\" status and not contain NaN value\n",
    "- O_ORDERDATE valid order year should in between 1992-1998 and should not contain NaN value\n",
    "- O_ORDERPRIORITY should not contain NaN value and only value list below allowed\n",
    "    \n",
    "    - 1-URGENT\n",
    "    - 2-HIGH\n",
    "    - 3-MEDIUM\n",
    "    - 4-LOW\n",
    "    - 5-NOT SPECIFIED \n"
   ]
  },
  {
   "cell_type": "markdown",
   "id": "f912a9db",
   "metadata": {},
   "source": [
    "#### Order"
   ]
  },
  {
   "cell_type": "code",
   "execution_count": 74,
   "id": "f4ad39dd",
   "metadata": {},
   "outputs": [],
   "source": [
    "order_df = pd.read_csv(f\"{data_dir}/ORDER.csv\")"
   ]
  },
  {
   "cell_type": "code",
   "execution_count": 75,
   "id": "fb94dd94",
   "metadata": {},
   "outputs": [
    {
     "data": {
      "text/html": [
       "<div>\n",
       "<style scoped>\n",
       "    .dataframe tbody tr th:only-of-type {\n",
       "        vertical-align: middle;\n",
       "    }\n",
       "\n",
       "    .dataframe tbody tr th {\n",
       "        vertical-align: top;\n",
       "    }\n",
       "\n",
       "    .dataframe thead th {\n",
       "        text-align: right;\n",
       "    }\n",
       "</style>\n",
       "<table border=\"1\" class=\"dataframe\">\n",
       "  <thead>\n",
       "    <tr style=\"text-align: right;\">\n",
       "      <th></th>\n",
       "      <th>O_ORDERKEY</th>\n",
       "      <th>O_CUSTKEY</th>\n",
       "      <th>O_ORDERSTATUS</th>\n",
       "      <th>O_TOTALPRICE</th>\n",
       "      <th>O_ORDERDATE</th>\n",
       "      <th>O_ORDERPRIORITY</th>\n",
       "      <th>O_CLERK</th>\n",
       "      <th>O_SHIPPRIORITY</th>\n",
       "      <th>O_COMMENT</th>\n",
       "    </tr>\n",
       "  </thead>\n",
       "  <tbody>\n",
       "    <tr>\n",
       "      <th>157599</th>\n",
       "      <td>1200069</td>\n",
       "      <td>127766</td>\n",
       "      <td>O</td>\n",
       "      <td>310546.13</td>\n",
       "      <td>1996-08-01</td>\n",
       "      <td>3-MEDIUM</td>\n",
       "      <td>Clerk#000000756</td>\n",
       "      <td>0</td>\n",
       "      <td>comment</td>\n",
       "    </tr>\n",
       "    <tr>\n",
       "      <th>157600</th>\n",
       "      <td>1200069</td>\n",
       "      <td>127766</td>\n",
       "      <td>O</td>\n",
       "      <td>310546.13</td>\n",
       "      <td>1996-08-01</td>\n",
       "      <td>3-MEDIUM</td>\n",
       "      <td>Clerk#000000756</td>\n",
       "      <td>0</td>\n",
       "      <td>comment</td>\n",
       "    </tr>\n",
       "    <tr>\n",
       "      <th>157616</th>\n",
       "      <td>1200133</td>\n",
       "      <td>69032</td>\n",
       "      <td>F</td>\n",
       "      <td>9702.25</td>\n",
       "      <td>1992-01-11</td>\n",
       "      <td>3-MEDIUM</td>\n",
       "      <td>Clerk#000000265</td>\n",
       "      <td>0</td>\n",
       "      <td>comment</td>\n",
       "    </tr>\n",
       "    <tr>\n",
       "      <th>157617</th>\n",
       "      <td>1200133</td>\n",
       "      <td>69032</td>\n",
       "      <td>F</td>\n",
       "      <td>9702.25</td>\n",
       "      <td>1992-01-11</td>\n",
       "      <td>3-MEDIUM</td>\n",
       "      <td>Clerk#000000265</td>\n",
       "      <td>0</td>\n",
       "      <td>comment</td>\n",
       "    </tr>\n",
       "    <tr>\n",
       "      <th>157618</th>\n",
       "      <td>1200134</td>\n",
       "      <td>113818</td>\n",
       "      <td>F</td>\n",
       "      <td>118312.16</td>\n",
       "      <td>1992-09-06</td>\n",
       "      <td>4-NOT SPECIFIED</td>\n",
       "      <td>Clerk#000000933</td>\n",
       "      <td>0</td>\n",
       "      <td>comment</td>\n",
       "    </tr>\n",
       "    <tr>\n",
       "      <th>...</th>\n",
       "      <td>...</td>\n",
       "      <td>...</td>\n",
       "      <td>...</td>\n",
       "      <td>...</td>\n",
       "      <td>...</td>\n",
       "      <td>...</td>\n",
       "      <td>...</td>\n",
       "      <td>...</td>\n",
       "      <td>...</td>\n",
       "    </tr>\n",
       "    <tr>\n",
       "      <th>787382</th>\n",
       "      <td>5999936</td>\n",
       "      <td>60281</td>\n",
       "      <td>F</td>\n",
       "      <td>3696.95</td>\n",
       "      <td>1992-09-28</td>\n",
       "      <td>5-LOW</td>\n",
       "      <td>Clerk#000000999</td>\n",
       "      <td>0</td>\n",
       "      <td>comment</td>\n",
       "    </tr>\n",
       "    <tr>\n",
       "      <th>787384</th>\n",
       "      <td>5999938</td>\n",
       "      <td>42247</td>\n",
       "      <td>O</td>\n",
       "      <td>232300.89</td>\n",
       "      <td>1997-01-27</td>\n",
       "      <td>3-MEDIUM</td>\n",
       "      <td>Clerk#000000100</td>\n",
       "      <td>0</td>\n",
       "      <td>comment</td>\n",
       "    </tr>\n",
       "    <tr>\n",
       "      <th>787385</th>\n",
       "      <td>5999938</td>\n",
       "      <td>42247</td>\n",
       "      <td>O</td>\n",
       "      <td>232300.89</td>\n",
       "      <td>1997-01-27</td>\n",
       "      <td>3-MEDIUM</td>\n",
       "      <td>Clerk#000000100</td>\n",
       "      <td>0</td>\n",
       "      <td>comment</td>\n",
       "    </tr>\n",
       "    <tr>\n",
       "      <th>787388</th>\n",
       "      <td>5999941</td>\n",
       "      <td>32512</td>\n",
       "      <td>NaN</td>\n",
       "      <td>102961.29</td>\n",
       "      <td>1998-03-26</td>\n",
       "      <td>5-LOW</td>\n",
       "      <td>Clerk#000000927</td>\n",
       "      <td>0</td>\n",
       "      <td>comment</td>\n",
       "    </tr>\n",
       "    <tr>\n",
       "      <th>787389</th>\n",
       "      <td>5999941</td>\n",
       "      <td>32512</td>\n",
       "      <td>NaN</td>\n",
       "      <td>102961.29</td>\n",
       "      <td>1998-03-26</td>\n",
       "      <td>5-LOW</td>\n",
       "      <td>Clerk#000000927</td>\n",
       "      <td>0</td>\n",
       "      <td>comment</td>\n",
       "    </tr>\n",
       "  </tbody>\n",
       "</table>\n",
       "<p>104856 rows × 9 columns</p>\n",
       "</div>"
      ],
      "text/plain": [
       "        O_ORDERKEY  O_CUSTKEY O_ORDERSTATUS  O_TOTALPRICE O_ORDERDATE  \\\n",
       "157599     1200069     127766             O     310546.13  1996-08-01   \n",
       "157600     1200069     127766             O     310546.13  1996-08-01   \n",
       "157616     1200133      69032             F       9702.25  1992-01-11   \n",
       "157617     1200133      69032             F       9702.25  1992-01-11   \n",
       "157618     1200134     113818             F     118312.16  1992-09-06   \n",
       "...            ...        ...           ...           ...         ...   \n",
       "787382     5999936      60281             F       3696.95  1992-09-28   \n",
       "787384     5999938      42247             O     232300.89  1997-01-27   \n",
       "787385     5999938      42247             O     232300.89  1997-01-27   \n",
       "787388     5999941      32512           NaN     102961.29  1998-03-26   \n",
       "787389     5999941      32512           NaN     102961.29  1998-03-26   \n",
       "\n",
       "        O_ORDERPRIORITY          O_CLERK  O_SHIPPRIORITY O_COMMENT  \n",
       "157599         3-MEDIUM  Clerk#000000756               0   comment  \n",
       "157600         3-MEDIUM  Clerk#000000756               0   comment  \n",
       "157616         3-MEDIUM  Clerk#000000265               0   comment  \n",
       "157617         3-MEDIUM  Clerk#000000265               0   comment  \n",
       "157618  4-NOT SPECIFIED  Clerk#000000933               0   comment  \n",
       "...                 ...              ...             ...       ...  \n",
       "787382            5-LOW  Clerk#000000999               0   comment  \n",
       "787384         3-MEDIUM  Clerk#000000100               0   comment  \n",
       "787385         3-MEDIUM  Clerk#000000100               0   comment  \n",
       "787388            5-LOW  Clerk#000000927               0   comment  \n",
       "787389            5-LOW  Clerk#000000927               0   comment  \n",
       "\n",
       "[104856 rows x 9 columns]"
      ]
     },
     "execution_count": 75,
     "metadata": {},
     "output_type": "execute_result"
    }
   ],
   "source": [
    "# Show duplicate records\n",
    "order_df[order_df.duplicated(keep=False)].sort_values(order_df.columns.tolist())"
   ]
  },
  {
   "cell_type": "code",
   "execution_count": 76,
   "id": "7e05ae95",
   "metadata": {
    "collapsed": true
   },
   "outputs": [],
   "source": [
    "# Remove duplicate records\n",
    "order_df = order_df.drop_duplicates()"
   ]
  },
  {
   "cell_type": "code",
   "execution_count": 77,
   "id": "e39c6363",
   "metadata": {},
   "outputs": [
    {
     "data": {
      "text/html": [
       "<div>\n",
       "<style scoped>\n",
       "    .dataframe tbody tr th:only-of-type {\n",
       "        vertical-align: middle;\n",
       "    }\n",
       "\n",
       "    .dataframe tbody tr th {\n",
       "        vertical-align: top;\n",
       "    }\n",
       "\n",
       "    .dataframe thead th {\n",
       "        text-align: right;\n",
       "    }\n",
       "</style>\n",
       "<table border=\"1\" class=\"dataframe\">\n",
       "  <thead>\n",
       "    <tr style=\"text-align: right;\">\n",
       "      <th></th>\n",
       "      <th>O_ORDERKEY</th>\n",
       "      <th>O_CUSTKEY</th>\n",
       "      <th>O_ORDERSTATUS</th>\n",
       "      <th>O_TOTALPRICE</th>\n",
       "      <th>O_ORDERDATE</th>\n",
       "      <th>O_ORDERPRIORITY</th>\n",
       "      <th>O_CLERK</th>\n",
       "      <th>O_SHIPPRIORITY</th>\n",
       "      <th>O_COMMENT</th>\n",
       "    </tr>\n",
       "  </thead>\n",
       "  <tbody>\n",
       "    <tr>\n",
       "      <th>0</th>\n",
       "      <td>4200001</td>\n",
       "      <td>13726</td>\n",
       "      <td>F</td>\n",
       "      <td>99406.41</td>\n",
       "      <td>1994-02-21</td>\n",
       "      <td>NaN</td>\n",
       "      <td>Clerk#000000128</td>\n",
       "      <td>0</td>\n",
       "      <td>comment</td>\n",
       "    </tr>\n",
       "    <tr>\n",
       "      <th>1</th>\n",
       "      <td>4200002</td>\n",
       "      <td>129376</td>\n",
       "      <td>O</td>\n",
       "      <td>256838.41</td>\n",
       "      <td>1997-04-14</td>\n",
       "      <td>4-NOT SPECIFIED</td>\n",
       "      <td>Clerk#000000281</td>\n",
       "      <td>0</td>\n",
       "      <td>comment</td>\n",
       "    </tr>\n",
       "    <tr>\n",
       "      <th>2</th>\n",
       "      <td>4200003</td>\n",
       "      <td>141613</td>\n",
       "      <td>O</td>\n",
       "      <td>150849.49</td>\n",
       "      <td>1997-11-24</td>\n",
       "      <td>4-NOT SPECIFIED</td>\n",
       "      <td>Clerk#000000585</td>\n",
       "      <td>0</td>\n",
       "      <td>comment</td>\n",
       "    </tr>\n",
       "    <tr>\n",
       "      <th>3</th>\n",
       "      <td>4200004</td>\n",
       "      <td>23515</td>\n",
       "      <td>O</td>\n",
       "      <td>178688.27</td>\n",
       "      <td>1996-12-09</td>\n",
       "      <td>NaN</td>\n",
       "      <td>Clerk#000000632</td>\n",
       "      <td>0</td>\n",
       "      <td>comment</td>\n",
       "    </tr>\n",
       "    <tr>\n",
       "      <th>4</th>\n",
       "      <td>4200005</td>\n",
       "      <td>97687</td>\n",
       "      <td>O</td>\n",
       "      <td>261742.31</td>\n",
       "      <td>NaN</td>\n",
       "      <td>2-HIGH</td>\n",
       "      <td>Clerk#000000562</td>\n",
       "      <td>0</td>\n",
       "      <td>comment</td>\n",
       "    </tr>\n",
       "    <tr>\n",
       "      <th>...</th>\n",
       "      <td>...</td>\n",
       "      <td>...</td>\n",
       "      <td>...</td>\n",
       "      <td>...</td>\n",
       "      <td>...</td>\n",
       "      <td>...</td>\n",
       "      <td>...</td>\n",
       "      <td>...</td>\n",
       "      <td>...</td>\n",
       "    </tr>\n",
       "    <tr>\n",
       "      <th>1100998</th>\n",
       "      <td>2394275</td>\n",
       "      <td>109685</td>\n",
       "      <td>O</td>\n",
       "      <td>265359.33</td>\n",
       "      <td>1997-03-21</td>\n",
       "      <td>4-NOTM SPECIFIED</td>\n",
       "      <td>Clerk#000000700</td>\n",
       "      <td>0</td>\n",
       "      <td>comment</td>\n",
       "    </tr>\n",
       "    <tr>\n",
       "      <th>1100999</th>\n",
       "      <td>2394276</td>\n",
       "      <td>114304</td>\n",
       "      <td>F</td>\n",
       "      <td>236761.91</td>\n",
       "      <td>1957-08-09</td>\n",
       "      <td>2-HIGH</td>\n",
       "      <td>Clerk#000000992</td>\n",
       "      <td>0</td>\n",
       "      <td>comment</td>\n",
       "    </tr>\n",
       "    <tr>\n",
       "      <th>1101000</th>\n",
       "      <td>2394277</td>\n",
       "      <td>33689</td>\n",
       "      <td>F</td>\n",
       "      <td>264339.36</td>\n",
       "      <td>1994-06-08</td>\n",
       "      <td>2-HIGH</td>\n",
       "      <td>Clerk#000000439</td>\n",
       "      <td>0</td>\n",
       "      <td>comment</td>\n",
       "    </tr>\n",
       "    <tr>\n",
       "      <th>1101001</th>\n",
       "      <td>2394278</td>\n",
       "      <td>110135</td>\n",
       "      <td>F</td>\n",
       "      <td>105510.85</td>\n",
       "      <td>1992-02-28</td>\n",
       "      <td>5-LOW</td>\n",
       "      <td>Clerk#000000446</td>\n",
       "      <td>0</td>\n",
       "      <td>comment</td>\n",
       "    </tr>\n",
       "    <tr>\n",
       "      <th>1101002</th>\n",
       "      <td>2394279</td>\n",
       "      <td>36157</td>\n",
       "      <td>F</td>\n",
       "      <td>93420.28</td>\n",
       "      <td>1992-02-26</td>\n",
       "      <td>5-LOW</td>\n",
       "      <td>Clerk#000000074</td>\n",
       "      <td>0</td>\n",
       "      <td>comment</td>\n",
       "    </tr>\n",
       "  </tbody>\n",
       "</table>\n",
       "<p>1048575 rows × 9 columns</p>\n",
       "</div>"
      ],
      "text/plain": [
       "         O_ORDERKEY  O_CUSTKEY O_ORDERSTATUS  O_TOTALPRICE O_ORDERDATE  \\\n",
       "0           4200001      13726             F      99406.41  1994-02-21   \n",
       "1           4200002     129376             O     256838.41  1997-04-14   \n",
       "2           4200003     141613             O     150849.49  1997-11-24   \n",
       "3           4200004      23515             O     178688.27  1996-12-09   \n",
       "4           4200005      97687             O     261742.31         NaN   \n",
       "...             ...        ...           ...           ...         ...   \n",
       "1100998     2394275     109685             O     265359.33  1997-03-21   \n",
       "1100999     2394276     114304             F     236761.91  1957-08-09   \n",
       "1101000     2394277      33689             F     264339.36  1994-06-08   \n",
       "1101001     2394278     110135             F     105510.85  1992-02-28   \n",
       "1101002     2394279      36157             F      93420.28  1992-02-26   \n",
       "\n",
       "          O_ORDERPRIORITY          O_CLERK  O_SHIPPRIORITY O_COMMENT  \n",
       "0                     NaN  Clerk#000000128               0   comment  \n",
       "1         4-NOT SPECIFIED  Clerk#000000281               0   comment  \n",
       "2         4-NOT SPECIFIED  Clerk#000000585               0   comment  \n",
       "3                     NaN  Clerk#000000632               0   comment  \n",
       "4                  2-HIGH  Clerk#000000562               0   comment  \n",
       "...                   ...              ...             ...       ...  \n",
       "1100998  4-NOTM SPECIFIED  Clerk#000000700               0   comment  \n",
       "1100999            2-HIGH  Clerk#000000992               0   comment  \n",
       "1101000            2-HIGH  Clerk#000000439               0   comment  \n",
       "1101001             5-LOW  Clerk#000000446               0   comment  \n",
       "1101002             5-LOW  Clerk#000000074               0   comment  \n",
       "\n",
       "[1048575 rows x 9 columns]"
      ]
     },
     "execution_count": 77,
     "metadata": {},
     "output_type": "execute_result"
    }
   ],
   "source": [
    "order_df"
   ]
  },
  {
   "cell_type": "code",
   "execution_count": 78,
   "id": "2aa05597",
   "metadata": {},
   "outputs": [],
   "source": [
    "order_df_col = order_df.columns"
   ]
  },
  {
   "cell_type": "code",
   "execution_count": 79,
   "id": "ee95d84a",
   "metadata": {},
   "outputs": [],
   "source": [
    "# Drop nan records\n",
    "order_df = order_df.dropna(subset=['O_ORDERSTATUS','O_ORDERDATE','O_ORDERPRIORITY'])"
   ]
  },
  {
   "cell_type": "code",
   "execution_count": 80,
   "id": "7ea10d39",
   "metadata": {
    "scrolled": true
   },
   "outputs": [
    {
     "data": {
      "text/plain": [
       "O_ORDERPRIORITY\n",
       "4-NOT SPECIFIED     169838\n",
       "5-LOW               169728\n",
       "1-URGENT            169668\n",
       "2-HIGH              169529\n",
       "3-MEDIUM            169026\n",
       "                     ...  \n",
       "4-NOT TSPECIFIED         1\n",
       "4-NObT SPECIFIED         1\n",
       "4-NOT SBPECIFIED         1\n",
       "4Z-NOT SPECIFIED         1\n",
       "4-NOGT SPECIFIED         1\n",
       "Name: count, Length: 2199, dtype: int64"
      ]
     },
     "execution_count": 80,
     "metadata": {},
     "output_type": "execute_result"
    }
   ],
   "source": [
    "# Show number of record group by each value\n",
    "order_df['O_ORDERPRIORITY'].value_counts()"
   ]
  },
  {
   "cell_type": "code",
   "execution_count": 87,
   "id": "9c553476",
   "metadata": {},
   "outputs": [
    {
     "data": {
      "text/plain": [
       "Series([], Name: count, dtype: int64)"
      ]
     },
     "execution_count": 87,
     "metadata": {},
     "output_type": "execute_result"
    }
   ],
   "source": [
    "order_df.loc[~(order_df['O_ORDERPRIORITY'].isin(['1-URGENT', '2-HIGH', '3-MEDIUM', '4-LOW', '5-NOT SPECIFIED']))]['O_ORDERPRIORITY'].value_counts()"
   ]
  },
  {
   "cell_type": "code",
   "execution_count": 86,
   "id": "02f1d85e",
   "metadata": {
    "collapsed": true,
    "jupyter": {
     "outputs_hidden": true
    }
   },
   "outputs": [],
   "source": [
    "# Fix records with typo\n",
    "# Final value: 1-URGENT, 2-HIGH, 3-MEDIUM, 4-LOW, 5-NOT SPECIFIED\n",
    "# Replace out-of-scope row with correct value for LINESTATUS column\n",
    "order_df.loc[(order_df['O_ORDERPRIORITY'].str.contains('1')), 'O_ORDERPRIORITY'] = '1-URGENT'\n",
    "order_df.loc[(order_df['O_ORDERPRIORITY'].str.contains('2')), 'O_ORDERPRIORITY'] = '2-HIGH'\n",
    "order_df.loc[(order_df['O_ORDERPRIORITY'].str.contains('3')), 'O_ORDERPRIORITY'] = '3-MEDIUM'\n",
    "order_df.loc[(order_df['O_ORDERPRIORITY'].str.contains('4')), 'O_ORDERPRIORITY'] = '5-NOT SPECIFIED'\n",
    "order_df.loc[(order_df['O_ORDERPRIORITY'].str.contains('5')), 'O_ORDERPRIORITY'] = '4-LOW'\n",
    "\n",
    "order_df.loc[(order_df['O_ORDERPRIORITY'].str.contains('-LOW')), 'O_ORDERPRIORITY'] = '1-URGENT'\n",
    "order_df.loc[(order_df['O_ORDERPRIORITY'].str.contains('-HIGH')), 'O_ORDERPRIORITY'] = '2-HIGH'\n",
    "order_df.loc[(order_df['O_ORDERPRIORITY'].str.contains('-URGENT')), 'O_ORDERPRIORITY'] = '3-MEDIUM'\n",
    "order_df.loc[(order_df['O_ORDERPRIORITY'].str.contains('-MEDIUM')), 'O_ORDERPRIORITY'] = '5-NOT SPECIFIED'\n",
    "order_df.loc[(order_df['O_ORDERPRIORITY'].str.contains('-NOT SPECIFIED')), 'O_ORDERPRIORITY'] = '4-LOW'"
   ]
  },
  {
   "cell_type": "code",
   "execution_count": 88,
   "id": "f9f7e121",
   "metadata": {
    "collapsed": true,
    "jupyter": {
     "outputs_hidden": true
    }
   },
   "outputs": [],
   "source": [
    "# Remove any leftover records with typo\n",
    "########################################################################################\n",
    "order_df = order_df[order_df['O_ORDERPRIORITY'].isin(['1-URGENT', '2-HIGH', '3-MEDIUM', '4-LOW', '5-NOT SPECIFIED'])]\n"
   ]
  },
  {
   "cell_type": "code",
   "execution_count": 90,
   "id": "c5698532",
   "metadata": {},
   "outputs": [
    {
     "data": {
      "text/plain": [
       "O_ORDERSTATUS\n",
       "O     424904\n",
       "F     422701\n",
       "P      22269\n",
       "cF       255\n",
       "fO       247\n",
       "       ...  \n",
       "UP         7\n",
       "zP         6\n",
       "gP         6\n",
       "sP         5\n",
       "YP         5\n",
       "Name: count, Length: 159, dtype: int64"
      ]
     },
     "execution_count": 90,
     "metadata": {},
     "output_type": "execute_result"
    }
   ],
   "source": [
    "# Show number of record group by each value\n",
    "order_df['O_ORDERSTATUS'].value_counts()"
   ]
  },
  {
   "cell_type": "code",
   "execution_count": 91,
   "id": "21597f43",
   "metadata": {
    "collapsed": true,
    "jupyter": {
     "outputs_hidden": true
    },
    "scrolled": true
   },
   "outputs": [],
   "source": [
    "# Fix records with typo\n",
    "# Final value: F, O, P\n",
    "order_df.loc[(order_df['O_ORDERSTATUS'].str.contains('F')) & ~(order_df['O_ORDERSTATUS'].str.contains('O|P')), 'O_ORDERSTATUS'] = 'F'\n",
    "order_df.loc[(order_df['O_ORDERSTATUS'].str.contains('O')) & ~(order_df['O_ORDERSTATUS'].str.contains('F|P')), 'O_ORDERSTATUS'] = 'O'\n",
    "order_df.loc[(order_df['O_ORDERSTATUS'].str.contains('P')) & ~(order_df['O_ORDERSTATUS'].str.contains('F|O')), 'O_ORDERSTATUS'] = 'P'"
   ]
  },
  {
   "cell_type": "code",
   "execution_count": 92,
   "id": "b548b0fe",
   "metadata": {
    "collapsed": true,
    "jupyter": {
     "outputs_hidden": true
    }
   },
   "outputs": [],
   "source": [
    "# Remove any leftover records with typo\n",
    "order_df = order_df[order_df['O_ORDERSTATUS'].isin(['F','O','P'])]"
   ]
  },
  {
   "cell_type": "code",
   "execution_count": 93,
   "id": "69d9cd5e",
   "metadata": {
    "collapsed": true
   },
   "outputs": [],
   "source": [
    "# Extract day, month and year from ORDERDATE (datetime format)\n",
    "order_df['O_ORDERDATE'] = pd.to_datetime(order_df['O_ORDERDATE'])\n",
    "\n",
    "order_df['O_ORDERYEAR'] = order_df['O_ORDERDATE'].dt.year\n",
    "order_df['O_ORDERDAY'] = order_df['O_ORDERDATE'].dt.day\n",
    "order_df['O_ORDERMONTH'] = order_df['O_ORDERDATE'].dt.month"
   ]
  },
  {
   "cell_type": "code",
   "execution_count": 94,
   "id": "70c965d5",
   "metadata": {},
   "outputs": [
    {
     "data": {
      "text/plain": [
       "O_ORDERYEAR\n",
       "1996    129416\n",
       "1997    129021\n",
       "1995    128975\n",
       "1993    128594\n",
       "1994    128215\n",
       "         ...  \n",
       "2047       251\n",
       "2022       184\n",
       "1942       154\n",
       "1968        92\n",
       "2048        82\n",
       "Name: count, Length: 61, dtype: int64"
      ]
     },
     "execution_count": 94,
     "metadata": {},
     "output_type": "execute_result"
    }
   ],
   "source": [
    "# Show number of record group by year\n",
    "order_df['O_ORDERYEAR'].value_counts()"
   ]
  },
  {
   "cell_type": "code",
   "execution_count": 95,
   "id": "7e94414c",
   "metadata": {},
   "outputs": [],
   "source": [
    "# Remove invalid order year\n",
    "order_df = order_df[order_df['O_ORDERYEAR'].between(1992, 1998)]\n",
    "\n",
    "#order_df = order_df[order_df['O_ORDERYEAR'].ge(1992) & order_df['O_ORDERYEAR'].le(1998)]\n",
    "#order_df = order_df[(order_df['O_ORDERYEAR'] >= 1992) & (order_df['O_ORDERYEAR'] <= 1998)]"
   ]
  },
  {
   "cell_type": "markdown",
   "id": "4ee24779",
   "metadata": {},
   "source": [
    "## Data Validation"
   ]
  },
  {
   "cell_type": "markdown",
   "id": "0adbe88a",
   "metadata": {},
   "source": [
    "#### LineItem"
   ]
  },
  {
   "cell_type": "code",
   "execution_count": 96,
   "id": "3d86fc3d",
   "metadata": {},
   "outputs": [
    {
     "name": "stdout",
     "output_type": "stream",
     "text": [
      "<class 'pandas.core.frame.DataFrame'>\n",
      "Index: 775160 entries, 0 to 1101001\n",
      "Data columns (total 16 columns):\n",
      " #   Column           Non-Null Count   Dtype  \n",
      "---  ------           --------------   -----  \n",
      " 0   L_ORDERKEY       775160 non-null  int64  \n",
      " 1   L_PARTKEY        775160 non-null  int64  \n",
      " 2   L_SUPPKEY        775160 non-null  int64  \n",
      " 3   L_LINENUMBER     775160 non-null  int64  \n",
      " 4   L_QUANTITY       775160 non-null  int64  \n",
      " 5   L_EXTENDEDPRICE  775160 non-null  float64\n",
      " 6   L_DISCOUNT       775160 non-null  float64\n",
      " 7   L_TAX            775160 non-null  float64\n",
      " 8   L_RETURNFLAG     775160 non-null  object \n",
      " 9   L_LINESTATUS     775160 non-null  object \n",
      " 10  L_SHIPDATE       775160 non-null  object \n",
      " 11  L_COMMITDATE     775160 non-null  object \n",
      " 12  L_RECEIPTDATE    775160 non-null  object \n",
      " 13  L_SHIPINSTRUCT   775160 non-null  object \n",
      " 14  L_SHIPMODE       775160 non-null  object \n",
      " 15  L_COMMENT        0 non-null       float64\n",
      "dtypes: float64(4), int64(5), object(7)\n",
      "memory usage: 100.5+ MB\n"
     ]
    }
   ],
   "source": [
    " # Show dataframe information\n",
    "lineitem_df.info()"
   ]
  },
  {
   "cell_type": "code",
   "execution_count": 97,
   "id": "386bef95",
   "metadata": {},
   "outputs": [
    {
     "name": "stdout",
     "output_type": "stream",
     "text": [
      "LineItem dataset contain 0 duplicate rows\n"
     ]
    }
   ],
   "source": [
    "# Check duplicate row\n",
    "lineitem_duplicate_check = lineitem_df.duplicated().sum()\n",
    "\n",
    "print(\"LineItem dataset contain \" + str(lineitem_duplicate_check) + \" duplicate rows\")"
   ]
  },
  {
   "cell_type": "code",
   "execution_count": 98,
   "id": "7d59bcd1",
   "metadata": {},
   "outputs": [
    {
     "name": "stdout",
     "output_type": "stream",
     "text": [
      "L_QUANTITY have 0 NaN row\n",
      "L_LINENUMBER have 0 NaN row\n",
      "L_LINESTATUS have 0 NaN row\n",
      "L_SHIPMODE have 0 NaN row\n"
     ]
    }
   ],
   "source": [
    "# Check NaN value in specific column\n",
    "quantity_nan_check = lineitem_df['L_QUANTITY'].isnull().sum()\n",
    "linenumber_nan_check = lineitem_df['L_LINENUMBER'].isnull().sum()\n",
    "linestatus_nan_check = lineitem_df['L_LINESTATUS'].isnull().sum()\n",
    "shipmode_nan_check = lineitem_df['L_SHIPMODE'].isnull().sum()\n",
    "\n",
    "print(\"L_QUANTITY have \" + str(quantity_nan_check) + \" NaN row\")\n",
    "print(\"L_LINENUMBER have \" + str(linenumber_nan_check) + \" NaN row\")\n",
    "print(\"L_LINESTATUS have \" + str(linestatus_nan_check) + \" NaN row\")\n",
    "print(\"L_SHIPMODE have \" + str(shipmode_nan_check) + \" NaN row\")"
   ]
  },
  {
   "cell_type": "code",
   "execution_count": 99,
   "id": "73190eb1",
   "metadata": {},
   "outputs": [
    {
     "name": "stdout",
     "output_type": "stream",
     "text": [
      "L_QUANTITY contain 0 rows zero or negative value\n",
      "L_LINENUMBER contain 0 rows zero or negative value\n"
     ]
    }
   ],
   "source": [
    "# Check 0 or negative value in specific column\n",
    "quantity_negativeorzero_check = len(lineitem_df[lineitem_df['L_QUANTITY']<=0])\n",
    "linenumber_negativeorzero_check = len(lineitem_df[lineitem_df['L_LINENUMBER']<=0])\n",
    "\n",
    "print(\"L_QUANTITY contain \" + str(quantity_negativeorzero_check) + \" rows zero or negative value\")\n",
    "print(\"L_LINENUMBER contain \" + str(linenumber_negativeorzero_check) + \" rows zero or negative value\")"
   ]
  },
  {
   "cell_type": "code",
   "execution_count": 104,
   "id": "d3229dee",
   "metadata": {},
   "outputs": [
    {
     "name": "stdout",
     "output_type": "stream",
     "text": [
      "L_LINESTATUS contain 0 rows out-of-scope value\n",
      "L_SHIPMODE contain 0 rows out-of-scope value\n"
     ]
    }
   ],
   "source": [
    "# Check out-of-scope value in specific\n",
    "linestatus_outofscope_check = len(lineitem_df[~lineitem_df['L_LINESTATUS'].isin(['F', 'O'])])\n",
    "shipmode_outofscope_check = len(lineitem_df[~lineitem_df['L_SHIPMODE'].isin(['TRUCK', 'AIR', 'MAIL', 'SHIP', 'RAIL', 'FOB', 'REG AIR'])])\n",
    "\n",
    "print(\"L_LINESTATUS contain \" + str(linestatus_outofscope_check) + \" rows out-of-scope value\")\n",
    "print(\"L_SHIPMODE contain \" + str(shipmode_outofscope_check) + \" rows out-of-scope value\")"
   ]
  },
  {
   "cell_type": "markdown",
   "id": "e7d9121f",
   "metadata": {},
   "source": [
    "#### Order"
   ]
  },
  {
   "cell_type": "code",
   "execution_count": 105,
   "id": "fd968aa9",
   "metadata": {},
   "outputs": [
    {
     "name": "stdout",
     "output_type": "stream",
     "text": [
      "<class 'pandas.core.frame.DataFrame'>\n",
      "Index: 847307 entries, 1 to 1101002\n",
      "Data columns (total 12 columns):\n",
      " #   Column           Non-Null Count   Dtype         \n",
      "---  ------           --------------   -----         \n",
      " 0   O_ORDERKEY       847307 non-null  int64         \n",
      " 1   O_CUSTKEY        847307 non-null  int64         \n",
      " 2   O_ORDERSTATUS    847307 non-null  object        \n",
      " 3   O_TOTALPRICE     847307 non-null  float64       \n",
      " 4   O_ORDERDATE      847307 non-null  datetime64[ns]\n",
      " 5   O_ORDERPRIORITY  847307 non-null  object        \n",
      " 6   O_CLERK          847307 non-null  object        \n",
      " 7   O_SHIPPRIORITY   847307 non-null  int64         \n",
      " 8   O_COMMENT        847307 non-null  object        \n",
      " 9   O_ORDERYEAR      847307 non-null  int32         \n",
      " 10  O_ORDERDAY       847307 non-null  int32         \n",
      " 11  O_ORDERMONTH     847307 non-null  int32         \n",
      "dtypes: datetime64[ns](1), float64(1), int32(3), int64(3), object(4)\n",
      "memory usage: 74.3+ MB\n"
     ]
    }
   ],
   "source": [
    "# Show dataframe information\n",
    "order_df.info()"
   ]
  },
  {
   "cell_type": "code",
   "execution_count": 106,
   "id": "ed7b572e",
   "metadata": {},
   "outputs": [
    {
     "name": "stdout",
     "output_type": "stream",
     "text": [
      "LineItem dataset contain 0 duplicate rows\n"
     ]
    }
   ],
   "source": [
    "# Check duplicate row\n",
    "order_duplicate_check = order_df.duplicated().sum()\n",
    "\n",
    "print(f\"LineItem dataset contain {str(order_duplicate_check)} duplicate rows\")"
   ]
  },
  {
   "cell_type": "code",
   "execution_count": 107,
   "id": "121f262a",
   "metadata": {},
   "outputs": [
    {
     "name": "stdout",
     "output_type": "stream",
     "text": [
      "O_ORDERSTATUS have 0 NaN row\n",
      "O_ORDERDATE have 0 NaN row\n",
      "O_ORDERPRIORITY have 0 NaN row\n"
     ]
    }
   ],
   "source": [
    "# Check NaN value in specific column\n",
    "orderstatus_nan_check = order_df['O_ORDERSTATUS'].isnull().sum()\n",
    "orderdate_nan_check = order_df['O_ORDERDATE'].isnull().sum()\n",
    "orderpriority_nan_check = order_df['O_ORDERPRIORITY'].isnull().sum()\n",
    "\n",
    "print(\"O_ORDERSTATUS have \" + str(orderstatus_nan_check) + \" NaN row\")\n",
    "print(\"O_ORDERDATE have \" + str(orderdate_nan_check) + \" NaN row\")\n",
    "print(\"O_ORDERPRIORITY have \" + str(orderpriority_nan_check) + \" NaN row\")"
   ]
  },
  {
   "cell_type": "code",
   "execution_count": 108,
   "id": "a3676d66",
   "metadata": {},
   "outputs": [
    {
     "name": "stdout",
     "output_type": "stream",
     "text": [
      "O_ORDERSTATUS contain 0 rows out-of-scope value\n",
      "O_ORDERPRIORITY contain 0 rows out-of-scope value\n"
     ]
    }
   ],
   "source": [
    "# Check out-of-scope value in specific column\n",
    "orderstatus_outofscope_check = len(order_df[~order_df['O_ORDERSTATUS'].isin(['F', 'O', 'P'])])\n",
    "orderpriotity_outofscope_check = len(order_df[~order_df['O_ORDERPRIORITY'].isin(['1-URGENT', '2-HIGH', '3-MEDIUM', '4-LOW', '5-NOT SPECIFIED'])])\n",
    "\n",
    "print(\"O_ORDERSTATUS contain \" + str(orderstatus_outofscope_check) + \" rows out-of-scope value\")\n",
    "print(\"O_ORDERPRIORITY contain \" + str(orderpriotity_outofscope_check) + \" rows out-of-scope value\")"
   ]
  },
  {
   "cell_type": "code",
   "execution_count": 109,
   "id": "3dedb462",
   "metadata": {},
   "outputs": [
    {
     "name": "stdout",
     "output_type": "stream",
     "text": [
      "O_ORDERDATE contain 0 invalid year (not in 1992-1998)\n"
     ]
    }
   ],
   "source": [
    "# Check valid year for date column\n",
    "orderdate_valid_year_check = len(order_df[~order_df['O_ORDERYEAR'].between(1992,1998)])\n",
    "\n",
    "print(\"O_ORDERDATE contain \" + str(orderdate_valid_year_check) + \" invalid year (not in 1992-1998)\")"
   ]
  },
  {
   "cell_type": "markdown",
   "id": "93115e78",
   "metadata": {},
   "source": [
    "## Data Manipulation"
   ]
  },
  {
   "cell_type": "markdown",
   "id": "41134dcb",
   "metadata": {},
   "source": [
    "### Denomalization"
   ]
  },
  {
   "cell_type": "markdown",
   "id": "d459c7b2",
   "metadata": {},
   "source": [
    "<img src=\"images/data_manipulation_denormalization.png\">"
   ]
  },
  {
   "cell_type": "markdown",
   "id": "23e2e3cf",
   "metadata": {},
   "source": [
    "- Order < Customer < Nation < Region\n",
    "- Supplier < Nation < Region\n",
    "- LineItem\n",
    "- PartSupp\n",
    "- Part"
   ]
  },
  {
   "cell_type": "markdown",
   "id": "73aa6178",
   "metadata": {},
   "source": [
    "### Join Data"
   ]
  },
  {
   "cell_type": "markdown",
   "id": "c034e7fd",
   "metadata": {},
   "source": [
    "#### Join Nation with Region"
   ]
  },
  {
   "cell_type": "code",
   "execution_count": 110,
   "id": "6a46c5be",
   "metadata": {
    "collapsed": true,
    "jupyter": {
     "outputs_hidden": true
    }
   },
   "outputs": [],
   "source": [
    "NR = pd.merge(left=nation_df,\n",
    "               right=region_df,\n",
    "               left_on='N_REGIONKEY',\n",
    "               right_on='R_REGIONKEY',\n",
    "               how='left')\n",
    "\n",
    "NR = NR[['N_NATIONKEY','N_NAME','R_NAME']]\n",
    "NR = NR.rename(columns={\"N_NAME\": \"N_NATION\", \n",
    "                          \"R_NAME\": \"N_REGION\"})"
   ]
  },
  {
   "cell_type": "code",
   "execution_count": 111,
   "id": "d3318e2a",
   "metadata": {},
   "outputs": [
    {
     "name": "stdout",
     "output_type": "stream",
     "text": [
      "<class 'pandas.core.frame.DataFrame'>\n",
      "RangeIndex: 25 entries, 0 to 24\n",
      "Data columns (total 3 columns):\n",
      " #   Column       Non-Null Count  Dtype \n",
      "---  ------       --------------  ----- \n",
      " 0   N_NATIONKEY  25 non-null     int64 \n",
      " 1   N_NATION     25 non-null     object\n",
      " 2   N_REGION     25 non-null     object\n",
      "dtypes: int64(1), object(2)\n",
      "memory usage: 732.0+ bytes\n"
     ]
    }
   ],
   "source": [
    "NR.info()"
   ]
  },
  {
   "cell_type": "code",
   "execution_count": 112,
   "id": "53da58e1",
   "metadata": {},
   "outputs": [
    {
     "data": {
      "text/html": [
       "<div>\n",
       "<style scoped>\n",
       "    .dataframe tbody tr th:only-of-type {\n",
       "        vertical-align: middle;\n",
       "    }\n",
       "\n",
       "    .dataframe tbody tr th {\n",
       "        vertical-align: top;\n",
       "    }\n",
       "\n",
       "    .dataframe thead th {\n",
       "        text-align: right;\n",
       "    }\n",
       "</style>\n",
       "<table border=\"1\" class=\"dataframe\">\n",
       "  <thead>\n",
       "    <tr style=\"text-align: right;\">\n",
       "      <th></th>\n",
       "      <th>N_NATIONKEY</th>\n",
       "      <th>N_NATION</th>\n",
       "      <th>N_REGION</th>\n",
       "    </tr>\n",
       "  </thead>\n",
       "  <tbody>\n",
       "    <tr>\n",
       "      <th>0</th>\n",
       "      <td>0</td>\n",
       "      <td>ALGERIA</td>\n",
       "      <td>AFRICA</td>\n",
       "    </tr>\n",
       "    <tr>\n",
       "      <th>1</th>\n",
       "      <td>1</td>\n",
       "      <td>ARGENTINA</td>\n",
       "      <td>AMERICA</td>\n",
       "    </tr>\n",
       "    <tr>\n",
       "      <th>2</th>\n",
       "      <td>2</td>\n",
       "      <td>BRAZIL</td>\n",
       "      <td>AMERICA</td>\n",
       "    </tr>\n",
       "    <tr>\n",
       "      <th>3</th>\n",
       "      <td>3</td>\n",
       "      <td>CANADA</td>\n",
       "      <td>AMERICA</td>\n",
       "    </tr>\n",
       "    <tr>\n",
       "      <th>4</th>\n",
       "      <td>4</td>\n",
       "      <td>EGYPT</td>\n",
       "      <td>MIDDLE EAST</td>\n",
       "    </tr>\n",
       "  </tbody>\n",
       "</table>\n",
       "</div>"
      ],
      "text/plain": [
       "   N_NATIONKEY   N_NATION     N_REGION\n",
       "0            0    ALGERIA       AFRICA\n",
       "1            1  ARGENTINA      AMERICA\n",
       "2            2     BRAZIL      AMERICA\n",
       "3            3     CANADA      AMERICA\n",
       "4            4      EGYPT  MIDDLE EAST"
      ]
     },
     "execution_count": 112,
     "metadata": {},
     "output_type": "execute_result"
    }
   ],
   "source": [
    "NR.head()"
   ]
  },
  {
   "cell_type": "code",
   "execution_count": 116,
   "id": "bf31fea0",
   "metadata": {},
   "outputs": [
    {
     "name": "stdout",
     "output_type": "stream",
     "text": [
      "Number of row in header table (Nation) before join : 25\n",
      "Number of row after joined : 25\n"
     ]
    }
   ],
   "source": [
    "# Compare data between header table and joined dataframe\n",
    "print(\"Number of row in header table (Nation) before join : \" + str(len(nation_df)))\n",
    "print(\"Number of row after joined : \" + str(len(NR)))\n"
   ]
  },
  {
   "cell_type": "markdown",
   "id": "d6cc3356",
   "metadata": {},
   "source": [
    "#### Join Customer with Nation and Region"
   ]
  },
  {
   "cell_type": "code",
   "execution_count": 118,
   "id": "90d32ddc",
   "metadata": {
    "collapsed": true,
    "jupyter": {
     "outputs_hidden": true
    },
    "scrolled": true
   },
   "outputs": [],
   "source": [
    "CNR = pd.merge(left=customer_df,\n",
    "                 right=NR,\n",
    "                 left_on='C_NATIONKEY',\n",
    "                 right_on='N_NATIONKEY',\n",
    "                 how='left')\n",
    "\n",
    "CNR = CNR.drop(['N_NATIONKEY','C_COMMENT'],axis=1)\n",
    "CNR = CNR.rename(columns={\"N_NATION\": \"C_NATION\",\n",
    "                              \"N_REGION\": \"C_REGION\"})"
   ]
  },
  {
   "cell_type": "code",
   "execution_count": 119,
   "id": "0150cdee",
   "metadata": {},
   "outputs": [
    {
     "name": "stdout",
     "output_type": "stream",
     "text": [
      "<class 'pandas.core.frame.DataFrame'>\n",
      "RangeIndex: 150000 entries, 0 to 149999\n",
      "Data columns (total 9 columns):\n",
      " #   Column        Non-Null Count   Dtype  \n",
      "---  ------        --------------   -----  \n",
      " 0   C_CUSTKEY     150000 non-null  int64  \n",
      " 1   C_NAME        150000 non-null  object \n",
      " 2   C_ADDRESS     150000 non-null  object \n",
      " 3   C_NATIONKEY   150000 non-null  int64  \n",
      " 4   C_PHONE       150000 non-null  object \n",
      " 5   C_ACCTBAL     150000 non-null  float64\n",
      " 6   C_MKTSEGMENT  150000 non-null  object \n",
      " 7   C_NATION      150000 non-null  object \n",
      " 8   C_REGION      150000 non-null  object \n",
      "dtypes: float64(1), int64(2), object(6)\n",
      "memory usage: 10.3+ MB\n"
     ]
    }
   ],
   "source": [
    "CNR.info()"
   ]
  },
  {
   "cell_type": "code",
   "execution_count": 120,
   "id": "6798535a",
   "metadata": {},
   "outputs": [
    {
     "data": {
      "text/html": [
       "<div>\n",
       "<style scoped>\n",
       "    .dataframe tbody tr th:only-of-type {\n",
       "        vertical-align: middle;\n",
       "    }\n",
       "\n",
       "    .dataframe tbody tr th {\n",
       "        vertical-align: top;\n",
       "    }\n",
       "\n",
       "    .dataframe thead th {\n",
       "        text-align: right;\n",
       "    }\n",
       "</style>\n",
       "<table border=\"1\" class=\"dataframe\">\n",
       "  <thead>\n",
       "    <tr style=\"text-align: right;\">\n",
       "      <th></th>\n",
       "      <th>C_CUSTKEY</th>\n",
       "      <th>C_NAME</th>\n",
       "      <th>C_ADDRESS</th>\n",
       "      <th>C_NATIONKEY</th>\n",
       "      <th>C_PHONE</th>\n",
       "      <th>C_ACCTBAL</th>\n",
       "      <th>C_MKTSEGMENT</th>\n",
       "      <th>C_NATION</th>\n",
       "      <th>C_REGION</th>\n",
       "    </tr>\n",
       "  </thead>\n",
       "  <tbody>\n",
       "    <tr>\n",
       "      <th>0</th>\n",
       "      <td>60001</td>\n",
       "      <td>Customer#000060001</td>\n",
       "      <td>9Ii4zQn9cX</td>\n",
       "      <td>14</td>\n",
       "      <td>24-678-784-9652</td>\n",
       "      <td>9957.56</td>\n",
       "      <td>HOUSEHOLD</td>\n",
       "      <td>KENYA</td>\n",
       "      <td>AFRICA</td>\n",
       "    </tr>\n",
       "    <tr>\n",
       "      <th>1</th>\n",
       "      <td>60002</td>\n",
       "      <td>Customer#000060002</td>\n",
       "      <td>ThGBMjDwKzkoOxhz</td>\n",
       "      <td>15</td>\n",
       "      <td>25-782-500-8435</td>\n",
       "      <td>742.46</td>\n",
       "      <td>BUILDING</td>\n",
       "      <td>MOROCCO</td>\n",
       "      <td>AFRICA</td>\n",
       "    </tr>\n",
       "    <tr>\n",
       "      <th>2</th>\n",
       "      <td>60003</td>\n",
       "      <td>Customer#000060003</td>\n",
       "      <td>Ed hbPtTXMTAsgGhCr4HuTzKMd2</td>\n",
       "      <td>16</td>\n",
       "      <td>26-859-847-7640</td>\n",
       "      <td>2526.92</td>\n",
       "      <td>BUILDING</td>\n",
       "      <td>MOZAMBIQUE</td>\n",
       "      <td>AFRICA</td>\n",
       "    </tr>\n",
       "    <tr>\n",
       "      <th>3</th>\n",
       "      <td>60004</td>\n",
       "      <td>Customer#000060004</td>\n",
       "      <td>NivCT2RVaavlyUnKwBjDyMvB42WayXCnky</td>\n",
       "      <td>10</td>\n",
       "      <td>20-573-674-7999</td>\n",
       "      <td>7975.22</td>\n",
       "      <td>AUTOMOBILE</td>\n",
       "      <td>IRAN</td>\n",
       "      <td>MIDDLE EAST</td>\n",
       "    </tr>\n",
       "    <tr>\n",
       "      <th>4</th>\n",
       "      <td>60005</td>\n",
       "      <td>Customer#000060005</td>\n",
       "      <td>1F3KM3ccEXEtI B22XmCMOWJMl</td>\n",
       "      <td>12</td>\n",
       "      <td>22-741-208-1316</td>\n",
       "      <td>2504.74</td>\n",
       "      <td>MACHINERY</td>\n",
       "      <td>JAPAN</td>\n",
       "      <td>ASIA</td>\n",
       "    </tr>\n",
       "  </tbody>\n",
       "</table>\n",
       "</div>"
      ],
      "text/plain": [
       "   C_CUSTKEY              C_NAME                           C_ADDRESS  \\\n",
       "0      60001  Customer#000060001                          9Ii4zQn9cX   \n",
       "1      60002  Customer#000060002                    ThGBMjDwKzkoOxhz   \n",
       "2      60003  Customer#000060003         Ed hbPtTXMTAsgGhCr4HuTzKMd2   \n",
       "3      60004  Customer#000060004  NivCT2RVaavlyUnKwBjDyMvB42WayXCnky   \n",
       "4      60005  Customer#000060005          1F3KM3ccEXEtI B22XmCMOWJMl   \n",
       "\n",
       "   C_NATIONKEY          C_PHONE  C_ACCTBAL C_MKTSEGMENT    C_NATION  \\\n",
       "0           14  24-678-784-9652    9957.56    HOUSEHOLD       KENYA   \n",
       "1           15  25-782-500-8435     742.46     BUILDING     MOROCCO   \n",
       "2           16  26-859-847-7640    2526.92     BUILDING  MOZAMBIQUE   \n",
       "3           10  20-573-674-7999    7975.22   AUTOMOBILE        IRAN   \n",
       "4           12  22-741-208-1316    2504.74    MACHINERY       JAPAN   \n",
       "\n",
       "      C_REGION  \n",
       "0       AFRICA  \n",
       "1       AFRICA  \n",
       "2       AFRICA  \n",
       "3  MIDDLE EAST  \n",
       "4         ASIA  "
      ]
     },
     "execution_count": 120,
     "metadata": {},
     "output_type": "execute_result"
    }
   ],
   "source": [
    "CNR.head()"
   ]
  },
  {
   "cell_type": "code",
   "execution_count": 121,
   "id": "3ba36959",
   "metadata": {},
   "outputs": [
    {
     "name": "stdout",
     "output_type": "stream",
     "text": [
      "Number of row in header table (Customer) before join : 150000\n",
      "Number of row after joined : 150000\n"
     ]
    }
   ],
   "source": [
    "# Compare data between header table and joined dataframe\n",
    "print(\"Number of row in header table (Customer) before join : \" + str(len(customer_df)))\n",
    "print(\"Number of row after joined : \" + str(len(CNR)))"
   ]
  },
  {
   "cell_type": "markdown",
   "id": "a8643d7a",
   "metadata": {},
   "source": [
    "#### Join Order with Customer, Nation and Region"
   ]
  },
  {
   "cell_type": "code",
   "execution_count": 128,
   "id": "82426157",
   "metadata": {
    "collapsed": true,
    "jupyter": {
     "outputs_hidden": true
    },
    "scrolled": true
   },
   "outputs": [],
   "source": [
    "OCNR = pd.merge(left=order_df,\n",
    "                right=CNR,\n",
    "                left_on=\"O_CUSTKEY\",\n",
    "                right_on=\"C_CUSTKEY\",\n",
    "                how='left')\n",
    "\n",
    "#OCNR = OCNR.drop(######################)\n",
    "OCNR = OCNR.drop(['C_CUSTKEY'],axis=1)"
   ]
  },
  {
   "cell_type": "code",
   "execution_count": 129,
   "id": "5b976be1",
   "metadata": {},
   "outputs": [
    {
     "name": "stdout",
     "output_type": "stream",
     "text": [
      "<class 'pandas.core.frame.DataFrame'>\n",
      "RangeIndex: 847307 entries, 0 to 847306\n",
      "Data columns (total 20 columns):\n",
      " #   Column           Non-Null Count   Dtype         \n",
      "---  ------           --------------   -----         \n",
      " 0   O_ORDERKEY       847307 non-null  int64         \n",
      " 1   O_CUSTKEY        847307 non-null  int64         \n",
      " 2   O_ORDERSTATUS    847307 non-null  object        \n",
      " 3   O_TOTALPRICE     847307 non-null  float64       \n",
      " 4   O_ORDERDATE      847307 non-null  datetime64[ns]\n",
      " 5   O_ORDERPRIORITY  847307 non-null  object        \n",
      " 6   O_CLERK          847307 non-null  object        \n",
      " 7   O_SHIPPRIORITY   847307 non-null  int64         \n",
      " 8   O_COMMENT        847307 non-null  object        \n",
      " 9   O_ORDERYEAR      847307 non-null  int32         \n",
      " 10  O_ORDERDAY       847307 non-null  int32         \n",
      " 11  O_ORDERMONTH     847307 non-null  int32         \n",
      " 12  C_NAME           847307 non-null  object        \n",
      " 13  C_ADDRESS        847307 non-null  object        \n",
      " 14  C_NATIONKEY      847307 non-null  int64         \n",
      " 15  C_PHONE          847307 non-null  object        \n",
      " 16  C_ACCTBAL        847307 non-null  float64       \n",
      " 17  C_MKTSEGMENT     847307 non-null  object        \n",
      " 18  C_NATION         847307 non-null  object        \n",
      " 19  C_REGION         847307 non-null  object        \n",
      "dtypes: datetime64[ns](1), float64(2), int32(3), int64(4), object(10)\n",
      "memory usage: 119.6+ MB\n"
     ]
    }
   ],
   "source": [
    "OCNR.info()"
   ]
  },
  {
   "cell_type": "code",
   "execution_count": 130,
   "id": "8457abc4",
   "metadata": {},
   "outputs": [
    {
     "name": "stdout",
     "output_type": "stream",
     "text": [
      "<class 'pandas.core.frame.DataFrame'>\n",
      "RangeIndex: 847307 entries, 0 to 847306\n",
      "Data columns (total 20 columns):\n",
      " #   Column           Non-Null Count   Dtype         \n",
      "---  ------           --------------   -----         \n",
      " 0   O_ORDERKEY       847307 non-null  int64         \n",
      " 1   O_CUSTKEY        847307 non-null  int64         \n",
      " 2   O_ORDERSTATUS    847307 non-null  object        \n",
      " 3   O_TOTALPRICE     847307 non-null  float64       \n",
      " 4   O_ORDERDATE      847307 non-null  datetime64[ns]\n",
      " 5   O_ORDERPRIORITY  847307 non-null  object        \n",
      " 6   O_CLERK          847307 non-null  object        \n",
      " 7   O_SHIPPRIORITY   847307 non-null  int64         \n",
      " 8   O_COMMENT        847307 non-null  object        \n",
      " 9   O_ORDERYEAR      847307 non-null  int32         \n",
      " 10  O_ORDERDAY       847307 non-null  int32         \n",
      " 11  O_ORDERMONTH     847307 non-null  int32         \n",
      " 12  C_NAME           847307 non-null  object        \n",
      " 13  C_ADDRESS        847307 non-null  object        \n",
      " 14  C_NATIONKEY      847307 non-null  int64         \n",
      " 15  C_PHONE          847307 non-null  object        \n",
      " 16  C_ACCTBAL        847307 non-null  float64       \n",
      " 17  C_MKTSEGMENT     847307 non-null  object        \n",
      " 18  C_NATION         847307 non-null  object        \n",
      " 19  C_REGION         847307 non-null  object        \n",
      "dtypes: datetime64[ns](1), float64(2), int32(3), int64(4), object(10)\n",
      "memory usage: 119.6+ MB\n"
     ]
    }
   ],
   "source": [
    "OCNR.info()"
   ]
  },
  {
   "cell_type": "code",
   "execution_count": 131,
   "id": "909f6a1e",
   "metadata": {},
   "outputs": [
    {
     "data": {
      "text/html": [
       "<div>\n",
       "<style scoped>\n",
       "    .dataframe tbody tr th:only-of-type {\n",
       "        vertical-align: middle;\n",
       "    }\n",
       "\n",
       "    .dataframe tbody tr th {\n",
       "        vertical-align: top;\n",
       "    }\n",
       "\n",
       "    .dataframe thead th {\n",
       "        text-align: right;\n",
       "    }\n",
       "</style>\n",
       "<table border=\"1\" class=\"dataframe\">\n",
       "  <thead>\n",
       "    <tr style=\"text-align: right;\">\n",
       "      <th></th>\n",
       "      <th>O_ORDERKEY</th>\n",
       "      <th>O_CUSTKEY</th>\n",
       "      <th>O_ORDERSTATUS</th>\n",
       "      <th>O_TOTALPRICE</th>\n",
       "      <th>O_ORDERDATE</th>\n",
       "      <th>O_ORDERPRIORITY</th>\n",
       "      <th>O_CLERK</th>\n",
       "      <th>O_SHIPPRIORITY</th>\n",
       "      <th>O_COMMENT</th>\n",
       "      <th>O_ORDERYEAR</th>\n",
       "      <th>O_ORDERDAY</th>\n",
       "      <th>O_ORDERMONTH</th>\n",
       "      <th>C_NAME</th>\n",
       "      <th>C_ADDRESS</th>\n",
       "      <th>C_NATIONKEY</th>\n",
       "      <th>C_PHONE</th>\n",
       "      <th>C_ACCTBAL</th>\n",
       "      <th>C_MKTSEGMENT</th>\n",
       "      <th>C_NATION</th>\n",
       "      <th>C_REGION</th>\n",
       "    </tr>\n",
       "  </thead>\n",
       "  <tbody>\n",
       "    <tr>\n",
       "      <th>0</th>\n",
       "      <td>4200002</td>\n",
       "      <td>129376</td>\n",
       "      <td>O</td>\n",
       "      <td>256838.41</td>\n",
       "      <td>1997-04-14</td>\n",
       "      <td>4-LOW</td>\n",
       "      <td>Clerk#000000281</td>\n",
       "      <td>0</td>\n",
       "      <td>comment</td>\n",
       "      <td>1997</td>\n",
       "      <td>14</td>\n",
       "      <td>4</td>\n",
       "      <td>Customer#000129376</td>\n",
       "      <td>3ZHy4RbofQRWdopofrOBELvRaEJqeIu</td>\n",
       "      <td>3</td>\n",
       "      <td>13-963-672-5643</td>\n",
       "      <td>-730.88</td>\n",
       "      <td>AUTOMOBILE</td>\n",
       "      <td>CANADA</td>\n",
       "      <td>AMERICA</td>\n",
       "    </tr>\n",
       "    <tr>\n",
       "      <th>1</th>\n",
       "      <td>4200003</td>\n",
       "      <td>141613</td>\n",
       "      <td>O</td>\n",
       "      <td>150849.49</td>\n",
       "      <td>1997-11-24</td>\n",
       "      <td>4-LOW</td>\n",
       "      <td>Clerk#000000585</td>\n",
       "      <td>0</td>\n",
       "      <td>comment</td>\n",
       "      <td>1997</td>\n",
       "      <td>24</td>\n",
       "      <td>11</td>\n",
       "      <td>Customer#000141613</td>\n",
       "      <td>dPodRyFNKQHMZxpU</td>\n",
       "      <td>12</td>\n",
       "      <td>22-455-738-5858</td>\n",
       "      <td>880.03</td>\n",
       "      <td>HOUSEHOLD</td>\n",
       "      <td>JAPAN</td>\n",
       "      <td>ASIA</td>\n",
       "    </tr>\n",
       "    <tr>\n",
       "      <th>2</th>\n",
       "      <td>4200006</td>\n",
       "      <td>49576</td>\n",
       "      <td>F</td>\n",
       "      <td>263616.19</td>\n",
       "      <td>1993-12-31</td>\n",
       "      <td>4-LOW</td>\n",
       "      <td>Clerk#000000650</td>\n",
       "      <td>0</td>\n",
       "      <td>comment</td>\n",
       "      <td>1993</td>\n",
       "      <td>31</td>\n",
       "      <td>12</td>\n",
       "      <td>Customer#000049576</td>\n",
       "      <td>FCWMIWtDvjmi6XneYUmCPVdLJ</td>\n",
       "      <td>1</td>\n",
       "      <td>11-835-830-8347</td>\n",
       "      <td>9288.93</td>\n",
       "      <td>BUILDING</td>\n",
       "      <td>ARGENTINA</td>\n",
       "      <td>AMERICA</td>\n",
       "    </tr>\n",
       "    <tr>\n",
       "      <th>3</th>\n",
       "      <td>4200032</td>\n",
       "      <td>72820</td>\n",
       "      <td>F</td>\n",
       "      <td>64160.97</td>\n",
       "      <td>1994-12-21</td>\n",
       "      <td>4-LOW</td>\n",
       "      <td>Clerk#000000302</td>\n",
       "      <td>0</td>\n",
       "      <td>comment</td>\n",
       "      <td>1994</td>\n",
       "      <td>21</td>\n",
       "      <td>12</td>\n",
       "      <td>Customer#000072820</td>\n",
       "      <td>G Ukz5qar5Tu4awO27vPu7KNlpYeOZvFpt0f</td>\n",
       "      <td>18</td>\n",
       "      <td>28-984-250-1868</td>\n",
       "      <td>7927.21</td>\n",
       "      <td>FURNITURE</td>\n",
       "      <td>CHINA</td>\n",
       "      <td>ASIA</td>\n",
       "    </tr>\n",
       "    <tr>\n",
       "      <th>4</th>\n",
       "      <td>4200033</td>\n",
       "      <td>22528</td>\n",
       "      <td>O</td>\n",
       "      <td>218653.88</td>\n",
       "      <td>1996-03-24</td>\n",
       "      <td>4-LOW</td>\n",
       "      <td>Clerk#000000868</td>\n",
       "      <td>0</td>\n",
       "      <td>comment</td>\n",
       "      <td>1996</td>\n",
       "      <td>24</td>\n",
       "      <td>3</td>\n",
       "      <td>Customer#000022528</td>\n",
       "      <td>VtfsGb0Rx5LgAHV5vfIh</td>\n",
       "      <td>13</td>\n",
       "      <td>23-735-561-2839</td>\n",
       "      <td>9516.88</td>\n",
       "      <td>FURNITURE</td>\n",
       "      <td>JORDAN</td>\n",
       "      <td>MIDDLE EAST</td>\n",
       "    </tr>\n",
       "  </tbody>\n",
       "</table>\n",
       "</div>"
      ],
      "text/plain": [
       "   O_ORDERKEY  O_CUSTKEY O_ORDERSTATUS  O_TOTALPRICE O_ORDERDATE  \\\n",
       "0     4200002     129376             O     256838.41  1997-04-14   \n",
       "1     4200003     141613             O     150849.49  1997-11-24   \n",
       "2     4200006      49576             F     263616.19  1993-12-31   \n",
       "3     4200032      72820             F      64160.97  1994-12-21   \n",
       "4     4200033      22528             O     218653.88  1996-03-24   \n",
       "\n",
       "  O_ORDERPRIORITY          O_CLERK  O_SHIPPRIORITY O_COMMENT  O_ORDERYEAR  \\\n",
       "0           4-LOW  Clerk#000000281               0   comment         1997   \n",
       "1           4-LOW  Clerk#000000585               0   comment         1997   \n",
       "2           4-LOW  Clerk#000000650               0   comment         1993   \n",
       "3           4-LOW  Clerk#000000302               0   comment         1994   \n",
       "4           4-LOW  Clerk#000000868               0   comment         1996   \n",
       "\n",
       "   O_ORDERDAY  O_ORDERMONTH              C_NAME  \\\n",
       "0          14             4  Customer#000129376   \n",
       "1          24            11  Customer#000141613   \n",
       "2          31            12  Customer#000049576   \n",
       "3          21            12  Customer#000072820   \n",
       "4          24             3  Customer#000022528   \n",
       "\n",
       "                              C_ADDRESS  C_NATIONKEY          C_PHONE  \\\n",
       "0       3ZHy4RbofQRWdopofrOBELvRaEJqeIu            3  13-963-672-5643   \n",
       "1                      dPodRyFNKQHMZxpU           12  22-455-738-5858   \n",
       "2             FCWMIWtDvjmi6XneYUmCPVdLJ            1  11-835-830-8347   \n",
       "3  G Ukz5qar5Tu4awO27vPu7KNlpYeOZvFpt0f           18  28-984-250-1868   \n",
       "4                  VtfsGb0Rx5LgAHV5vfIh           13  23-735-561-2839   \n",
       "\n",
       "   C_ACCTBAL C_MKTSEGMENT   C_NATION     C_REGION  \n",
       "0    -730.88   AUTOMOBILE     CANADA      AMERICA  \n",
       "1     880.03    HOUSEHOLD      JAPAN         ASIA  \n",
       "2    9288.93     BUILDING  ARGENTINA      AMERICA  \n",
       "3    7927.21    FURNITURE      CHINA         ASIA  \n",
       "4    9516.88    FURNITURE     JORDAN  MIDDLE EAST  "
      ]
     },
     "execution_count": 131,
     "metadata": {},
     "output_type": "execute_result"
    }
   ],
   "source": [
    "OCNR.head()"
   ]
  },
  {
   "cell_type": "code",
   "execution_count": 132,
   "id": "c6e76b2e",
   "metadata": {},
   "outputs": [
    {
     "name": "stdout",
     "output_type": "stream",
     "text": [
      "Number of row in header table (Order) before join : 847307\n",
      "Number of row after joined : 847307\n"
     ]
    }
   ],
   "source": [
    "# Compare data between header table and joined dataframe\n",
    "print(\"Number of row in header table (Order) before join : \" + str(len(order_df)))\n",
    "print(\"Number of row after joined : \" + str(len(OCNR)))"
   ]
  },
  {
   "cell_type": "markdown",
   "id": "5d305723",
   "metadata": {},
   "source": [
    "#### Join Supplier with Nation and Region"
   ]
  },
  {
   "cell_type": "code",
   "execution_count": 133,
   "id": "d68f583d",
   "metadata": {
    "collapsed": true,
    "jupyter": {
     "outputs_hidden": true
    }
   },
   "outputs": [],
   "source": [
    "SNR = pd.merge(left=supplier_df,\n",
    "                         right=NR,\n",
    "                         left_on='S_NATIONKEY',\n",
    "                         right_on='N_NATIONKEY',\n",
    "                         how='left')\n",
    "\n",
    "#SNR = SNR[['S_SUPPKEY','S_NAME','S_ACCTBAL','NATION','REGION']]\n",
    "SNR = SNR.drop(['N_NATIONKEY'],axis=1)\n",
    "SNR = SNR.rename(columns={\"N_NATION\": \"S_NATION\",\n",
    "                              \"N_REGION\": \"S_REGION\"})"
   ]
  },
  {
   "cell_type": "code",
   "execution_count": 134,
   "id": "b482c050",
   "metadata": {},
   "outputs": [
    {
     "name": "stdout",
     "output_type": "stream",
     "text": [
      "<class 'pandas.core.frame.DataFrame'>\n",
      "RangeIndex: 10000 entries, 0 to 9999\n",
      "Data columns (total 9 columns):\n",
      " #   Column       Non-Null Count  Dtype  \n",
      "---  ------       --------------  -----  \n",
      " 0   S_SUPPKEY    10000 non-null  int64  \n",
      " 1   S_NAME       10000 non-null  object \n",
      " 2   S_ADDRESS    10000 non-null  object \n",
      " 3   S_NATIONKEY  10000 non-null  int64  \n",
      " 4   S_PHONE      10000 non-null  object \n",
      " 5   S_ACCTBAL    10000 non-null  float64\n",
      " 6   S_COMMENT    10000 non-null  object \n",
      " 7   S_NATION     10000 non-null  object \n",
      " 8   S_REGION     10000 non-null  object \n",
      "dtypes: float64(1), int64(2), object(6)\n",
      "memory usage: 703.3+ KB\n"
     ]
    }
   ],
   "source": [
    "SNR.info()"
   ]
  },
  {
   "cell_type": "code",
   "execution_count": 135,
   "id": "eab3c0b3",
   "metadata": {},
   "outputs": [
    {
     "data": {
      "text/html": [
       "<div>\n",
       "<style scoped>\n",
       "    .dataframe tbody tr th:only-of-type {\n",
       "        vertical-align: middle;\n",
       "    }\n",
       "\n",
       "    .dataframe tbody tr th {\n",
       "        vertical-align: top;\n",
       "    }\n",
       "\n",
       "    .dataframe thead th {\n",
       "        text-align: right;\n",
       "    }\n",
       "</style>\n",
       "<table border=\"1\" class=\"dataframe\">\n",
       "  <thead>\n",
       "    <tr style=\"text-align: right;\">\n",
       "      <th></th>\n",
       "      <th>S_SUPPKEY</th>\n",
       "      <th>S_NAME</th>\n",
       "      <th>S_ADDRESS</th>\n",
       "      <th>S_NATIONKEY</th>\n",
       "      <th>S_PHONE</th>\n",
       "      <th>S_ACCTBAL</th>\n",
       "      <th>S_COMMENT</th>\n",
       "      <th>S_NATION</th>\n",
       "      <th>S_REGION</th>\n",
       "    </tr>\n",
       "  </thead>\n",
       "  <tbody>\n",
       "    <tr>\n",
       "      <th>0</th>\n",
       "      <td>1</td>\n",
       "      <td>Supplier#000000001</td>\n",
       "      <td>N kD4on9OM Ipw3,gf0JBoQDd7tgrzrddZ</td>\n",
       "      <td>17</td>\n",
       "      <td>27-918-335-1736</td>\n",
       "      <td>5755.94</td>\n",
       "      <td>each slyly above the careful</td>\n",
       "      <td>PERU</td>\n",
       "      <td>AMERICA</td>\n",
       "    </tr>\n",
       "    <tr>\n",
       "      <th>1</th>\n",
       "      <td>2</td>\n",
       "      <td>Supplier#000000002</td>\n",
       "      <td>89eJ5ksX3ImxJQBvxObC,</td>\n",
       "      <td>5</td>\n",
       "      <td>15-679-861-2259</td>\n",
       "      <td>4032.68</td>\n",
       "      <td>slyly bold instructions. idle dependen</td>\n",
       "      <td>ETHIOPIA</td>\n",
       "      <td>AFRICA</td>\n",
       "    </tr>\n",
       "    <tr>\n",
       "      <th>2</th>\n",
       "      <td>3</td>\n",
       "      <td>Supplier#000000003</td>\n",
       "      <td>q1,G3Pj6OjIuUYfUoH18BFTKP5aU9bEV3</td>\n",
       "      <td>1</td>\n",
       "      <td>11-383-516-1199</td>\n",
       "      <td>4192.40</td>\n",
       "      <td>blithely silent requests after the express dep...</td>\n",
       "      <td>ARGENTINA</td>\n",
       "      <td>AMERICA</td>\n",
       "    </tr>\n",
       "    <tr>\n",
       "      <th>3</th>\n",
       "      <td>4</td>\n",
       "      <td>Supplier#000000004</td>\n",
       "      <td>Bk7ah4CK8SYQTepEmvMkkgMwg</td>\n",
       "      <td>15</td>\n",
       "      <td>25-843-787-7479</td>\n",
       "      <td>4641.08</td>\n",
       "      <td>riously even requests above the exp</td>\n",
       "      <td>MOROCCO</td>\n",
       "      <td>AFRICA</td>\n",
       "    </tr>\n",
       "    <tr>\n",
       "      <th>4</th>\n",
       "      <td>5</td>\n",
       "      <td>Supplier#000000005</td>\n",
       "      <td>Gcdm2rJRzl5qlTVzc</td>\n",
       "      <td>11</td>\n",
       "      <td>21-151-690-3663</td>\n",
       "      <td>-283.84</td>\n",
       "      <td>. slyly regular pinto bea</td>\n",
       "      <td>IRAQ</td>\n",
       "      <td>MIDDLE EAST</td>\n",
       "    </tr>\n",
       "  </tbody>\n",
       "</table>\n",
       "</div>"
      ],
      "text/plain": [
       "   S_SUPPKEY              S_NAME                            S_ADDRESS  \\\n",
       "0          1  Supplier#000000001   N kD4on9OM Ipw3,gf0JBoQDd7tgrzrddZ   \n",
       "1          2  Supplier#000000002                89eJ5ksX3ImxJQBvxObC,   \n",
       "2          3  Supplier#000000003    q1,G3Pj6OjIuUYfUoH18BFTKP5aU9bEV3   \n",
       "3          4  Supplier#000000004            Bk7ah4CK8SYQTepEmvMkkgMwg   \n",
       "4          5  Supplier#000000005                    Gcdm2rJRzl5qlTVzc   \n",
       "\n",
       "   S_NATIONKEY          S_PHONE  S_ACCTBAL  \\\n",
       "0           17  27-918-335-1736    5755.94   \n",
       "1            5  15-679-861-2259    4032.68   \n",
       "2            1  11-383-516-1199    4192.40   \n",
       "3           15  25-843-787-7479    4641.08   \n",
       "4           11  21-151-690-3663    -283.84   \n",
       "\n",
       "                                           S_COMMENT   S_NATION     S_REGION  \n",
       "0                       each slyly above the careful       PERU      AMERICA  \n",
       "1             slyly bold instructions. idle dependen   ETHIOPIA       AFRICA  \n",
       "2  blithely silent requests after the express dep...  ARGENTINA      AMERICA  \n",
       "3                riously even requests above the exp    MOROCCO       AFRICA  \n",
       "4                          . slyly regular pinto bea       IRAQ  MIDDLE EAST  "
      ]
     },
     "execution_count": 135,
     "metadata": {},
     "output_type": "execute_result"
    }
   ],
   "source": [
    "SNR.head()"
   ]
  },
  {
   "cell_type": "code",
   "execution_count": 136,
   "id": "f06ac738",
   "metadata": {},
   "outputs": [
    {
     "name": "stdout",
     "output_type": "stream",
     "text": [
      "Number of row in header table (Supplier) before join : 10000\n",
      "Number of row after joined : 10000\n"
     ]
    }
   ],
   "source": [
    "# Compare data between header table and joined dataframe\n",
    "print(\"Number of row in header table (Supplier) before join : \" + str(len(supplier_df)))\n",
    "print(\"Number of row after joined : \" + str(len(SNR)))"
   ]
  },
  {
   "cell_type": "markdown",
   "id": "899c8646",
   "metadata": {},
   "source": [
    "### Feature Creation"
   ]
  },
  {
   "cell_type": "code",
   "execution_count": 137,
   "id": "cb13d8c6",
   "metadata": {
    "collapsed": true
   },
   "outputs": [],
   "source": [
    "# Calculate lead day\n",
    "OCNR['LEADDAY'] = OCNR.sort_values(['C_NAME','O_ORDERDATE']).groupby(['C_NAME'],sort=False)['O_ORDERDATE'].diff()"
   ]
  },
  {
   "cell_type": "code",
   "execution_count": 138,
   "id": "6c9d68a5",
   "metadata": {
    "collapsed": true
   },
   "outputs": [],
   "source": [
    "# Extract day from lead day column\n",
    "OCNR['LEADDAY'] = OCNR['LEADDAY'].dt.days"
   ]
  },
  {
   "cell_type": "code",
   "execution_count": 139,
   "id": "bf10cf0f",
   "metadata": {},
   "outputs": [],
   "source": [
    "OCNR = OCNR.dropna(subset=['LEADDAY'])"
   ]
  },
  {
   "cell_type": "code",
   "execution_count": 140,
   "id": "8570e7d0",
   "metadata": {},
   "outputs": [
    {
     "data": {
      "text/plain": [
       "LEADDAY\n",
       "2.00       3326\n",
       "6.00       3285\n",
       "4.00       3284\n",
       "11.00      3248\n",
       "7.00       3247\n",
       "           ... \n",
       "1930.00       1\n",
       "2129.00       1\n",
       "1882.00       1\n",
       "1850.00       1\n",
       "2158.00       1\n",
       "Name: count, Length: 2092, dtype: int64"
      ]
     },
     "execution_count": 140,
     "metadata": {},
     "output_type": "execute_result"
    }
   ],
   "source": [
    "OCNR['LEADDAY'].value_counts()"
   ]
  },
  {
   "cell_type": "markdown",
   "metadata": {},
   "source": [
    "## Analytics Product development"
   ]
  },
  {
   "cell_type": "markdown",
   "metadata": {},
   "source": [
    "### Download Data for visualization in next lab"
   ]
  },
  {
   "cell_type": "code",
   "execution_count": 141,
   "metadata": {
    "collapsed": true,
    "jupyter": {
     "outputs_hidden": true
    }
   },
   "outputs": [],
   "source": [
    "#Create output folder if not exist\n",
    "if not os.path.exists(\"clean_data\"):\n",
    "    os.makedirs(\"clean_data\")\n",
    "\n",
    "data_dir = \"clean_data\"\n",
    "\n",
    "#Download modeled data into clean data folder\n",
    "OCNR.to_csv(f\"{data_dir}/OCNR.csv\")\n",
    "SNR.to_csv(f\"{data_dir}/SNR.csv\")\n",
    "lineitem_df.to_csv(f\"{data_dir}/L.csv\")\n",
    "part_df.to_csv(f\"{data_dir}/P.csv\")\n",
    "partsupp_df.to_csv(f\"{data_dir}/PS.csv\")"
   ]
  }
 ],
 "metadata": {
  "kernelspec": {
   "display_name": "em_bootcathon_env",
   "language": "python",
   "name": "python3"
  },
  "language_info": {
   "codemirror_mode": {
    "name": "ipython",
    "version": 3
   },
   "file_extension": ".py",
   "mimetype": "text/x-python",
   "name": "python",
   "nbconvert_exporter": "python",
   "pygments_lexer": "ipython3",
   "version": "3.11.4"
  }
 },
 "nbformat": 4,
 "nbformat_minor": 5
}
