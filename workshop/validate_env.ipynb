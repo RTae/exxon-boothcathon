{
 "cells": [
  {
   "cell_type": "code",
   "execution_count": 12,
   "metadata": {},
   "outputs": [
    {
     "name": "stdout",
     "output_type": "stream",
     "text": [
      "jupyter is installed.\n",
      "pandas is installed.\n",
      "numpy is installed.\n",
      "scipy is installed.\n",
      "sklearn is installed.\n",
      "matplotlib is installed.\n",
      "seaborn is installed.\n",
      "ipykernel is installed.\n",
      "\u001b[91mmissing fuzzy.\u001b[0m\n"
     ]
    }
   ],
   "source": [
    "import importlib\n",
    "\n",
    "def check_libraries_from_yaml(yaml_file: str):\n",
    "    with open(yaml_file, 'r') as _file:\n",
    "        dependencies = []\n",
    "        is_dependencies_section = False\n",
    "\n",
    "        for _line in _file:\n",
    "            _line = _line.strip()\n",
    "\n",
    "            if _line.startswith('dependencies:'):\n",
    "                is_dependencies_section = True\n",
    "                continue\n",
    "            \n",
    "            if is_dependencies_section and _line.startswith('-'):\n",
    "                dependency = _line[1:].strip()\n",
    "                if dependency:\n",
    "                    dependencies.append(dependency)\n",
    "        \n",
    "        for _dependency in dependencies:\n",
    "            library_name = extract_library_name(_dependency)\n",
    "            check_library(library_name)\n",
    "\n",
    "def extract_library_name(_dependency_line: str):\n",
    "    if '=' in _dependency_line:\n",
    "        return _dependency_line.split('==')[0].strip()\n",
    "    else:\n",
    "        return _dependency_line\n",
    "\n",
    "\n",
    "def check_library(library: str):\n",
    "    CRED = '\\033[91m'\n",
    "    CEND = '\\033[0m'\n",
    "\n",
    "    # Exceptions\n",
    "    if library == 'python': \n",
    "        return\n",
    "    if library == 'scikit-learn':\n",
    "        library = 'sklearn'\n",
    "\n",
    "    try:\n",
    "        importlib.import_module(library)\n",
    "        print(f\"{library} is installed.\")\n",
    "    except ImportError:\n",
    "        print(CRED+f\"missing {library}.\"+CEND)\n",
    "\n",
    "if __name__ == \"__main__\":\n",
    "    check_libraries_from_yaml(yaml_file='environment.yml')"
   ]
  },
  {
   "cell_type": "code",
   "execution_count": null,
   "metadata": {},
   "outputs": [],
   "source": []
  }
 ],
 "metadata": {
  "kernelspec": {
   "display_name": "em_bootcathon_env",
   "language": "python",
   "name": "em_bootcathon_env"
  },
  "language_info": {
   "codemirror_mode": {
    "name": "ipython",
    "version": 3
   },
   "file_extension": ".py",
   "mimetype": "text/x-python",
   "name": "python",
   "nbconvert_exporter": "python",
   "pygments_lexer": "ipython3",
   "version": "3.10.0"
  }
 },
 "nbformat": 4,
 "nbformat_minor": 2
}
