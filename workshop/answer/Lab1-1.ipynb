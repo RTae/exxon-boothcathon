{
 "cells": [
  {
   "cell_type": "markdown",
   "id": "f55f30b6",
   "metadata": {},
   "source": [
    "# Machine Learning"
   ]
  },
  {
   "cell_type": "markdown",
   "id": "9857cd2d",
   "metadata": {},
   "source": [
    "### 1. Can you project the sales amount in each nation in the next ... months/ years?  "
   ]
  },
  {
   "cell_type": "markdown",
   "metadata": {},
   "source": [
    "## Import Library"
   ]
  },
  {
   "cell_type": "code",
   "execution_count": null,
   "id": "48344089",
   "metadata": {},
   "outputs": [],
   "source": [
    "# Import Library\n",
    "import pandas as pd\n",
    "import os\n",
    "\n",
    "import matplotlib.pyplot as plt\n",
    "\n",
    "from sklearn.linear_model import LinearRegression\n",
    "from sklearn.model_selection import train_test_split\n",
    "from sklearn.metrics import mean_squared_error, r2_score\n",
    "from sklearn.preprocessing import OneHotEncoder\n",
    "from sklearn.compose import ColumnTransformer\n",
    "from sklearn.pipeline import Pipeline\n",
    "\n",
    "\n",
    "pd.options.mode.chained_assignment = None\n",
    "pd.options.display.float_format = '{:.2f}'.format"
   ]
  },
  {
   "cell_type": "markdown",
   "metadata": {},
   "source": [
    "## Prepare Data"
   ]
  },
  {
   "cell_type": "code",
   "execution_count": null,
   "id": "bba05664",
   "metadata": {},
   "outputs": [],
   "source": [
    "data_dir = \"clean_data\"\n",
    "OCNR = pd.read_csv(f\"{data_dir}/OCNR.csv\")\n",
    "SNR = pd.read_csv(f\"{data_dir}/SNR.csv\")\n",
    "L = pd.read_csv(f\"{data_dir}/L.csv\")\n",
    "P = pd.read_csv(f\"{data_dir}/P.csv\")\n",
    "PS = pd.read_csv(f\"{data_dir}/PS.csv\")"
   ]
  },
  {
   "cell_type": "code",
   "execution_count": null,
   "metadata": {},
   "outputs": [],
   "source": [
    "LOCNR = pd.merge(left = L,\n",
    "                 right=OCNR,\n",
    "                 left_on='L_ORDERKEY',\n",
    "                 right_on='O_ORDERKEY',\n",
    "                 how='inner')"
   ]
  },
  {
   "cell_type": "code",
   "execution_count": null,
   "metadata": {},
   "outputs": [],
   "source": [
    "AGG_df = LOCNR.groupby(['C_NATION','C_REGION','O_ORDERYEAR','O_ORDERMONTH'],as_index=False).agg({\n",
    "    'L_QUANTITY':'sum',\n",
    "    'L_DISCOUNT':'mean',\n",
    "    'L_EXTENDEDPRICE':'mean',\n",
    "    'L_TAX':'mean',\n",
    "    'LEADDAY':'mean',\n",
    "    'O_TOTALPRICE':'sum'\n",
    "})"
   ]
  },
  {
   "cell_type": "code",
   "execution_count": null,
   "metadata": {},
   "outputs": [],
   "source": [
    "AGG_df.head()"
   ]
  },
  {
   "cell_type": "code",
   "execution_count": null,
   "metadata": {},
   "outputs": [],
   "source": [
    "AGG_df['MONTHYEAR'] = pd.to_datetime(dict(year=AGG_df.O_ORDERYEAR, month=AGG_df.O_ORDERMONTH, day=1))"
   ]
  },
  {
   "cell_type": "markdown",
   "id": "cc43d27a",
   "metadata": {},
   "source": [
    "## Linear Regression"
   ]
  },
  {
   "cell_type": "markdown",
   "id": "06c61829",
   "metadata": {},
   "source": [
    "### Split by Nation"
   ]
  },
  {
   "cell_type": "code",
   "execution_count": null,
   "metadata": {},
   "outputs": [],
   "source": [
    "by_nations = []\n",
    "for nation in AGG_df['C_NATION'].unique():\n",
    "    nation_df = AGG_df[AGG_df['C_NATION']==nation]\n",
    "    by_nations.append(nation_df)"
   ]
  },
  {
   "cell_type": "markdown",
   "id": "e99478cb",
   "metadata": {},
   "source": [
    "### Train Model"
   ]
  },
  {
   "cell_type": "code",
   "execution_count": null,
   "metadata": {},
   "outputs": [],
   "source": [
    "# Predict totalprice up to a specified end date\n",
    "def predict_totaL_price_until_date(_df: pd.DataFrame, end_date:str, model: Pipeline):\n",
    "    _nation = _df['C_NATION'].iloc[0]\n",
    "    _region = _df['C_REGION'].iloc[0]\n",
    "\n",
    "    # Convert back to datetime to generate period via date_range\n",
    "    _df['MONTHYEAR'] = pd.to_datetime(_df['MONTHYEAR'], format='%Y%m')\n",
    "\n",
    "    # Create a DataFrame for prediction up to end_date\n",
    "    future_dates = pd.date_range(start=_df['MONTHYEAR'].max(), end=end_date, freq='ME').to_period('M').strftime('%Y%m')\n",
    "    future_df = pd.DataFrame({\n",
    "        'C_REGION': [f'{_region}'] * len(future_dates),\n",
    "        'C_NATION': [f'{_nation}'] * len(future_dates),\n",
    "        'MONTHYEAR': future_dates\n",
    "    })\n",
    "\n",
    "    # Converse into one format yyyymm\n",
    "    _df['MONTHYEAR'] = _df['MONTHYEAR'].dt.strftime('%Y%m')\n",
    "    _df = pd.concat([_df, future_df])\n",
    "\n",
    "    # Ensure monthyear is eligible datetype\n",
    "    # Re-convert monthyear from period (date_range) back to int\n",
    "    _df['MONTHYEAR'] = _df['MONTHYEAR'].astype(int)\n",
    "    _df['PREDICTEDTOTALPRICE'] = model.predict(_df[['C_REGION', 'C_NATION', 'MONTHYEAR']])\n",
    "    \n",
    "    return _df\n",
    "\n",
    "# Plotting\n",
    "def plot_actual_vs_predicted(_df: pd.DataFrame):\n",
    "    # String of nation name\n",
    "    _nation_str = _df['C_NATION'].iloc[0].lower()\n",
    "    # _dates = _df['MONTHYEAR'].unique()\n",
    "    # _min_date = pd.to_datetime(min(_dates))\n",
    "    # _max_date = pd.to_datetime(max(_dates))\n",
    "\n",
    "    # Plot the results\n",
    "    plt.figure(figsize=(10, 6))\n",
    "\n",
    "    # Plot actual TOTAL_PRICE\n",
    "    plt.scatter(_df['MONTHYEAR'],\n",
    "             _df['O_TOTALPRICE'],\n",
    "             marker='o',\n",
    "             color='b',\n",
    "             label='Actual TOTAL PRICE'\n",
    "             )\n",
    "    \n",
    "    # Plot predicted TOTAL_PRICE for the entire dataset\n",
    "    plt.plot(_df['MONTHYEAR'],\n",
    "             _df['PREDICTEDTOTALPRICE'],\n",
    "             marker='o',\n",
    "             linestyle='-',\n",
    "             color='r',\n",
    "             label='PREDICTED TOTAL PRICE'\n",
    "             )\n",
    "    # plt.xlim(_min_date,_max_date)\n",
    "\n",
    "    plt.xlabel('MONTH YEAR')\n",
    "    plt.ylabel('TOTAL PRICE')\n",
    "    plt.title(f'{_nation_str.upper()}')\n",
    "    plt.xticks(rotation=45)\n",
    "    plt.legend()\n",
    "    plt.grid(True)\n",
    "    plt.tight_layout()\n",
    "\n",
    "    return plt"
   ]
  },
  {
   "cell_type": "markdown",
   "id": "6d671bde",
   "metadata": {},
   "source": [
    "### Result"
   ]
  },
  {
   "cell_type": "code",
   "execution_count": null,
   "metadata": {},
   "outputs": [],
   "source": [
    "results = []\n",
    "result_df = pd.DataFrame()\n",
    "\n",
    "# _i=0\n",
    "# by_nations = []\n",
    "# for nation in AGG_df['C_NATION'].unique():\n",
    "#     nation_df = AGG_df[AGG_df['C_NATION']==nation]\n",
    "#     by_nations.append(nation_df)\n",
    "# for _nation_df in by_nations:\n",
    "\n",
    "for _i, (nation, _nation_df) in enumerate(AGG_df.groupby(\"C_NATION\")):\n",
    "    # Define feature, yhat\n",
    "    X = _nation_df[['C_REGION', 'C_NATION', 'MONTHYEAR']]\n",
    "    y = _nation_df['O_TOTALPRICE']\n",
    "\n",
    "    # String of nation name\n",
    "    _nation_str = X['C_NATION'].iloc[0].lower()\n",
    "\n",
    "    # Ensure monthyear is eligible datetype\n",
    "    X['MONTHYEAR'] = X['MONTHYEAR'].dt.strftime('%Y%m').astype(int)\n",
    "\n",
    "    # One-hot encode, categorical varialbels using sklearn column transformer\n",
    "    _preprocessor = ColumnTransformer(\n",
    "        transformers=[\n",
    "            # drop first category in each feature\n",
    "            # Default is None\n",
    "            ('category', OneHotEncoder(drop='first'), ['C_REGION', 'C_NATION'])\n",
    "        ],\n",
    "        remainder='passthrough' # don't encode month year\n",
    "    )\n",
    "\n",
    "    # Create a pipeline with preprocessor and Linear Regression model\n",
    "    model = Pipeline(steps=[\n",
    "        ('preprocessor', _preprocessor),\n",
    "        ('regressor', LinearRegression())\n",
    "    ])\n",
    "\n",
    "    # Split the data into training and test sets\n",
    "    X_train, X_test, y_train, y_test = train_test_split(X, y, test_size=0.2, random_state=1234) # random state is basically random seed\n",
    "\n",
    "    # Fit the model\n",
    "    model.fit(X, y)\n",
    "\n",
    "    # Predictions\n",
    "    y_pred = model.predict(X_test)\n",
    "\n",
    "    # Evaluate the model\n",
    "    mse = mean_squared_error(y_test, y_pred)\n",
    "    r2 = r2_score(y_test, y_pred)\n",
    "\n",
    "    # Print immediate result\n",
    "    print('___________________________')\n",
    "    print(f'Country: {_nation_str}')\n",
    "    print(f'Mean Squared Error: {mse}')\n",
    "    print(f'R-squared: {r2}')\n",
    "\n",
    "    # Get model coefficients\n",
    "    regressor = model.named_steps['regressor']\n",
    "    feature_names = _preprocessor.named_transformers_['category'].get_feature_names_out(['C_REGION', 'C_NATION']).tolist() + ['MONTHYEAR']\n",
    "    coefficients = regressor.coef_\n",
    "\n",
    "    print('Coefficients:')\n",
    "    for feature, coef in zip(feature_names, coefficients):\n",
    "        print(f'{feature}: {coef}')\n",
    "\n",
    "    # Specify the end date for predictions\n",
    "    end_date = '2000-03-01'\n",
    "\n",
    "    # Combine back X and y\n",
    "    X = pd.concat([X, y], axis=1)\n",
    "    X = X.sort_values(by=['MONTHYEAR'])\n",
    "\n",
    "    # Predict TOTAL_PRICE up to the specified end date\n",
    "    _extented_df = predict_totaL_price_until_date(X, end_date, model)\n",
    "    \n",
    "    # Convert back to datetime for X axis\n",
    "    _extented_df['MONTHYEAR'] = pd.to_datetime(_extented_df['MONTHYEAR'], format='%Y%m')\n",
    "\n",
    "    # Plot\n",
    "    _plot = plot_actual_vs_predicted(_extented_df)\n",
    "\n",
    "    results.append((_i, _nation_str, _extented_df, model, _plot))\n",
    "    result_df = pd.concat([result_df, _extented_df])\n",
    "    # _i+=1"
   ]
  },
  {
   "cell_type": "markdown",
   "id": "8fe532b2",
   "metadata": {},
   "source": [
    "## Download Data"
   ]
  },
  {
   "cell_type": "code",
   "execution_count": null,
   "id": "432e9509",
   "metadata": {},
   "outputs": [],
   "source": [
    "#Create output folder if not exist\n",
    "if not os.path.exists(\"output\"):\n",
    "    os.makedirs(\"output\")\n",
    "\n",
    "data_dir = \"output\"\n",
    "\n",
    "#Download modeled data into output folder\n",
    "result_df.to_csv(f\"{data_dir}/Lab1-1.csv\")"
   ]
  }
 ],
 "metadata": {
  "kernelspec": {
   "display_name": "em_bootcathon_env",
   "language": "python",
   "name": "em_bootcathon_env"
  },
  "language_info": {
   "codemirror_mode": {
    "name": "ipython",
    "version": 3
   },
   "file_extension": ".py",
   "mimetype": "text/x-python",
   "name": "python",
   "nbconvert_exporter": "python",
   "pygments_lexer": "ipython3",
   "version": "3.10.0"
  }
 },
 "nbformat": 4,
 "nbformat_minor": 5
}
